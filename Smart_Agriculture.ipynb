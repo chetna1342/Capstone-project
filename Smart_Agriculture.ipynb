{
 "cells": [
  {
   "cell_type": "markdown",
   "id": "8ae2cb79",
   "metadata": {},
   "source": [
    "# Importing Libraries"
   ]
  },
  {
   "cell_type": "code",
   "execution_count": 653,
   "id": "20685a18",
   "metadata": {},
   "outputs": [],
   "source": [
    "import pandas as pd\n",
    "import numpy as np\n",
    "import matplotlib.pyplot as plt\n",
    "import seaborn as sns\n",
    "import warnings\n",
    "warnings.filterwarnings('ignore')"
   ]
  },
  {
   "cell_type": "markdown",
   "id": "a20ab80a",
   "metadata": {},
   "source": [
    "# Loading and reading the data"
   ]
  },
  {
   "cell_type": "code",
   "execution_count": 654,
   "id": "b14b9089",
   "metadata": {},
   "outputs": [
    {
     "data": {
      "text/html": [
       "<div>\n",
       "<style scoped>\n",
       "    .dataframe tbody tr th:only-of-type {\n",
       "        vertical-align: middle;\n",
       "    }\n",
       "\n",
       "    .dataframe tbody tr th {\n",
       "        vertical-align: top;\n",
       "    }\n",
       "\n",
       "    .dataframe thead th {\n",
       "        text-align: right;\n",
       "    }\n",
       "</style>\n",
       "<table border=\"1\" class=\"dataframe\">\n",
       "  <thead>\n",
       "    <tr style=\"text-align: right;\">\n",
       "      <th></th>\n",
       "      <th>N</th>\n",
       "      <th>P</th>\n",
       "      <th>K</th>\n",
       "      <th>temperature</th>\n",
       "      <th>humidity</th>\n",
       "      <th>ph</th>\n",
       "      <th>rainfall</th>\n",
       "      <th>label</th>\n",
       "    </tr>\n",
       "  </thead>\n",
       "  <tbody>\n",
       "    <tr>\n",
       "      <th>0</th>\n",
       "      <td>90</td>\n",
       "      <td>42</td>\n",
       "      <td>43</td>\n",
       "      <td>20.879744</td>\n",
       "      <td>82.002744</td>\n",
       "      <td>6.502985</td>\n",
       "      <td>202.935536</td>\n",
       "      <td>rice</td>\n",
       "    </tr>\n",
       "    <tr>\n",
       "      <th>1</th>\n",
       "      <td>85</td>\n",
       "      <td>58</td>\n",
       "      <td>41</td>\n",
       "      <td>21.770462</td>\n",
       "      <td>80.319644</td>\n",
       "      <td>7.038096</td>\n",
       "      <td>226.655537</td>\n",
       "      <td>rice</td>\n",
       "    </tr>\n",
       "    <tr>\n",
       "      <th>2</th>\n",
       "      <td>60</td>\n",
       "      <td>55</td>\n",
       "      <td>44</td>\n",
       "      <td>23.004459</td>\n",
       "      <td>82.320763</td>\n",
       "      <td>7.840207</td>\n",
       "      <td>263.964248</td>\n",
       "      <td>rice</td>\n",
       "    </tr>\n",
       "    <tr>\n",
       "      <th>3</th>\n",
       "      <td>74</td>\n",
       "      <td>35</td>\n",
       "      <td>40</td>\n",
       "      <td>26.491096</td>\n",
       "      <td>80.158363</td>\n",
       "      <td>6.980401</td>\n",
       "      <td>242.864034</td>\n",
       "      <td>rice</td>\n",
       "    </tr>\n",
       "    <tr>\n",
       "      <th>4</th>\n",
       "      <td>78</td>\n",
       "      <td>42</td>\n",
       "      <td>42</td>\n",
       "      <td>20.130175</td>\n",
       "      <td>81.604873</td>\n",
       "      <td>7.628473</td>\n",
       "      <td>262.717340</td>\n",
       "      <td>rice</td>\n",
       "    </tr>\n",
       "    <tr>\n",
       "      <th>...</th>\n",
       "      <td>...</td>\n",
       "      <td>...</td>\n",
       "      <td>...</td>\n",
       "      <td>...</td>\n",
       "      <td>...</td>\n",
       "      <td>...</td>\n",
       "      <td>...</td>\n",
       "      <td>...</td>\n",
       "    </tr>\n",
       "    <tr>\n",
       "      <th>2195</th>\n",
       "      <td>107</td>\n",
       "      <td>34</td>\n",
       "      <td>32</td>\n",
       "      <td>26.774637</td>\n",
       "      <td>66.413269</td>\n",
       "      <td>6.780064</td>\n",
       "      <td>177.774507</td>\n",
       "      <td>coffee</td>\n",
       "    </tr>\n",
       "    <tr>\n",
       "      <th>2196</th>\n",
       "      <td>99</td>\n",
       "      <td>15</td>\n",
       "      <td>27</td>\n",
       "      <td>27.417112</td>\n",
       "      <td>56.636362</td>\n",
       "      <td>6.086922</td>\n",
       "      <td>127.924610</td>\n",
       "      <td>coffee</td>\n",
       "    </tr>\n",
       "    <tr>\n",
       "      <th>2197</th>\n",
       "      <td>118</td>\n",
       "      <td>33</td>\n",
       "      <td>30</td>\n",
       "      <td>24.131797</td>\n",
       "      <td>67.225123</td>\n",
       "      <td>6.362608</td>\n",
       "      <td>173.322839</td>\n",
       "      <td>coffee</td>\n",
       "    </tr>\n",
       "    <tr>\n",
       "      <th>2198</th>\n",
       "      <td>117</td>\n",
       "      <td>32</td>\n",
       "      <td>34</td>\n",
       "      <td>26.272418</td>\n",
       "      <td>52.127394</td>\n",
       "      <td>6.758793</td>\n",
       "      <td>127.175293</td>\n",
       "      <td>coffee</td>\n",
       "    </tr>\n",
       "    <tr>\n",
       "      <th>2199</th>\n",
       "      <td>104</td>\n",
       "      <td>18</td>\n",
       "      <td>30</td>\n",
       "      <td>23.603016</td>\n",
       "      <td>60.396475</td>\n",
       "      <td>6.779833</td>\n",
       "      <td>140.937041</td>\n",
       "      <td>coffee</td>\n",
       "    </tr>\n",
       "  </tbody>\n",
       "</table>\n",
       "<p>2200 rows × 8 columns</p>\n",
       "</div>"
      ],
      "text/plain": [
       "        N   P   K  temperature   humidity        ph    rainfall   label\n",
       "0      90  42  43    20.879744  82.002744  6.502985  202.935536    rice\n",
       "1      85  58  41    21.770462  80.319644  7.038096  226.655537    rice\n",
       "2      60  55  44    23.004459  82.320763  7.840207  263.964248    rice\n",
       "3      74  35  40    26.491096  80.158363  6.980401  242.864034    rice\n",
       "4      78  42  42    20.130175  81.604873  7.628473  262.717340    rice\n",
       "...   ...  ..  ..          ...        ...       ...         ...     ...\n",
       "2195  107  34  32    26.774637  66.413269  6.780064  177.774507  coffee\n",
       "2196   99  15  27    27.417112  56.636362  6.086922  127.924610  coffee\n",
       "2197  118  33  30    24.131797  67.225123  6.362608  173.322839  coffee\n",
       "2198  117  32  34    26.272418  52.127394  6.758793  127.175293  coffee\n",
       "2199  104  18  30    23.603016  60.396475  6.779833  140.937041  coffee\n",
       "\n",
       "[2200 rows x 8 columns]"
      ]
     },
     "execution_count": 654,
     "metadata": {},
     "output_type": "execute_result"
    }
   ],
   "source": [
    "#Read the data set\n",
    "data = pd.read_csv(\"C:/Users/chetna.singh/Desktop/dataset/smart_Agriculture.csv\")\n",
    "data"
   ]
  },
  {
   "cell_type": "markdown",
   "id": "3516980d",
   "metadata": {},
   "source": [
    "# Understand the problem statement\n",
    "In this dataset we have 2200 rows and 8 columns,the dataset contains qualitative(categorical) and quantitave(numerical) data.This is a dataset which is used to present the crop for the suitable soil and this will be very useful in crop production (Agriculture) without looses based on soli ph, rainfall, humadity and other chemical components present in the soil. Here, By seeing the the dataset we come to know that label is our dependent variable and remaining is independent Variables."
   ]
  },
  {
   "cell_type": "code",
   "execution_count": 655,
   "id": "2fcbc75c",
   "metadata": {},
   "outputs": [
    {
     "data": {
      "text/plain": [
       "(2200, 8)"
      ]
     },
     "execution_count": 655,
     "metadata": {},
     "output_type": "execute_result"
    }
   ],
   "source": [
    "#finding the total number of rows and columns\n",
    "data.shape"
   ]
  },
  {
   "cell_type": "code",
   "execution_count": 656,
   "id": "b2ae6737",
   "metadata": {},
   "outputs": [
    {
     "data": {
      "text/plain": [
       "N                int64\n",
       "P                int64\n",
       "K                int64\n",
       "temperature    float64\n",
       "humidity       float64\n",
       "ph             float64\n",
       "rainfall       float64\n",
       "label           object\n",
       "dtype: object"
      ]
     },
     "execution_count": 656,
     "metadata": {},
     "output_type": "execute_result"
    }
   ],
   "source": [
    "# check the datatype of the feature\n",
    "data.dtypes"
   ]
  },
  {
   "cell_type": "code",
   "execution_count": 657,
   "id": "1dd87352",
   "metadata": {},
   "outputs": [
    {
     "data": {
      "text/html": [
       "<div>\n",
       "<style scoped>\n",
       "    .dataframe tbody tr th:only-of-type {\n",
       "        vertical-align: middle;\n",
       "    }\n",
       "\n",
       "    .dataframe tbody tr th {\n",
       "        vertical-align: top;\n",
       "    }\n",
       "\n",
       "    .dataframe thead th {\n",
       "        text-align: right;\n",
       "    }\n",
       "</style>\n",
       "<table border=\"1\" class=\"dataframe\">\n",
       "  <thead>\n",
       "    <tr style=\"text-align: right;\">\n",
       "      <th></th>\n",
       "      <th>N</th>\n",
       "      <th>P</th>\n",
       "      <th>K</th>\n",
       "      <th>temperature</th>\n",
       "      <th>humidity</th>\n",
       "      <th>ph</th>\n",
       "      <th>rainfall</th>\n",
       "      <th>label</th>\n",
       "    </tr>\n",
       "  </thead>\n",
       "  <tbody>\n",
       "    <tr>\n",
       "      <th>0</th>\n",
       "      <td>90</td>\n",
       "      <td>42</td>\n",
       "      <td>43</td>\n",
       "      <td>20.879744</td>\n",
       "      <td>82.002744</td>\n",
       "      <td>6.502985</td>\n",
       "      <td>202.935536</td>\n",
       "      <td>rice</td>\n",
       "    </tr>\n",
       "    <tr>\n",
       "      <th>1</th>\n",
       "      <td>85</td>\n",
       "      <td>58</td>\n",
       "      <td>41</td>\n",
       "      <td>21.770462</td>\n",
       "      <td>80.319644</td>\n",
       "      <td>7.038096</td>\n",
       "      <td>226.655537</td>\n",
       "      <td>rice</td>\n",
       "    </tr>\n",
       "    <tr>\n",
       "      <th>2</th>\n",
       "      <td>60</td>\n",
       "      <td>55</td>\n",
       "      <td>44</td>\n",
       "      <td>23.004459</td>\n",
       "      <td>82.320763</td>\n",
       "      <td>7.840207</td>\n",
       "      <td>263.964248</td>\n",
       "      <td>rice</td>\n",
       "    </tr>\n",
       "    <tr>\n",
       "      <th>3</th>\n",
       "      <td>74</td>\n",
       "      <td>35</td>\n",
       "      <td>40</td>\n",
       "      <td>26.491096</td>\n",
       "      <td>80.158363</td>\n",
       "      <td>6.980401</td>\n",
       "      <td>242.864034</td>\n",
       "      <td>rice</td>\n",
       "    </tr>\n",
       "    <tr>\n",
       "      <th>4</th>\n",
       "      <td>78</td>\n",
       "      <td>42</td>\n",
       "      <td>42</td>\n",
       "      <td>20.130175</td>\n",
       "      <td>81.604873</td>\n",
       "      <td>7.628473</td>\n",
       "      <td>262.717340</td>\n",
       "      <td>rice</td>\n",
       "    </tr>\n",
       "  </tbody>\n",
       "</table>\n",
       "</div>"
      ],
      "text/plain": [
       "    N   P   K  temperature   humidity        ph    rainfall label\n",
       "0  90  42  43    20.879744  82.002744  6.502985  202.935536  rice\n",
       "1  85  58  41    21.770462  80.319644  7.038096  226.655537  rice\n",
       "2  60  55  44    23.004459  82.320763  7.840207  263.964248  rice\n",
       "3  74  35  40    26.491096  80.158363  6.980401  242.864034  rice\n",
       "4  78  42  42    20.130175  81.604873  7.628473  262.717340  rice"
      ]
     },
     "execution_count": 657,
     "metadata": {},
     "output_type": "execute_result"
    }
   ],
   "source": [
    "#check the first 5 rows\n",
    "data.head()"
   ]
  },
  {
   "cell_type": "code",
   "execution_count": 658,
   "id": "6474fb22",
   "metadata": {},
   "outputs": [
    {
     "data": {
      "text/html": [
       "<div>\n",
       "<style scoped>\n",
       "    .dataframe tbody tr th:only-of-type {\n",
       "        vertical-align: middle;\n",
       "    }\n",
       "\n",
       "    .dataframe tbody tr th {\n",
       "        vertical-align: top;\n",
       "    }\n",
       "\n",
       "    .dataframe thead th {\n",
       "        text-align: right;\n",
       "    }\n",
       "</style>\n",
       "<table border=\"1\" class=\"dataframe\">\n",
       "  <thead>\n",
       "    <tr style=\"text-align: right;\">\n",
       "      <th></th>\n",
       "      <th>N</th>\n",
       "      <th>P</th>\n",
       "      <th>K</th>\n",
       "      <th>temperature</th>\n",
       "      <th>humidity</th>\n",
       "      <th>ph</th>\n",
       "      <th>rainfall</th>\n",
       "      <th>label</th>\n",
       "    </tr>\n",
       "  </thead>\n",
       "  <tbody>\n",
       "    <tr>\n",
       "      <th>2195</th>\n",
       "      <td>107</td>\n",
       "      <td>34</td>\n",
       "      <td>32</td>\n",
       "      <td>26.774637</td>\n",
       "      <td>66.413269</td>\n",
       "      <td>6.780064</td>\n",
       "      <td>177.774507</td>\n",
       "      <td>coffee</td>\n",
       "    </tr>\n",
       "    <tr>\n",
       "      <th>2196</th>\n",
       "      <td>99</td>\n",
       "      <td>15</td>\n",
       "      <td>27</td>\n",
       "      <td>27.417112</td>\n",
       "      <td>56.636362</td>\n",
       "      <td>6.086922</td>\n",
       "      <td>127.924610</td>\n",
       "      <td>coffee</td>\n",
       "    </tr>\n",
       "    <tr>\n",
       "      <th>2197</th>\n",
       "      <td>118</td>\n",
       "      <td>33</td>\n",
       "      <td>30</td>\n",
       "      <td>24.131797</td>\n",
       "      <td>67.225123</td>\n",
       "      <td>6.362608</td>\n",
       "      <td>173.322839</td>\n",
       "      <td>coffee</td>\n",
       "    </tr>\n",
       "    <tr>\n",
       "      <th>2198</th>\n",
       "      <td>117</td>\n",
       "      <td>32</td>\n",
       "      <td>34</td>\n",
       "      <td>26.272418</td>\n",
       "      <td>52.127394</td>\n",
       "      <td>6.758793</td>\n",
       "      <td>127.175293</td>\n",
       "      <td>coffee</td>\n",
       "    </tr>\n",
       "    <tr>\n",
       "      <th>2199</th>\n",
       "      <td>104</td>\n",
       "      <td>18</td>\n",
       "      <td>30</td>\n",
       "      <td>23.603016</td>\n",
       "      <td>60.396475</td>\n",
       "      <td>6.779833</td>\n",
       "      <td>140.937041</td>\n",
       "      <td>coffee</td>\n",
       "    </tr>\n",
       "  </tbody>\n",
       "</table>\n",
       "</div>"
      ],
      "text/plain": [
       "        N   P   K  temperature   humidity        ph    rainfall   label\n",
       "2195  107  34  32    26.774637  66.413269  6.780064  177.774507  coffee\n",
       "2196   99  15  27    27.417112  56.636362  6.086922  127.924610  coffee\n",
       "2197  118  33  30    24.131797  67.225123  6.362608  173.322839  coffee\n",
       "2198  117  32  34    26.272418  52.127394  6.758793  127.175293  coffee\n",
       "2199  104  18  30    23.603016  60.396475  6.779833  140.937041  coffee"
      ]
     },
     "execution_count": 658,
     "metadata": {},
     "output_type": "execute_result"
    }
   ],
   "source": [
    "#check the last 5 rows\n",
    "data.tail()"
   ]
  },
  {
   "cell_type": "code",
   "execution_count": 659,
   "id": "7c73559b",
   "metadata": {},
   "outputs": [
    {
     "name": "stdout",
     "output_type": "stream",
     "text": [
      "<class 'pandas.core.frame.DataFrame'>\n",
      "RangeIndex: 2200 entries, 0 to 2199\n",
      "Data columns (total 8 columns):\n",
      " #   Column       Non-Null Count  Dtype  \n",
      "---  ------       --------------  -----  \n",
      " 0   N            2200 non-null   int64  \n",
      " 1   P            2200 non-null   int64  \n",
      " 2   K            2200 non-null   int64  \n",
      " 3   temperature  2200 non-null   float64\n",
      " 4   humidity     2200 non-null   float64\n",
      " 5   ph           2200 non-null   float64\n",
      " 6   rainfall     2200 non-null   float64\n",
      " 7   label        2200 non-null   object \n",
      "dtypes: float64(4), int64(3), object(1)\n",
      "memory usage: 137.6+ KB\n"
     ]
    }
   ],
   "source": [
    "#check the basic info of the columns and datatype\n",
    "data.info()"
   ]
  },
  {
   "cell_type": "code",
   "execution_count": 660,
   "id": "1a39fab6",
   "metadata": {},
   "outputs": [
    {
     "data": {
      "text/html": [
       "<div>\n",
       "<style scoped>\n",
       "    .dataframe tbody tr th:only-of-type {\n",
       "        vertical-align: middle;\n",
       "    }\n",
       "\n",
       "    .dataframe tbody tr th {\n",
       "        vertical-align: top;\n",
       "    }\n",
       "\n",
       "    .dataframe thead th {\n",
       "        text-align: right;\n",
       "    }\n",
       "</style>\n",
       "<table border=\"1\" class=\"dataframe\">\n",
       "  <thead>\n",
       "    <tr style=\"text-align: right;\">\n",
       "      <th></th>\n",
       "      <th>N</th>\n",
       "      <th>P</th>\n",
       "      <th>K</th>\n",
       "      <th>temperature</th>\n",
       "      <th>humidity</th>\n",
       "      <th>ph</th>\n",
       "      <th>rainfall</th>\n",
       "    </tr>\n",
       "  </thead>\n",
       "  <tbody>\n",
       "    <tr>\n",
       "      <th>count</th>\n",
       "      <td>2200.000000</td>\n",
       "      <td>2200.000000</td>\n",
       "      <td>2200.000000</td>\n",
       "      <td>2200.000000</td>\n",
       "      <td>2200.000000</td>\n",
       "      <td>2200.000000</td>\n",
       "      <td>2200.000000</td>\n",
       "    </tr>\n",
       "    <tr>\n",
       "      <th>mean</th>\n",
       "      <td>50.551818</td>\n",
       "      <td>53.362727</td>\n",
       "      <td>48.149091</td>\n",
       "      <td>25.616244</td>\n",
       "      <td>71.481779</td>\n",
       "      <td>6.469480</td>\n",
       "      <td>103.463655</td>\n",
       "    </tr>\n",
       "    <tr>\n",
       "      <th>std</th>\n",
       "      <td>36.917334</td>\n",
       "      <td>32.985883</td>\n",
       "      <td>50.647931</td>\n",
       "      <td>5.063749</td>\n",
       "      <td>22.263812</td>\n",
       "      <td>0.773938</td>\n",
       "      <td>54.958389</td>\n",
       "    </tr>\n",
       "    <tr>\n",
       "      <th>min</th>\n",
       "      <td>0.000000</td>\n",
       "      <td>5.000000</td>\n",
       "      <td>5.000000</td>\n",
       "      <td>8.825675</td>\n",
       "      <td>14.258040</td>\n",
       "      <td>3.504752</td>\n",
       "      <td>20.211267</td>\n",
       "    </tr>\n",
       "    <tr>\n",
       "      <th>25%</th>\n",
       "      <td>21.000000</td>\n",
       "      <td>28.000000</td>\n",
       "      <td>20.000000</td>\n",
       "      <td>22.769375</td>\n",
       "      <td>60.261953</td>\n",
       "      <td>5.971693</td>\n",
       "      <td>64.551686</td>\n",
       "    </tr>\n",
       "    <tr>\n",
       "      <th>50%</th>\n",
       "      <td>37.000000</td>\n",
       "      <td>51.000000</td>\n",
       "      <td>32.000000</td>\n",
       "      <td>25.598693</td>\n",
       "      <td>80.473146</td>\n",
       "      <td>6.425045</td>\n",
       "      <td>94.867624</td>\n",
       "    </tr>\n",
       "    <tr>\n",
       "      <th>75%</th>\n",
       "      <td>84.250000</td>\n",
       "      <td>68.000000</td>\n",
       "      <td>49.000000</td>\n",
       "      <td>28.561654</td>\n",
       "      <td>89.948771</td>\n",
       "      <td>6.923643</td>\n",
       "      <td>124.267508</td>\n",
       "    </tr>\n",
       "    <tr>\n",
       "      <th>max</th>\n",
       "      <td>140.000000</td>\n",
       "      <td>145.000000</td>\n",
       "      <td>205.000000</td>\n",
       "      <td>43.675493</td>\n",
       "      <td>99.981876</td>\n",
       "      <td>9.935091</td>\n",
       "      <td>298.560117</td>\n",
       "    </tr>\n",
       "  </tbody>\n",
       "</table>\n",
       "</div>"
      ],
      "text/plain": [
       "                 N            P            K  temperature     humidity  \\\n",
       "count  2200.000000  2200.000000  2200.000000  2200.000000  2200.000000   \n",
       "mean     50.551818    53.362727    48.149091    25.616244    71.481779   \n",
       "std      36.917334    32.985883    50.647931     5.063749    22.263812   \n",
       "min       0.000000     5.000000     5.000000     8.825675    14.258040   \n",
       "25%      21.000000    28.000000    20.000000    22.769375    60.261953   \n",
       "50%      37.000000    51.000000    32.000000    25.598693    80.473146   \n",
       "75%      84.250000    68.000000    49.000000    28.561654    89.948771   \n",
       "max     140.000000   145.000000   205.000000    43.675493    99.981876   \n",
       "\n",
       "                ph     rainfall  \n",
       "count  2200.000000  2200.000000  \n",
       "mean      6.469480   103.463655  \n",
       "std       0.773938    54.958389  \n",
       "min       3.504752    20.211267  \n",
       "25%       5.971693    64.551686  \n",
       "50%       6.425045    94.867624  \n",
       "75%       6.923643   124.267508  \n",
       "max       9.935091   298.560117  "
      ]
     },
     "execution_count": 660,
     "metadata": {},
     "output_type": "execute_result"
    }
   ],
   "source": [
    "#statistical info abour feature\n",
    "data.describe()"
   ]
  },
  {
   "cell_type": "markdown",
   "id": "5a7ca84b",
   "metadata": {},
   "source": [
    "# EDA steps"
   ]
  },
  {
   "cell_type": "code",
   "execution_count": 661,
   "id": "31c54cdf",
   "metadata": {},
   "outputs": [
    {
     "data": {
      "text/plain": [
       "N              0\n",
       "P              0\n",
       "K              0\n",
       "temperature    0\n",
       "humidity       0\n",
       "ph             0\n",
       "rainfall       0\n",
       "label          0\n",
       "dtype: int64"
      ]
     },
     "execution_count": 661,
     "metadata": {},
     "output_type": "execute_result"
    }
   ],
   "source": [
    "#checking the null values in given dataset\n",
    "data.isnull().sum()"
   ]
  },
  {
   "cell_type": "code",
   "execution_count": 662,
   "id": "9921ab8d",
   "metadata": {},
   "outputs": [
    {
     "data": {
      "text/html": [
       "<div>\n",
       "<style scoped>\n",
       "    .dataframe tbody tr th:only-of-type {\n",
       "        vertical-align: middle;\n",
       "    }\n",
       "\n",
       "    .dataframe tbody tr th {\n",
       "        vertical-align: top;\n",
       "    }\n",
       "\n",
       "    .dataframe thead th {\n",
       "        text-align: right;\n",
       "    }\n",
       "</style>\n",
       "<table border=\"1\" class=\"dataframe\">\n",
       "  <thead>\n",
       "    <tr style=\"text-align: right;\">\n",
       "      <th></th>\n",
       "      <th>N</th>\n",
       "      <th>P</th>\n",
       "      <th>K</th>\n",
       "      <th>temperature</th>\n",
       "      <th>humidity</th>\n",
       "      <th>ph</th>\n",
       "      <th>rainfall</th>\n",
       "    </tr>\n",
       "  </thead>\n",
       "  <tbody>\n",
       "    <tr>\n",
       "      <th>0</th>\n",
       "      <td>90</td>\n",
       "      <td>42</td>\n",
       "      <td>43</td>\n",
       "      <td>20.879744</td>\n",
       "      <td>82.002744</td>\n",
       "      <td>6.502985</td>\n",
       "      <td>202.935536</td>\n",
       "    </tr>\n",
       "    <tr>\n",
       "      <th>1</th>\n",
       "      <td>85</td>\n",
       "      <td>58</td>\n",
       "      <td>41</td>\n",
       "      <td>21.770462</td>\n",
       "      <td>80.319644</td>\n",
       "      <td>7.038096</td>\n",
       "      <td>226.655537</td>\n",
       "    </tr>\n",
       "    <tr>\n",
       "      <th>2</th>\n",
       "      <td>60</td>\n",
       "      <td>55</td>\n",
       "      <td>44</td>\n",
       "      <td>23.004459</td>\n",
       "      <td>82.320763</td>\n",
       "      <td>7.840207</td>\n",
       "      <td>263.964248</td>\n",
       "    </tr>\n",
       "    <tr>\n",
       "      <th>3</th>\n",
       "      <td>74</td>\n",
       "      <td>35</td>\n",
       "      <td>40</td>\n",
       "      <td>26.491096</td>\n",
       "      <td>80.158363</td>\n",
       "      <td>6.980401</td>\n",
       "      <td>242.864034</td>\n",
       "    </tr>\n",
       "    <tr>\n",
       "      <th>4</th>\n",
       "      <td>78</td>\n",
       "      <td>42</td>\n",
       "      <td>42</td>\n",
       "      <td>20.130175</td>\n",
       "      <td>81.604873</td>\n",
       "      <td>7.628473</td>\n",
       "      <td>262.717340</td>\n",
       "    </tr>\n",
       "    <tr>\n",
       "      <th>...</th>\n",
       "      <td>...</td>\n",
       "      <td>...</td>\n",
       "      <td>...</td>\n",
       "      <td>...</td>\n",
       "      <td>...</td>\n",
       "      <td>...</td>\n",
       "      <td>...</td>\n",
       "    </tr>\n",
       "    <tr>\n",
       "      <th>2195</th>\n",
       "      <td>107</td>\n",
       "      <td>34</td>\n",
       "      <td>32</td>\n",
       "      <td>26.774637</td>\n",
       "      <td>66.413269</td>\n",
       "      <td>6.780064</td>\n",
       "      <td>177.774507</td>\n",
       "    </tr>\n",
       "    <tr>\n",
       "      <th>2196</th>\n",
       "      <td>99</td>\n",
       "      <td>15</td>\n",
       "      <td>27</td>\n",
       "      <td>27.417112</td>\n",
       "      <td>56.636362</td>\n",
       "      <td>6.086922</td>\n",
       "      <td>127.924610</td>\n",
       "    </tr>\n",
       "    <tr>\n",
       "      <th>2197</th>\n",
       "      <td>118</td>\n",
       "      <td>33</td>\n",
       "      <td>30</td>\n",
       "      <td>24.131797</td>\n",
       "      <td>67.225123</td>\n",
       "      <td>6.362608</td>\n",
       "      <td>173.322839</td>\n",
       "    </tr>\n",
       "    <tr>\n",
       "      <th>2198</th>\n",
       "      <td>117</td>\n",
       "      <td>32</td>\n",
       "      <td>34</td>\n",
       "      <td>26.272418</td>\n",
       "      <td>52.127394</td>\n",
       "      <td>6.758793</td>\n",
       "      <td>127.175293</td>\n",
       "    </tr>\n",
       "    <tr>\n",
       "      <th>2199</th>\n",
       "      <td>104</td>\n",
       "      <td>18</td>\n",
       "      <td>30</td>\n",
       "      <td>23.603016</td>\n",
       "      <td>60.396475</td>\n",
       "      <td>6.779833</td>\n",
       "      <td>140.937041</td>\n",
       "    </tr>\n",
       "  </tbody>\n",
       "</table>\n",
       "<p>2200 rows × 7 columns</p>\n",
       "</div>"
      ],
      "text/plain": [
       "        N   P   K  temperature   humidity        ph    rainfall\n",
       "0      90  42  43    20.879744  82.002744  6.502985  202.935536\n",
       "1      85  58  41    21.770462  80.319644  7.038096  226.655537\n",
       "2      60  55  44    23.004459  82.320763  7.840207  263.964248\n",
       "3      74  35  40    26.491096  80.158363  6.980401  242.864034\n",
       "4      78  42  42    20.130175  81.604873  7.628473  262.717340\n",
       "...   ...  ..  ..          ...        ...       ...         ...\n",
       "2195  107  34  32    26.774637  66.413269  6.780064  177.774507\n",
       "2196   99  15  27    27.417112  56.636362  6.086922  127.924610\n",
       "2197  118  33  30    24.131797  67.225123  6.362608  173.322839\n",
       "2198  117  32  34    26.272418  52.127394  6.758793  127.175293\n",
       "2199  104  18  30    23.603016  60.396475  6.779833  140.937041\n",
       "\n",
       "[2200 rows x 7 columns]"
      ]
     },
     "execution_count": 662,
     "metadata": {},
     "output_type": "execute_result"
    }
   ],
   "source": [
    "# Getting numerical data to seperate columns\n",
    "df_num = data.select_dtypes(include=[np.number])\n",
    "df_num"
   ]
  },
  {
   "cell_type": "code",
   "execution_count": 663,
   "id": "bfa3e1b8",
   "metadata": {},
   "outputs": [
    {
     "name": "stdout",
     "output_type": "stream",
     "text": [
      "22\n",
      "['rice' 'maize' 'chickpea' 'kidneybeans' 'pigeonpeas' 'mothbeans'\n",
      " 'mungbean' 'blackgram' 'lentil' 'pomegranate' 'banana' 'mango' 'grapes'\n",
      " 'watermelon' 'muskmelon' 'apple' 'orange' 'papaya' 'coconut' 'cotton'\n",
      " 'jute' 'coffee']\n",
      "lentil         100\n",
      "mungbean       100\n",
      "banana         100\n",
      "grapes         100\n",
      "maize          100\n",
      "pomegranate    100\n",
      "coconut        100\n",
      "coffee         100\n",
      "kidneybeans    100\n",
      "jute           100\n",
      "mango          100\n",
      "pigeonpeas     100\n",
      "cotton         100\n",
      "apple          100\n",
      "watermelon     100\n",
      "chickpea       100\n",
      "blackgram      100\n",
      "muskmelon      100\n",
      "rice           100\n",
      "papaya         100\n",
      "orange         100\n",
      "mothbeans      100\n",
      "Name: label, dtype: int64\n"
     ]
    }
   ],
   "source": [
    "df = data['label'].unique()\n",
    "print(len(df))\n",
    "print(df)\n",
    "print(pd.value_counts(data['label']))"
   ]
  },
  {
   "cell_type": "markdown",
   "id": "e1402c57",
   "metadata": {},
   "source": [
    "# To check the variables that are normally distribute"
   ]
  },
  {
   "cell_type": "code",
   "execution_count": 664,
   "id": "33be179b",
   "metadata": {},
   "outputs": [
    {
     "name": "stdout",
     "output_type": "stream",
     "text": [
      "0.5093737660143558\n"
     ]
    },
    {
     "data": {
      "image/png": "[encoded data removed]",
      "text/plain": [
       "<Figure size 432x288 with 1 Axes>"
      ]
     },
     "metadata": {
      "needs_background": "light"
     },
     "output_type": "display_data"
    },
    {
     "name": "stdout",
     "output_type": "stream",
     "text": [
      "1.0100832494748144\n"
     ]
    },
    {
     "data": {
      "image/png": "[encoded data removed]",
      "text/plain": [
       "<Figure size 432x288 with 1 Axes>"
      ]
     },
     "metadata": {
      "needs_background": "light"
     },
     "output_type": "display_data"
    },
    {
     "name": "stdout",
     "output_type": "stream",
     "text": [
      "2.373547499838119\n"
     ]
    },
    {
     "data": {
      "image/png": "[encoded data removed]",
      "text/plain": [
       "<Figure size 432x288 with 1 Axes>"
      ]
     },
     "metadata": {
      "needs_background": "light"
     },
     "output_type": "display_data"
    },
    {
     "name": "stdout",
     "output_type": "stream",
     "text": [
      "0.18480661982240235\n"
     ]
    },
    {
     "data": {
      "image/png": "[encoded data removed]",
      "text/plain": [
       "<Figure size 432x288 with 1 Axes>"
      ]
     },
     "metadata": {
      "needs_background": "light"
     },
     "output_type": "display_data"
    },
    {
     "name": "stdout",
     "output_type": "stream",
     "text": [
      "-1.090963432252511\n"
     ]
    },
    {
     "data": {
      "image/png": "[encoded data removed]",
      "text/plain": [
       "<Figure size 432x288 with 1 Axes>"
      ]
     },
     "metadata": {
      "needs_background": "light"
     },
     "output_type": "display_data"
    },
    {
     "name": "stdout",
     "output_type": "stream",
     "text": [
      "0.2837358126439416\n"
     ]
    },
    {
     "data": {
      "image/png": "[encoded data removed]",
      "text/plain": [
       "<Figure size 432x288 with 1 Axes>"
      ]
     },
     "metadata": {
      "needs_background": "light"
     },
     "output_type": "display_data"
    },
    {
     "name": "stdout",
     "output_type": "stream",
     "text": [
      "0.9650977586362035\n"
     ]
    },
    {
     "data": {
      "image/png": "[encoded data removed]",
      "text/plain": [
       "<Figure size 432x288 with 1 Axes>"
      ]
     },
     "metadata": {
      "needs_background": "light"
     },
     "output_type": "display_data"
    }
   ],
   "source": [
    "from scipy.stats import skew\n",
    "for col in df_num:\n",
    "    print(skew(df_num[col]))\n",
    "    \n",
    "    plt.figure()\n",
    "    sns.distplot(df_num[col])\n",
    "    plt.show()"
   ]
  },
  {
   "cell_type": "markdown",
   "id": "1d306e26",
   "metadata": {},
   "source": [
    "# OUTLIER TREATMENT"
   ]
  },
  {
   "cell_type": "code",
   "execution_count": 665,
   "id": "75a2e3e9",
   "metadata": {},
   "outputs": [
    {
     "data": {
      "text/plain": [
       "<AxesSubplot:xlabel='N'>"
      ]
     },
     "execution_count": 665,
     "metadata": {},
     "output_type": "execute_result"
    },
    {
     "data": {
      "image/png": "[encoded data removed]",
      "text/plain": [
       "<Figure size 432x288 with 1 Axes>"
      ]
     },
     "metadata": {
      "needs_background": "light"
     },
     "output_type": "display_data"
    }
   ],
   "source": [
    "#checking the outliers in column N using boxplot\n",
    "sns.boxplot(data['N'])"
   ]
  },
  {
   "cell_type": "code",
   "execution_count": 666,
   "id": "8dec755d",
   "metadata": {},
   "outputs": [
    {
     "data": {
      "text/plain": [
       "<AxesSubplot:xlabel='P'>"
      ]
     },
     "execution_count": 666,
     "metadata": {},
     "output_type": "execute_result"
    },
    {
     "data": {
      "image/png": "[encoded data removed]",
      "text/plain": [
       "<Figure size 432x288 with 1 Axes>"
      ]
     },
     "metadata": {
      "needs_background": "light"
     },
     "output_type": "display_data"
    }
   ],
   "source": [
    "#checking the outliers in column P using boxplot\n",
    "sns.boxplot(data['P'])"
   ]
  },
  {
   "cell_type": "code",
   "execution_count": 696,
   "id": "c37b07f4",
   "metadata": {},
   "outputs": [
    {
     "name": "stdout",
     "output_type": "stream",
     "text": [
      "119.5\n",
      "-28.5\n"
     ]
    }
   ],
   "source": [
    "#calculating the quantiles of P\n",
    "q3=data['P'].quantile(0.75)\n",
    "q1=data['P'].quantile(0.25)\n",
    "q2=data['P'].quantile(0.50)\n",
    "\n",
    "IQR = q3-q1\n",
    "#calculating the upperwhisker and lowerwhisker\n",
    "ub = q3+1.5*IQR\n",
    "print(ub)\n",
    "lb = q1-1.5*IQR\n",
    "print(lb)"
   ]
  },
  {
   "cell_type": "code",
   "execution_count": 697,
   "id": "52300d5f",
   "metadata": {},
   "outputs": [
    {
     "data": {
      "text/html": [
       "<div>\n",
       "<style scoped>\n",
       "    .dataframe tbody tr th:only-of-type {\n",
       "        vertical-align: middle;\n",
       "    }\n",
       "\n",
       "    .dataframe tbody tr th {\n",
       "        vertical-align: top;\n",
       "    }\n",
       "\n",
       "    .dataframe thead th {\n",
       "        text-align: right;\n",
       "    }\n",
       "</style>\n",
       "<table border=\"1\" class=\"dataframe\">\n",
       "  <thead>\n",
       "    <tr style=\"text-align: right;\">\n",
       "      <th></th>\n",
       "      <th>N</th>\n",
       "      <th>P</th>\n",
       "      <th>K</th>\n",
       "      <th>temperature</th>\n",
       "      <th>humidity</th>\n",
       "      <th>ph</th>\n",
       "      <th>rainfall</th>\n",
       "      <th>label</th>\n",
       "    </tr>\n",
       "  </thead>\n",
       "  <tbody>\n",
       "    <tr>\n",
       "      <th>1202</th>\n",
       "      <td>22</td>\n",
       "      <td>123.0</td>\n",
       "      <td>NaN</td>\n",
       "      <td>32.445778</td>\n",
       "      <td>83.885049</td>\n",
       "      <td>5.896343</td>\n",
       "      <td>68.739325</td>\n",
       "      <td>grapes</td>\n",
       "    </tr>\n",
       "    <tr>\n",
       "      <th>1203</th>\n",
       "      <td>36</td>\n",
       "      <td>125.0</td>\n",
       "      <td>NaN</td>\n",
       "      <td>NaN</td>\n",
       "      <td>80.659687</td>\n",
       "      <td>6.155261</td>\n",
       "      <td>66.838723</td>\n",
       "      <td>grapes</td>\n",
       "    </tr>\n",
       "    <tr>\n",
       "      <th>1205</th>\n",
       "      <td>2</td>\n",
       "      <td>123.0</td>\n",
       "      <td>NaN</td>\n",
       "      <td>NaN</td>\n",
       "      <td>82.210799</td>\n",
       "      <td>6.253035</td>\n",
       "      <td>70.399061</td>\n",
       "      <td>grapes</td>\n",
       "    </tr>\n",
       "    <tr>\n",
       "      <th>1207</th>\n",
       "      <td>11</td>\n",
       "      <td>122.0</td>\n",
       "      <td>NaN</td>\n",
       "      <td>NaN</td>\n",
       "      <td>83.568125</td>\n",
       "      <td>5.647202</td>\n",
       "      <td>69.631220</td>\n",
       "      <td>grapes</td>\n",
       "    </tr>\n",
       "    <tr>\n",
       "      <th>1208</th>\n",
       "      <td>6</td>\n",
       "      <td>123.0</td>\n",
       "      <td>NaN</td>\n",
       "      <td>NaN</td>\n",
       "      <td>81.624974</td>\n",
       "      <td>6.130310</td>\n",
       "      <td>66.778446</td>\n",
       "      <td>grapes</td>\n",
       "    </tr>\n",
       "    <tr>\n",
       "      <th>...</th>\n",
       "      <td>...</td>\n",
       "      <td>...</td>\n",
       "      <td>...</td>\n",
       "      <td>...</td>\n",
       "      <td>...</td>\n",
       "      <td>...</td>\n",
       "      <td>...</td>\n",
       "      <td>...</td>\n",
       "    </tr>\n",
       "    <tr>\n",
       "      <th>1567</th>\n",
       "      <td>27</td>\n",
       "      <td>120.0</td>\n",
       "      <td>NaN</td>\n",
       "      <td>21.452787</td>\n",
       "      <td>90.745319</td>\n",
       "      <td>6.110219</td>\n",
       "      <td>116.703658</td>\n",
       "      <td>apple</td>\n",
       "    </tr>\n",
       "    <tr>\n",
       "      <th>1570</th>\n",
       "      <td>15</td>\n",
       "      <td>123.0</td>\n",
       "      <td>NaN</td>\n",
       "      <td>22.527093</td>\n",
       "      <td>92.547804</td>\n",
       "      <td>6.365973</td>\n",
       "      <td>115.383007</td>\n",
       "      <td>apple</td>\n",
       "    </tr>\n",
       "    <tr>\n",
       "      <th>1579</th>\n",
       "      <td>18</td>\n",
       "      <td>125.0</td>\n",
       "      <td>NaN</td>\n",
       "      <td>22.443077</td>\n",
       "      <td>91.592340</td>\n",
       "      <td>6.160267</td>\n",
       "      <td>102.556581</td>\n",
       "      <td>apple</td>\n",
       "    </tr>\n",
       "    <tr>\n",
       "      <th>1589</th>\n",
       "      <td>31</td>\n",
       "      <td>121.0</td>\n",
       "      <td>NaN</td>\n",
       "      <td>23.157911</td>\n",
       "      <td>90.343969</td>\n",
       "      <td>5.731535</td>\n",
       "      <td>110.712841</td>\n",
       "      <td>apple</td>\n",
       "    </tr>\n",
       "    <tr>\n",
       "      <th>1595</th>\n",
       "      <td>40</td>\n",
       "      <td>120.0</td>\n",
       "      <td>NaN</td>\n",
       "      <td>23.805938</td>\n",
       "      <td>92.488795</td>\n",
       "      <td>5.889481</td>\n",
       "      <td>119.633555</td>\n",
       "      <td>apple</td>\n",
       "    </tr>\n",
       "  </tbody>\n",
       "</table>\n",
       "<p>62 rows × 8 columns</p>\n",
       "</div>"
      ],
      "text/plain": [
       "       N      P   K  temperature   humidity        ph    rainfall   label\n",
       "1202  22  123.0 NaN    32.445778  83.885049  5.896343   68.739325  grapes\n",
       "1203  36  125.0 NaN          NaN  80.659687  6.155261   66.838723  grapes\n",
       "1205   2  123.0 NaN          NaN  82.210799  6.253035   70.399061  grapes\n",
       "1207  11  122.0 NaN          NaN  83.568125  5.647202   69.631220  grapes\n",
       "1208   6  123.0 NaN          NaN  81.624974  6.130310   66.778446  grapes\n",
       "...   ..    ...  ..          ...        ...       ...         ...     ...\n",
       "1567  27  120.0 NaN    21.452787  90.745319  6.110219  116.703658   apple\n",
       "1570  15  123.0 NaN    22.527093  92.547804  6.365973  115.383007   apple\n",
       "1579  18  125.0 NaN    22.443077  91.592340  6.160267  102.556581   apple\n",
       "1589  31  121.0 NaN    23.157911  90.343969  5.731535  110.712841   apple\n",
       "1595  40  120.0 NaN    23.805938  92.488795  5.889481  119.633555   apple\n",
       "\n",
       "[62 rows x 8 columns]"
      ]
     },
     "execution_count": 697,
     "metadata": {},
     "output_type": "execute_result"
    }
   ],
   "source": [
    "data[(data.P<lb) | (data.P>ub)]"
   ]
  },
  {
   "cell_type": "code",
   "execution_count": 698,
   "id": "ee6bb1c5",
   "metadata": {},
   "outputs": [],
   "source": [
    "data['P'] = data['P'][(data['P'] >= lb) & (data['P'] <= ub)]"
   ]
  },
  {
   "cell_type": "code",
   "execution_count": 699,
   "id": "173d7aa2",
   "metadata": {},
   "outputs": [
    {
     "data": {
      "text/plain": [
       "<AxesSubplot:xlabel='P'>"
      ]
     },
     "execution_count": 699,
     "metadata": {},
     "output_type": "execute_result"
    },
    {
     "data": {
      "image/png": "[encoded data removed]",
      "text/plain": [
       "<Figure size 432x288 with 1 Axes>"
      ]
     },
     "metadata": {
      "needs_background": "light"
     },
     "output_type": "display_data"
    }
   ],
   "source": [
    "sns.boxplot(data['P'])"
   ]
  },
  {
   "cell_type": "code",
   "execution_count": 671,
   "id": "9267091b",
   "metadata": {},
   "outputs": [
    {
     "data": {
      "text/plain": [
       "<AxesSubplot:xlabel='K'>"
      ]
     },
     "execution_count": 671,
     "metadata": {},
     "output_type": "execute_result"
    },
    {
     "data": {
      "image/png": "[encoded data removed]",
      "text/plain": [
       "<Figure size 432x288 with 1 Axes>"
      ]
     },
     "metadata": {
      "needs_background": "light"
     },
     "output_type": "display_data"
    }
   ],
   "source": [
    "#checking the outliers in column K using boxplot\n",
    "sns.boxplot(data['K'])"
   ]
  },
  {
   "cell_type": "code",
   "execution_count": 700,
   "id": "4bac7cdc",
   "metadata": {},
   "outputs": [
    {
     "name": "stdout",
     "output_type": "stream",
     "text": [
      "82.5\n",
      "-17.5\n"
     ]
    }
   ],
   "source": [
    "#calculating the quantiles of K\n",
    "q3=data['K'].quantile(0.75)\n",
    "q1=data['K'].quantile(0.25)\n",
    "q2=data['K'].quantile(0.50)\n",
    "\n",
    "IQR = q3-q1\n",
    "#calculating the upperwhisker and lowerwhisker\n",
    "ub = q3+1.5*IQR\n",
    "print(ub)\n",
    "lb = q1-1.5*IQR\n",
    "print(lb)"
   ]
  },
  {
   "cell_type": "code",
   "execution_count": 701,
   "id": "5927b067",
   "metadata": {},
   "outputs": [
    {
     "data": {
      "text/html": [
       "<div>\n",
       "<style scoped>\n",
       "    .dataframe tbody tr th:only-of-type {\n",
       "        vertical-align: middle;\n",
       "    }\n",
       "\n",
       "    .dataframe tbody tr th {\n",
       "        vertical-align: top;\n",
       "    }\n",
       "\n",
       "    .dataframe thead th {\n",
       "        text-align: right;\n",
       "    }\n",
       "</style>\n",
       "<table border=\"1\" class=\"dataframe\">\n",
       "  <thead>\n",
       "    <tr style=\"text-align: right;\">\n",
       "      <th></th>\n",
       "      <th>N</th>\n",
       "      <th>P</th>\n",
       "      <th>K</th>\n",
       "      <th>temperature</th>\n",
       "      <th>humidity</th>\n",
       "      <th>ph</th>\n",
       "      <th>rainfall</th>\n",
       "      <th>label</th>\n",
       "    </tr>\n",
       "  </thead>\n",
       "  <tbody>\n",
       "    <tr>\n",
       "      <th>201</th>\n",
       "      <td>23</td>\n",
       "      <td>72.0</td>\n",
       "      <td>84.0</td>\n",
       "      <td>19.020613</td>\n",
       "      <td>17.131591</td>\n",
       "      <td>6.920251</td>\n",
       "      <td>79.926981</td>\n",
       "      <td>chickpea</td>\n",
       "    </tr>\n",
       "    <tr>\n",
       "      <th>202</th>\n",
       "      <td>39</td>\n",
       "      <td>58.0</td>\n",
       "      <td>85.0</td>\n",
       "      <td>17.887765</td>\n",
       "      <td>NaN</td>\n",
       "      <td>5.996932</td>\n",
       "      <td>68.549329</td>\n",
       "      <td>chickpea</td>\n",
       "    </tr>\n",
       "    <tr>\n",
       "      <th>203</th>\n",
       "      <td>22</td>\n",
       "      <td>72.0</td>\n",
       "      <td>85.0</td>\n",
       "      <td>18.868056</td>\n",
       "      <td>NaN</td>\n",
       "      <td>6.391174</td>\n",
       "      <td>88.510490</td>\n",
       "      <td>chickpea</td>\n",
       "    </tr>\n",
       "    <tr>\n",
       "      <th>206</th>\n",
       "      <td>58</td>\n",
       "      <td>70.0</td>\n",
       "      <td>84.0</td>\n",
       "      <td>20.654320</td>\n",
       "      <td>16.608208</td>\n",
       "      <td>6.231049</td>\n",
       "      <td>74.663112</td>\n",
       "      <td>chickpea</td>\n",
       "    </tr>\n",
       "    <tr>\n",
       "      <th>207</th>\n",
       "      <td>59</td>\n",
       "      <td>70.0</td>\n",
       "      <td>84.0</td>\n",
       "      <td>17.334868</td>\n",
       "      <td>18.749270</td>\n",
       "      <td>7.550808</td>\n",
       "      <td>82.617347</td>\n",
       "      <td>chickpea</td>\n",
       "    </tr>\n",
       "    <tr>\n",
       "      <th>213</th>\n",
       "      <td>23</td>\n",
       "      <td>62.0</td>\n",
       "      <td>85.0</td>\n",
       "      <td>18.974248</td>\n",
       "      <td>19.516122</td>\n",
       "      <td>NaN</td>\n",
       "      <td>80.710875</td>\n",
       "      <td>chickpea</td>\n",
       "    </tr>\n",
       "    <tr>\n",
       "      <th>215</th>\n",
       "      <td>28</td>\n",
       "      <td>72.0</td>\n",
       "      <td>84.0</td>\n",
       "      <td>18.729631</td>\n",
       "      <td>19.181973</td>\n",
       "      <td>6.481783</td>\n",
       "      <td>71.580102</td>\n",
       "      <td>chickpea</td>\n",
       "    </tr>\n",
       "    <tr>\n",
       "      <th>217</th>\n",
       "      <td>39</td>\n",
       "      <td>71.0</td>\n",
       "      <td>84.0</td>\n",
       "      <td>20.281559</td>\n",
       "      <td>16.395352</td>\n",
       "      <td>8.140825</td>\n",
       "      <td>82.523397</td>\n",
       "      <td>chickpea</td>\n",
       "    </tr>\n",
       "    <tr>\n",
       "      <th>220</th>\n",
       "      <td>26</td>\n",
       "      <td>80.0</td>\n",
       "      <td>83.0</td>\n",
       "      <td>17.084985</td>\n",
       "      <td>16.145658</td>\n",
       "      <td>7.528600</td>\n",
       "      <td>71.310073</td>\n",
       "      <td>chickpea</td>\n",
       "    </tr>\n",
       "    <tr>\n",
       "      <th>223</th>\n",
       "      <td>60</td>\n",
       "      <td>68.0</td>\n",
       "      <td>83.0</td>\n",
       "      <td>19.120652</td>\n",
       "      <td>18.434758</td>\n",
       "      <td>6.620901</td>\n",
       "      <td>85.529502</td>\n",
       "      <td>chickpea</td>\n",
       "    </tr>\n",
       "    <tr>\n",
       "      <th>224</th>\n",
       "      <td>59</td>\n",
       "      <td>62.0</td>\n",
       "      <td>83.0</td>\n",
       "      <td>18.576659</td>\n",
       "      <td>19.220082</td>\n",
       "      <td>8.104396</td>\n",
       "      <td>72.949404</td>\n",
       "      <td>chickpea</td>\n",
       "    </tr>\n",
       "    <tr>\n",
       "      <th>227</th>\n",
       "      <td>59</td>\n",
       "      <td>60.0</td>\n",
       "      <td>84.0</td>\n",
       "      <td>19.030253</td>\n",
       "      <td>18.667256</td>\n",
       "      <td>7.690962</td>\n",
       "      <td>94.709920</td>\n",
       "      <td>chickpea</td>\n",
       "    </tr>\n",
       "    <tr>\n",
       "      <th>228</th>\n",
       "      <td>54</td>\n",
       "      <td>77.0</td>\n",
       "      <td>85.0</td>\n",
       "      <td>17.141861</td>\n",
       "      <td>17.066243</td>\n",
       "      <td>7.829211</td>\n",
       "      <td>83.746067</td>\n",
       "      <td>chickpea</td>\n",
       "    </tr>\n",
       "    <tr>\n",
       "      <th>231</th>\n",
       "      <td>42</td>\n",
       "      <td>79.0</td>\n",
       "      <td>85.0</td>\n",
       "      <td>17.223852</td>\n",
       "      <td>15.820693</td>\n",
       "      <td>6.129534</td>\n",
       "      <td>76.575810</td>\n",
       "      <td>chickpea</td>\n",
       "    </tr>\n",
       "    <tr>\n",
       "      <th>232</th>\n",
       "      <td>32</td>\n",
       "      <td>60.0</td>\n",
       "      <td>83.0</td>\n",
       "      <td>19.691417</td>\n",
       "      <td>19.442254</td>\n",
       "      <td>NaN</td>\n",
       "      <td>91.760716</td>\n",
       "      <td>chickpea</td>\n",
       "    </tr>\n",
       "    <tr>\n",
       "      <th>247</th>\n",
       "      <td>27</td>\n",
       "      <td>76.0</td>\n",
       "      <td>83.0</td>\n",
       "      <td>19.128294</td>\n",
       "      <td>NaN</td>\n",
       "      <td>6.289614</td>\n",
       "      <td>89.618578</td>\n",
       "      <td>chickpea</td>\n",
       "    </tr>\n",
       "    <tr>\n",
       "      <th>248</th>\n",
       "      <td>57</td>\n",
       "      <td>60.0</td>\n",
       "      <td>84.0</td>\n",
       "      <td>19.103428</td>\n",
       "      <td>17.261845</td>\n",
       "      <td>6.586777</td>\n",
       "      <td>75.491012</td>\n",
       "      <td>chickpea</td>\n",
       "    </tr>\n",
       "    <tr>\n",
       "      <th>251</th>\n",
       "      <td>44</td>\n",
       "      <td>74.0</td>\n",
       "      <td>85.0</td>\n",
       "      <td>20.186494</td>\n",
       "      <td>19.637200</td>\n",
       "      <td>7.150681</td>\n",
       "      <td>78.260396</td>\n",
       "      <td>chickpea</td>\n",
       "    </tr>\n",
       "    <tr>\n",
       "      <th>256</th>\n",
       "      <td>37</td>\n",
       "      <td>66.0</td>\n",
       "      <td>85.0</td>\n",
       "      <td>20.931753</td>\n",
       "      <td>18.912954</td>\n",
       "      <td>6.456148</td>\n",
       "      <td>78.069108</td>\n",
       "      <td>chickpea</td>\n",
       "    </tr>\n",
       "    <tr>\n",
       "      <th>260</th>\n",
       "      <td>24</td>\n",
       "      <td>56.0</td>\n",
       "      <td>85.0</td>\n",
       "      <td>18.199036</td>\n",
       "      <td>17.413332</td>\n",
       "      <td>6.545889</td>\n",
       "      <td>80.640540</td>\n",
       "      <td>chickpea</td>\n",
       "    </tr>\n",
       "    <tr>\n",
       "      <th>262</th>\n",
       "      <td>57</td>\n",
       "      <td>73.0</td>\n",
       "      <td>85.0</td>\n",
       "      <td>18.493112</td>\n",
       "      <td>NaN</td>\n",
       "      <td>7.358100</td>\n",
       "      <td>91.945954</td>\n",
       "      <td>chickpea</td>\n",
       "    </tr>\n",
       "    <tr>\n",
       "      <th>268</th>\n",
       "      <td>52</td>\n",
       "      <td>56.0</td>\n",
       "      <td>85.0</td>\n",
       "      <td>20.118745</td>\n",
       "      <td>NaN</td>\n",
       "      <td>6.817124</td>\n",
       "      <td>88.681686</td>\n",
       "      <td>chickpea</td>\n",
       "    </tr>\n",
       "    <tr>\n",
       "      <th>270</th>\n",
       "      <td>42</td>\n",
       "      <td>74.0</td>\n",
       "      <td>83.0</td>\n",
       "      <td>19.258256</td>\n",
       "      <td>NaN</td>\n",
       "      <td>7.545258</td>\n",
       "      <td>65.780420</td>\n",
       "      <td>chickpea</td>\n",
       "    </tr>\n",
       "    <tr>\n",
       "      <th>276</th>\n",
       "      <td>32</td>\n",
       "      <td>71.0</td>\n",
       "      <td>85.0</td>\n",
       "      <td>20.627675</td>\n",
       "      <td>NaN</td>\n",
       "      <td>6.403982</td>\n",
       "      <td>92.066303</td>\n",
       "      <td>chickpea</td>\n",
       "    </tr>\n",
       "    <tr>\n",
       "      <th>278</th>\n",
       "      <td>33</td>\n",
       "      <td>75.0</td>\n",
       "      <td>84.0</td>\n",
       "      <td>19.462104</td>\n",
       "      <td>18.728320</td>\n",
       "      <td>7.217018</td>\n",
       "      <td>68.814051</td>\n",
       "      <td>chickpea</td>\n",
       "    </tr>\n",
       "    <tr>\n",
       "      <th>282</th>\n",
       "      <td>35</td>\n",
       "      <td>57.0</td>\n",
       "      <td>83.0</td>\n",
       "      <td>19.483168</td>\n",
       "      <td>17.445346</td>\n",
       "      <td>7.476801</td>\n",
       "      <td>80.498629</td>\n",
       "      <td>chickpea</td>\n",
       "    </tr>\n",
       "    <tr>\n",
       "      <th>289</th>\n",
       "      <td>22</td>\n",
       "      <td>60.0</td>\n",
       "      <td>85.0</td>\n",
       "      <td>18.839291</td>\n",
       "      <td>NaN</td>\n",
       "      <td>7.811998</td>\n",
       "      <td>94.781896</td>\n",
       "      <td>chickpea</td>\n",
       "    </tr>\n",
       "    <tr>\n",
       "      <th>297</th>\n",
       "      <td>36</td>\n",
       "      <td>56.0</td>\n",
       "      <td>83.0</td>\n",
       "      <td>18.897802</td>\n",
       "      <td>19.761829</td>\n",
       "      <td>7.452671</td>\n",
       "      <td>69.095125</td>\n",
       "      <td>chickpea</td>\n",
       "    </tr>\n",
       "  </tbody>\n",
       "</table>\n",
       "</div>"
      ],
      "text/plain": [
       "      N     P     K  temperature   humidity        ph   rainfall     label\n",
       "201  23  72.0  84.0    19.020613  17.131591  6.920251  79.926981  chickpea\n",
       "202  39  58.0  85.0    17.887765        NaN  5.996932  68.549329  chickpea\n",
       "203  22  72.0  85.0    18.868056        NaN  6.391174  88.510490  chickpea\n",
       "206  58  70.0  84.0    20.654320  16.608208  6.231049  74.663112  chickpea\n",
       "207  59  70.0  84.0    17.334868  18.749270  7.550808  82.617347  chickpea\n",
       "213  23  62.0  85.0    18.974248  19.516122       NaN  80.710875  chickpea\n",
       "215  28  72.0  84.0    18.729631  19.181973  6.481783  71.580102  chickpea\n",
       "217  39  71.0  84.0    20.281559  16.395352  8.140825  82.523397  chickpea\n",
       "220  26  80.0  83.0    17.084985  16.145658  7.528600  71.310073  chickpea\n",
       "223  60  68.0  83.0    19.120652  18.434758  6.620901  85.529502  chickpea\n",
       "224  59  62.0  83.0    18.576659  19.220082  8.104396  72.949404  chickpea\n",
       "227  59  60.0  84.0    19.030253  18.667256  7.690962  94.709920  chickpea\n",
       "228  54  77.0  85.0    17.141861  17.066243  7.829211  83.746067  chickpea\n",
       "231  42  79.0  85.0    17.223852  15.820693  6.129534  76.575810  chickpea\n",
       "232  32  60.0  83.0    19.691417  19.442254       NaN  91.760716  chickpea\n",
       "247  27  76.0  83.0    19.128294        NaN  6.289614  89.618578  chickpea\n",
       "248  57  60.0  84.0    19.103428  17.261845  6.586777  75.491012  chickpea\n",
       "251  44  74.0  85.0    20.186494  19.637200  7.150681  78.260396  chickpea\n",
       "256  37  66.0  85.0    20.931753  18.912954  6.456148  78.069108  chickpea\n",
       "260  24  56.0  85.0    18.199036  17.413332  6.545889  80.640540  chickpea\n",
       "262  57  73.0  85.0    18.493112        NaN  7.358100  91.945954  chickpea\n",
       "268  52  56.0  85.0    20.118745        NaN  6.817124  88.681686  chickpea\n",
       "270  42  74.0  83.0    19.258256        NaN  7.545258  65.780420  chickpea\n",
       "276  32  71.0  85.0    20.627675        NaN  6.403982  92.066303  chickpea\n",
       "278  33  75.0  84.0    19.462104  18.728320  7.217018  68.814051  chickpea\n",
       "282  35  57.0  83.0    19.483168  17.445346  7.476801  80.498629  chickpea\n",
       "289  22  60.0  85.0    18.839291        NaN  7.811998  94.781896  chickpea\n",
       "297  36  56.0  83.0    18.897802  19.761829  7.452671  69.095125  chickpea"
      ]
     },
     "execution_count": 701,
     "metadata": {},
     "output_type": "execute_result"
    }
   ],
   "source": [
    "data[(data.K<lb) | (data.K>ub)]"
   ]
  },
  {
   "cell_type": "code",
   "execution_count": 702,
   "id": "8adc9c6b",
   "metadata": {},
   "outputs": [],
   "source": [
    "data['K'] = data['K'][(data['K'] >= lb) & (data['K'] <= ub)]"
   ]
  },
  {
   "cell_type": "code",
   "execution_count": 703,
   "id": "ae11a0c7",
   "metadata": {},
   "outputs": [
    {
     "data": {
      "text/plain": [
       "<AxesSubplot:xlabel='K'>"
      ]
     },
     "execution_count": 703,
     "metadata": {},
     "output_type": "execute_result"
    },
    {
     "data": {
      "image/png": "[encoded data removed]",
      "text/plain": [
       "<Figure size 432x288 with 1 Axes>"
      ]
     },
     "metadata": {
      "needs_background": "light"
     },
     "output_type": "display_data"
    }
   ],
   "source": [
    "sns.boxplot(data['K'])"
   ]
  },
  {
   "cell_type": "code",
   "execution_count": 676,
   "id": "e3d633e4",
   "metadata": {},
   "outputs": [
    {
     "data": {
      "text/plain": [
       "<AxesSubplot:xlabel='temperature'>"
      ]
     },
     "execution_count": 676,
     "metadata": {},
     "output_type": "execute_result"
    },
    {
     "data": {
      "image/png": "[encoded data removed]",
      "text/plain": [
       "<Figure size 432x288 with 1 Axes>"
      ]
     },
     "metadata": {
      "needs_background": "light"
     },
     "output_type": "display_data"
    }
   ],
   "source": [
    "#checking the outliers in column temperature using boxplot\n",
    "sns.boxplot(data['temperature'])"
   ]
  },
  {
   "cell_type": "code",
   "execution_count": 708,
   "id": "3e494dcf",
   "metadata": {},
   "outputs": [
    {
     "name": "stdout",
     "output_type": "stream",
     "text": [
      "36.5439737575\n",
      "14.668316137500003\n"
     ]
    }
   ],
   "source": [
    "#calculating the quantiles of temperature\n",
    "q3=data['temperature'].quantile(0.75)\n",
    "q1=data['temperature'].quantile(0.25)\n",
    "q2=data['temperature'].quantile(0.50)\n",
    "\n",
    "IQR = q3-q1\n",
    "#calculating the upperwhisker and lowerwhisker\n",
    "ub = q3+1.5*IQR\n",
    "print(ub)\n",
    "lb = q1-1.5*IQR\n",
    "print(lb)"
   ]
  },
  {
   "cell_type": "code",
   "execution_count": 709,
   "id": "5c721ec1",
   "metadata": {},
   "outputs": [
    {
     "data": {
      "text/html": [
       "<div>\n",
       "<style scoped>\n",
       "    .dataframe tbody tr th:only-of-type {\n",
       "        vertical-align: middle;\n",
       "    }\n",
       "\n",
       "    .dataframe tbody tr th {\n",
       "        vertical-align: top;\n",
       "    }\n",
       "\n",
       "    .dataframe thead th {\n",
       "        text-align: right;\n",
       "    }\n",
       "</style>\n",
       "<table border=\"1\" class=\"dataframe\">\n",
       "  <thead>\n",
       "    <tr style=\"text-align: right;\">\n",
       "      <th></th>\n",
       "      <th>N</th>\n",
       "      <th>P</th>\n",
       "      <th>K</th>\n",
       "      <th>temperature</th>\n",
       "      <th>humidity</th>\n",
       "      <th>ph</th>\n",
       "      <th>rainfall</th>\n",
       "      <th>label</th>\n",
       "    </tr>\n",
       "  </thead>\n",
       "  <tbody>\n",
       "    <tr>\n",
       "      <th>1792</th>\n",
       "      <td>54</td>\n",
       "      <td>66.0</td>\n",
       "      <td>52.0</td>\n",
       "      <td>36.567697</td>\n",
       "      <td>93.795034</td>\n",
       "      <td>6.867554</td>\n",
       "      <td>104.42186</td>\n",
       "      <td>papaya</td>\n",
       "    </tr>\n",
       "  </tbody>\n",
       "</table>\n",
       "</div>"
      ],
      "text/plain": [
       "       N     P     K  temperature   humidity        ph   rainfall   label\n",
       "1792  54  66.0  52.0    36.567697  93.795034  6.867554  104.42186  papaya"
      ]
     },
     "execution_count": 709,
     "metadata": {},
     "output_type": "execute_result"
    }
   ],
   "source": [
    "data[(data.temperature<lb) | (data.temperature>ub)]"
   ]
  },
  {
   "cell_type": "code",
   "execution_count": 710,
   "id": "4ad46e56",
   "metadata": {},
   "outputs": [],
   "source": [
    "data['temperature'] = data['temperature'][(data['temperature'] >= lb) & (data['temperature'] <= ub)]"
   ]
  },
  {
   "cell_type": "code",
   "execution_count": 711,
   "id": "b1af911a",
   "metadata": {},
   "outputs": [
    {
     "data": {
      "text/plain": [
       "<AxesSubplot:xlabel='temperature'>"
      ]
     },
     "execution_count": 711,
     "metadata": {},
     "output_type": "execute_result"
    },
    {
     "data": {
      "image/png": "[encoded data removed]",
      "text/plain": [
       "<Figure size 432x288 with 1 Axes>"
      ]
     },
     "metadata": {
      "needs_background": "light"
     },
     "output_type": "display_data"
    }
   ],
   "source": [
    "sns.boxplot(data['temperature'])"
   ]
  },
  {
   "cell_type": "code",
   "execution_count": 681,
   "id": "899e6df7",
   "metadata": {},
   "outputs": [
    {
     "data": {
      "text/plain": [
       "<AxesSubplot:xlabel='humidity'>"
      ]
     },
     "execution_count": 681,
     "metadata": {},
     "output_type": "execute_result"
    },
    {
     "data": {
      "image/png": "[encoded data removed]",
      "text/plain": [
       "<Figure size 432x288 with 1 Axes>"
      ]
     },
     "metadata": {
      "needs_background": "light"
     },
     "output_type": "display_data"
    }
   ],
   "source": [
    "#checking the outliers in column humidity using boxplot\n",
    "sns.boxplot(data['humidity'])"
   ]
  },
  {
   "cell_type": "code",
   "execution_count": 736,
   "id": "74de1e90",
   "metadata": {},
   "outputs": [
    {
     "name": "stdout",
     "output_type": "stream",
     "text": [
      "130.69663093999998\n",
      "23.12075222\n"
     ]
    }
   ],
   "source": [
    "#calculating the quantiles of humidity\n",
    "q3=data['humidity'].quantile(0.75)\n",
    "q1=data['humidity'].quantile(0.25)\n",
    "q2=data['humidity'].quantile(0.50)\n",
    "\n",
    "IQR = q3-q1\n",
    "#calculating the upperwhisker and lowerwhisker\n",
    "ub = q3+1.5*IQR\n",
    "print(ub)\n",
    "lb = q1-1.5*IQR\n",
    "print(lb)"
   ]
  },
  {
   "cell_type": "code",
   "execution_count": 737,
   "id": "ea704866",
   "metadata": {},
   "outputs": [
    {
     "data": {
      "text/html": [
       "<div>\n",
       "<style scoped>\n",
       "    .dataframe tbody tr th:only-of-type {\n",
       "        vertical-align: middle;\n",
       "    }\n",
       "\n",
       "    .dataframe tbody tr th {\n",
       "        vertical-align: top;\n",
       "    }\n",
       "\n",
       "    .dataframe thead th {\n",
       "        text-align: right;\n",
       "    }\n",
       "</style>\n",
       "<table border=\"1\" class=\"dataframe\">\n",
       "  <thead>\n",
       "    <tr style=\"text-align: right;\">\n",
       "      <th></th>\n",
       "      <th>N</th>\n",
       "      <th>P</th>\n",
       "      <th>K</th>\n",
       "      <th>temperature</th>\n",
       "      <th>humidity</th>\n",
       "      <th>ph</th>\n",
       "      <th>rainfall</th>\n",
       "      <th>label</th>\n",
       "    </tr>\n",
       "  </thead>\n",
       "  <tbody>\n",
       "    <tr>\n",
       "      <th>304</th>\n",
       "      <td>2</td>\n",
       "      <td>61.0</td>\n",
       "      <td>20.0</td>\n",
       "      <td>22.139747</td>\n",
       "      <td>23.022511</td>\n",
       "      <td>5.955617</td>\n",
       "      <td>76.641283</td>\n",
       "      <td>kidneybeans</td>\n",
       "    </tr>\n",
       "    <tr>\n",
       "      <th>320</th>\n",
       "      <td>19</td>\n",
       "      <td>78.0</td>\n",
       "      <td>16.0</td>\n",
       "      <td>20.653758</td>\n",
       "      <td>23.105386</td>\n",
       "      <td>5.967533</td>\n",
       "      <td>67.717689</td>\n",
       "      <td>kidneybeans</td>\n",
       "    </tr>\n",
       "    <tr>\n",
       "      <th>372</th>\n",
       "      <td>11</td>\n",
       "      <td>61.0</td>\n",
       "      <td>21.0</td>\n",
       "      <td>18.623288</td>\n",
       "      <td>23.024103</td>\n",
       "      <td>5.532101</td>\n",
       "      <td>135.337803</td>\n",
       "      <td>kidneybeans</td>\n",
       "    </tr>\n",
       "  </tbody>\n",
       "</table>\n",
       "</div>"
      ],
      "text/plain": [
       "      N     P     K  temperature   humidity        ph    rainfall        label\n",
       "304   2  61.0  20.0    22.139747  23.022511  5.955617   76.641283  kidneybeans\n",
       "320  19  78.0  16.0    20.653758  23.105386  5.967533   67.717689  kidneybeans\n",
       "372  11  61.0  21.0    18.623288  23.024103  5.532101  135.337803  kidneybeans"
      ]
     },
     "execution_count": 737,
     "metadata": {},
     "output_type": "execute_result"
    }
   ],
   "source": [
    "data[(data.humidity<lb) | (data.humidity>ub)]"
   ]
  },
  {
   "cell_type": "code",
   "execution_count": 738,
   "id": "043e60c2",
   "metadata": {},
   "outputs": [],
   "source": [
    "data['humidity'] = data['humidity'][(data['humidity'] >= lb) & (data['humidity'] <= ub)]"
   ]
  },
  {
   "cell_type": "code",
   "execution_count": 739,
   "id": "8d226a92",
   "metadata": {},
   "outputs": [
    {
     "data": {
      "text/plain": [
       "<AxesSubplot:xlabel='humidity'>"
      ]
     },
     "execution_count": 739,
     "metadata": {},
     "output_type": "execute_result"
    },
    {
     "data": {
      "image/png": "[encoded data removed]",
      "text/plain": [
       "<Figure size 432x288 with 1 Axes>"
      ]
     },
     "metadata": {
      "needs_background": "light"
     },
     "output_type": "display_data"
    }
   ],
   "source": [
    "sns.boxplot(data['humidity'])"
   ]
  },
  {
   "cell_type": "code",
   "execution_count": 686,
   "id": "67d04376",
   "metadata": {},
   "outputs": [
    {
     "data": {
      "text/plain": [
       "<AxesSubplot:xlabel='ph'>"
      ]
     },
     "execution_count": 686,
     "metadata": {},
     "output_type": "execute_result"
    },
    {
     "data": {
      "image/png": "[encoded data removed]",
      "text/plain": [
       "<Figure size 432x288 with 1 Axes>"
      ]
     },
     "metadata": {
      "needs_background": "light"
     },
     "output_type": "display_data"
    }
   ],
   "source": [
    "#checking the outliers in column ph using boxplot\n",
    "sns.boxplot(data['ph'])"
   ]
  },
  {
   "cell_type": "code",
   "execution_count": 740,
   "id": "fe71fc00",
   "metadata": {},
   "outputs": [
    {
     "name": "stdout",
     "output_type": "stream",
     "text": [
      "8.277548811\n",
      "4.590833883\n"
     ]
    }
   ],
   "source": [
    "#calculating the quantiles of ph\n",
    "q3=data['ph'].quantile(0.75)\n",
    "q1=data['ph'].quantile(0.25)\n",
    "q2=data['ph'].quantile(0.50)\n",
    "\n",
    "IQR = q3-q1\n",
    "#calculating the upperwhisker and lowerwhisker\n",
    "ub = q3+1.5*IQR\n",
    "print(ub)\n",
    "lb = q1-1.5*IQR\n",
    "print(lb)"
   ]
  },
  {
   "cell_type": "code",
   "execution_count": 741,
   "id": "9846a4d6",
   "metadata": {},
   "outputs": [
    {
     "data": {
      "text/html": [
       "<div>\n",
       "<style scoped>\n",
       "    .dataframe tbody tr th:only-of-type {\n",
       "        vertical-align: middle;\n",
       "    }\n",
       "\n",
       "    .dataframe tbody tr th {\n",
       "        vertical-align: top;\n",
       "    }\n",
       "\n",
       "    .dataframe thead th {\n",
       "        text-align: right;\n",
       "    }\n",
       "</style>\n",
       "<table border=\"1\" class=\"dataframe\">\n",
       "  <thead>\n",
       "    <tr style=\"text-align: right;\">\n",
       "      <th></th>\n",
       "      <th>N</th>\n",
       "      <th>P</th>\n",
       "      <th>K</th>\n",
       "      <th>temperature</th>\n",
       "      <th>humidity</th>\n",
       "      <th>ph</th>\n",
       "      <th>rainfall</th>\n",
       "      <th>label</th>\n",
       "    </tr>\n",
       "  </thead>\n",
       "  <tbody>\n",
       "    <tr>\n",
       "      <th>428</th>\n",
       "      <td>34</td>\n",
       "      <td>56.0</td>\n",
       "      <td>17.0</td>\n",
       "      <td>33.412686</td>\n",
       "      <td>35.429100</td>\n",
       "      <td>4.548202</td>\n",
       "      <td>139.670254</td>\n",
       "      <td>pigeonpeas</td>\n",
       "    </tr>\n",
       "    <tr>\n",
       "      <th>499</th>\n",
       "      <td>33</td>\n",
       "      <td>61.0</td>\n",
       "      <td>24.0</td>\n",
       "      <td>20.046118</td>\n",
       "      <td>48.939056</td>\n",
       "      <td>4.567446</td>\n",
       "      <td>122.456420</td>\n",
       "      <td>pigeonpeas</td>\n",
       "    </tr>\n",
       "    <tr>\n",
       "      <th>534</th>\n",
       "      <td>36</td>\n",
       "      <td>57.0</td>\n",
       "      <td>16.0</td>\n",
       "      <td>28.614091</td>\n",
       "      <td>57.142188</td>\n",
       "      <td>8.292876</td>\n",
       "      <td>57.028917</td>\n",
       "      <td>mothbeans</td>\n",
       "    </tr>\n",
       "    <tr>\n",
       "      <th>559</th>\n",
       "      <td>35</td>\n",
       "      <td>57.0</td>\n",
       "      <td>25.0</td>\n",
       "      <td>27.095629</td>\n",
       "      <td>42.262062</td>\n",
       "      <td>8.340398</td>\n",
       "      <td>71.127104</td>\n",
       "      <td>mothbeans</td>\n",
       "    </tr>\n",
       "    <tr>\n",
       "      <th>1125</th>\n",
       "      <td>12</td>\n",
       "      <td>37.0</td>\n",
       "      <td>30.0</td>\n",
       "      <td>31.097791</td>\n",
       "      <td>47.411967</td>\n",
       "      <td>4.546466</td>\n",
       "      <td>90.286243</td>\n",
       "      <td>mango</td>\n",
       "    </tr>\n",
       "    <tr>\n",
       "      <th>1134</th>\n",
       "      <td>5</td>\n",
       "      <td>16.0</td>\n",
       "      <td>31.0</td>\n",
       "      <td>35.960546</td>\n",
       "      <td>48.696778</td>\n",
       "      <td>4.555689</td>\n",
       "      <td>98.006442</td>\n",
       "      <td>mango</td>\n",
       "    </tr>\n",
       "  </tbody>\n",
       "</table>\n",
       "</div>"
      ],
      "text/plain": [
       "       N     P     K  temperature   humidity        ph    rainfall       label\n",
       "428   34  56.0  17.0    33.412686  35.429100  4.548202  139.670254  pigeonpeas\n",
       "499   33  61.0  24.0    20.046118  48.939056  4.567446  122.456420  pigeonpeas\n",
       "534   36  57.0  16.0    28.614091  57.142188  8.292876   57.028917   mothbeans\n",
       "559   35  57.0  25.0    27.095629  42.262062  8.340398   71.127104   mothbeans\n",
       "1125  12  37.0  30.0    31.097791  47.411967  4.546466   90.286243       mango\n",
       "1134   5  16.0  31.0    35.960546  48.696778  4.555689   98.006442       mango"
      ]
     },
     "execution_count": 741,
     "metadata": {},
     "output_type": "execute_result"
    }
   ],
   "source": [
    "data[(data.ph<lb) | (data.ph>ub)]"
   ]
  },
  {
   "cell_type": "code",
   "execution_count": 742,
   "id": "4d1df12f",
   "metadata": {},
   "outputs": [],
   "source": [
    "data['ph'] = data['ph'][(data['ph'] >= lb) & (data['ph'] <= ub)]"
   ]
  },
  {
   "cell_type": "code",
   "execution_count": 743,
   "id": "045f608d",
   "metadata": {},
   "outputs": [
    {
     "data": {
      "text/plain": [
       "<AxesSubplot:xlabel='ph'>"
      ]
     },
     "execution_count": 743,
     "metadata": {},
     "output_type": "execute_result"
    },
    {
     "data": {
      "image/png": "[encoded data removed]",
      "text/plain": [
       "<Figure size 432x288 with 1 Axes>"
      ]
     },
     "metadata": {
      "needs_background": "light"
     },
     "output_type": "display_data"
    }
   ],
   "source": [
    "sns.boxplot(data['ph'])"
   ]
  },
  {
   "cell_type": "code",
   "execution_count": 691,
   "id": "4a51cab4",
   "metadata": {},
   "outputs": [
    {
     "data": {
      "text/plain": [
       "<AxesSubplot:xlabel='rainfall'>"
      ]
     },
     "execution_count": 691,
     "metadata": {},
     "output_type": "execute_result"
    },
    {
     "data": {
      "image/png": "[encoded data removed]",
      "text/plain": [
       "<Figure size 432x288 with 1 Axes>"
      ]
     },
     "metadata": {
      "needs_background": "light"
     },
     "output_type": "display_data"
    }
   ],
   "source": [
    "#checking the outliers in column rainfall using boxplot\n",
    "sns.boxplot(data['rainfall'])"
   ]
  },
  {
   "cell_type": "code",
   "execution_count": 764,
   "id": "727d391a",
   "metadata": {},
   "outputs": [
    {
     "name": "stdout",
     "output_type": "stream",
     "text": [
      "185.47888655999998\n",
      "-12.345313599999997\n"
     ]
    }
   ],
   "source": [
    "#calculating the quantiles of rainfall\n",
    "q3=data['rainfall'].quantile(0.75)\n",
    "q1=data['rainfall'].quantile(0.25)\n",
    "q2=data['rainfall'].quantile(0.50)\n",
    "\n",
    "IQR = q3-q1\n",
    "#calculating the upperwhisker and lowerwhisker\n",
    "ub = q3+1.5*IQR\n",
    "print(ub)\n",
    "lb = q1-1.5*IQR\n",
    "print(lb)"
   ]
  },
  {
   "cell_type": "code",
   "execution_count": 765,
   "id": "b9c68603",
   "metadata": {},
   "outputs": [
    {
     "data": {
      "text/html": [
       "<div>\n",
       "<style scoped>\n",
       "    .dataframe tbody tr th:only-of-type {\n",
       "        vertical-align: middle;\n",
       "    }\n",
       "\n",
       "    .dataframe tbody tr th {\n",
       "        vertical-align: top;\n",
       "    }\n",
       "\n",
       "    .dataframe thead th {\n",
       "        text-align: right;\n",
       "    }\n",
       "</style>\n",
       "<table border=\"1\" class=\"dataframe\">\n",
       "  <thead>\n",
       "    <tr style=\"text-align: right;\">\n",
       "      <th></th>\n",
       "      <th>N</th>\n",
       "      <th>P</th>\n",
       "      <th>K</th>\n",
       "      <th>temperature</th>\n",
       "      <th>humidity</th>\n",
       "      <th>ph</th>\n",
       "      <th>rainfall</th>\n",
       "      <th>label</th>\n",
       "    </tr>\n",
       "  </thead>\n",
       "  <tbody>\n",
       "    <tr>\n",
       "      <th>20</th>\n",
       "      <td>89</td>\n",
       "      <td>45.0</td>\n",
       "      <td>36.0</td>\n",
       "      <td>21.325042</td>\n",
       "      <td>80.474764</td>\n",
       "      <td>6.442475</td>\n",
       "      <td>185.497473</td>\n",
       "      <td>rice</td>\n",
       "    </tr>\n",
       "    <tr>\n",
       "      <th>77</th>\n",
       "      <td>73</td>\n",
       "      <td>35.0</td>\n",
       "      <td>38.0</td>\n",
       "      <td>24.889212</td>\n",
       "      <td>81.979271</td>\n",
       "      <td>5.005307</td>\n",
       "      <td>185.946143</td>\n",
       "      <td>rice</td>\n",
       "    </tr>\n",
       "    <tr>\n",
       "      <th>426</th>\n",
       "      <td>38</td>\n",
       "      <td>72.0</td>\n",
       "      <td>21.0</td>\n",
       "      <td>28.234161</td>\n",
       "      <td>49.442135</td>\n",
       "      <td>5.902103</td>\n",
       "      <td>186.500858</td>\n",
       "      <td>pigeonpeas</td>\n",
       "    </tr>\n",
       "    <tr>\n",
       "      <th>2006</th>\n",
       "      <td>63</td>\n",
       "      <td>37.0</td>\n",
       "      <td>43.0</td>\n",
       "      <td>23.417990</td>\n",
       "      <td>85.086405</td>\n",
       "      <td>6.661958</td>\n",
       "      <td>185.744673</td>\n",
       "      <td>jute</td>\n",
       "    </tr>\n",
       "    <tr>\n",
       "      <th>2030</th>\n",
       "      <td>69</td>\n",
       "      <td>57.0</td>\n",
       "      <td>35.0</td>\n",
       "      <td>24.307486</td>\n",
       "      <td>78.543410</td>\n",
       "      <td>6.186814</td>\n",
       "      <td>186.233757</td>\n",
       "      <td>jute</td>\n",
       "    </tr>\n",
       "    <tr>\n",
       "      <th>2189</th>\n",
       "      <td>99</td>\n",
       "      <td>16.0</td>\n",
       "      <td>30.0</td>\n",
       "      <td>23.526521</td>\n",
       "      <td>65.443409</td>\n",
       "      <td>6.392792</td>\n",
       "      <td>186.172820</td>\n",
       "      <td>coffee</td>\n",
       "    </tr>\n",
       "  </tbody>\n",
       "</table>\n",
       "</div>"
      ],
      "text/plain": [
       "       N     P     K  temperature   humidity        ph    rainfall       label\n",
       "20    89  45.0  36.0    21.325042  80.474764  6.442475  185.497473        rice\n",
       "77    73  35.0  38.0    24.889212  81.979271  5.005307  185.946143        rice\n",
       "426   38  72.0  21.0    28.234161  49.442135  5.902103  186.500858  pigeonpeas\n",
       "2006  63  37.0  43.0    23.417990  85.086405  6.661958  185.744673        jute\n",
       "2030  69  57.0  35.0    24.307486  78.543410  6.186814  186.233757        jute\n",
       "2189  99  16.0  30.0    23.526521  65.443409  6.392792  186.172820      coffee"
      ]
     },
     "execution_count": 765,
     "metadata": {},
     "output_type": "execute_result"
    }
   ],
   "source": [
    "data[(data.rainfall<lb) | (data.rainfall>ub)]"
   ]
  },
  {
   "cell_type": "code",
   "execution_count": 766,
   "id": "2f4e2cd1",
   "metadata": {},
   "outputs": [],
   "source": [
    "data['rainfall'] = data['rainfall'][(data['rainfall'] >= lb) & (data['rainfall'] <= ub)]"
   ]
  },
  {
   "cell_type": "code",
   "execution_count": 767,
   "id": "a7145460",
   "metadata": {},
   "outputs": [
    {
     "data": {
      "text/plain": [
       "<AxesSubplot:xlabel='rainfall'>"
      ]
     },
     "execution_count": 767,
     "metadata": {},
     "output_type": "execute_result"
    },
    {
     "data": {
      "image/png": "[encoded data removed]",
      "text/plain": [
       "<Figure size 432x288 with 1 Axes>"
      ]
     },
     "metadata": {
      "needs_background": "light"
     },
     "output_type": "display_data"
    }
   ],
   "source": [
    "sns.boxplot(data['rainfall'])"
   ]
  },
  {
   "cell_type": "code",
   "execution_count": 768,
   "id": "89860145",
   "metadata": {},
   "outputs": [
    {
     "data": {
      "text/plain": [
       "N                0\n",
       "P              200\n",
       "K              228\n",
       "temperature     94\n",
       "humidity       170\n",
       "ph              63\n",
       "rainfall       233\n",
       "label            0\n",
       "dtype: int64"
      ]
     },
     "execution_count": 768,
     "metadata": {},
     "output_type": "execute_result"
    }
   ],
   "source": [
    "data.isnull().sum()"
   ]
  },
  {
   "cell_type": "markdown",
   "id": "45ba0f15",
   "metadata": {},
   "source": [
    "# NULL VALUE HANDLING"
   ]
  },
  {
   "cell_type": "code",
   "execution_count": 769,
   "id": "0382771d",
   "metadata": {},
   "outputs": [],
   "source": [
    "#replacing missing values of P with the median of that column.\n",
    "data['P']=data['P'].fillna(data['P'].median())"
   ]
  },
  {
   "cell_type": "code",
   "execution_count": 770,
   "id": "bb9ede6d",
   "metadata": {},
   "outputs": [],
   "source": [
    "#replacing missing values of K with the median of that column.\n",
    "data['K']=data['K'].fillna(data['K'].median())"
   ]
  },
  {
   "cell_type": "code",
   "execution_count": 771,
   "id": "9340a87b",
   "metadata": {},
   "outputs": [],
   "source": [
    "#replacing missing values of temperature with the median of that column.\n",
    "data['temperature']=data['temperature'].fillna(data['temperature'].median())"
   ]
  },
  {
   "cell_type": "code",
   "execution_count": 772,
   "id": "aec71736",
   "metadata": {},
   "outputs": [],
   "source": [
    "#replacing missing values of humidity with the median of that column.\n",
    "data['humidity']=data['humidity'].fillna(data['humidity'].median())"
   ]
  },
  {
   "cell_type": "code",
   "execution_count": 773,
   "id": "a0fdd46f",
   "metadata": {},
   "outputs": [],
   "source": [
    "#replacing missing values of ph with the median of that column.\n",
    "data['ph']=data['ph'].fillna(data['ph'].median())"
   ]
  },
  {
   "cell_type": "code",
   "execution_count": 774,
   "id": "ff7c6085",
   "metadata": {},
   "outputs": [],
   "source": [
    "#replacing missing values of rainfall with the median of that column.\n",
    "data['rainfall']=data['rainfall'].fillna(data['rainfall'].median())"
   ]
  },
  {
   "cell_type": "code",
   "execution_count": 775,
   "id": "94166dd2",
   "metadata": {},
   "outputs": [
    {
     "data": {
      "text/plain": [
       "N              0\n",
       "P              0\n",
       "K              0\n",
       "temperature    0\n",
       "humidity       0\n",
       "ph             0\n",
       "rainfall       0\n",
       "label          0\n",
       "dtype: int64"
      ]
     },
     "execution_count": 775,
     "metadata": {},
     "output_type": "execute_result"
    }
   ],
   "source": [
    "data.isnull().sum()"
   ]
  },
  {
   "cell_type": "markdown",
   "id": "999159b8",
   "metadata": {},
   "source": [
    "# Feature engineering"
   ]
  },
  {
   "cell_type": "code",
   "execution_count": 776,
   "id": "48f798fa",
   "metadata": {},
   "outputs": [],
   "source": [
    "#here performing labelEncoder using LabelEncoder to convert categorical variables into numerical variables.\n",
    "from sklearn.preprocessing import LabelEncoder\n",
    "labelEncoder= LabelEncoder()\n",
    "data['label']=labelEncoder.fit_transform(data['label'].values)"
   ]
  },
  {
   "cell_type": "code",
   "execution_count": 777,
   "id": "4a339683",
   "metadata": {},
   "outputs": [
    {
     "name": "stdout",
     "output_type": "stream",
     "text": [
      "<class 'pandas.core.frame.DataFrame'>\n",
      "RangeIndex: 2200 entries, 0 to 2199\n",
      "Data columns (total 8 columns):\n",
      " #   Column       Non-Null Count  Dtype  \n",
      "---  ------       --------------  -----  \n",
      " 0   N            2200 non-null   int64  \n",
      " 1   P            2200 non-null   float64\n",
      " 2   K            2200 non-null   float64\n",
      " 3   temperature  2200 non-null   float64\n",
      " 4   humidity     2200 non-null   float64\n",
      " 5   ph           2200 non-null   float64\n",
      " 6   rainfall     2200 non-null   float64\n",
      " 7   label        2200 non-null   int32  \n",
      "dtypes: float64(6), int32(1), int64(1)\n",
      "memory usage: 129.0 KB\n"
     ]
    }
   ],
   "source": [
    "data.info()"
   ]
  },
  {
   "cell_type": "markdown",
   "id": "f146a4bf",
   "metadata": {},
   "source": [
    "# Model building"
   ]
  },
  {
   "cell_type": "code",
   "execution_count": 778,
   "id": "88745aab",
   "metadata": {},
   "outputs": [],
   "source": [
    "from sklearn.model_selection import train_test_split\n",
    "x = data.drop('label', axis = 1)\n",
    "y = data['label']\n",
    "x_train, x_test, y_train, y_test = train_test_split(x, y, test_size = 0.33, random_state = 1)"
   ]
  },
  {
   "cell_type": "code",
   "execution_count": 779,
   "id": "9fb25269",
   "metadata": {},
   "outputs": [
    {
     "data": {
      "text/plain": [
       "(726, 7)"
      ]
     },
     "execution_count": 779,
     "metadata": {},
     "output_type": "execute_result"
    }
   ],
   "source": [
    "x_test.shape"
   ]
  },
  {
   "cell_type": "code",
   "execution_count": 780,
   "id": "fc11922c",
   "metadata": {},
   "outputs": [
    {
     "data": {
      "text/plain": [
       "(1474, 7)"
      ]
     },
     "execution_count": 780,
     "metadata": {},
     "output_type": "execute_result"
    }
   ],
   "source": [
    " x_train.shape"
   ]
  },
  {
   "cell_type": "code",
   "execution_count": 781,
   "id": "fc2aca11",
   "metadata": {},
   "outputs": [
    {
     "data": {
      "text/plain": [
       "(1474,)"
      ]
     },
     "execution_count": 781,
     "metadata": {},
     "output_type": "execute_result"
    }
   ],
   "source": [
    "y_train.shape"
   ]
  },
  {
   "cell_type": "code",
   "execution_count": 782,
   "id": "beda8d0a",
   "metadata": {},
   "outputs": [
    {
     "data": {
      "text/plain": [
       "(726,)"
      ]
     },
     "execution_count": 782,
     "metadata": {},
     "output_type": "execute_result"
    }
   ],
   "source": [
    "y_test.shape"
   ]
  },
  {
   "cell_type": "markdown",
   "id": "cf66306d",
   "metadata": {},
   "source": [
    "# Multiple Linear Regression"
   ]
  },
  {
   "cell_type": "code",
   "execution_count": 596,
   "id": "0d8722b8",
   "metadata": {},
   "outputs": [],
   "source": [
    "#  Why do we select Multiple Linear Regression\n",
    "    #1. It is a broader class of regression and is used for both linear and non linear regressions with multiple independent variables.\n",
    "    #2. No major correlation is found between the independent variables in the dataset."
   ]
  },
  {
   "cell_type": "code",
   "execution_count": 783,
   "id": "5eb83425",
   "metadata": {},
   "outputs": [
    {
     "data": {
      "text/plain": [
       "LinearRegression()"
      ]
     },
     "execution_count": 783,
     "metadata": {},
     "output_type": "execute_result"
    }
   ],
   "source": [
    "# Train and fit the model\n",
    "from sklearn import linear_model\n",
    "from sklearn.metrics import r2_score,mean_squared_error\n",
    "regr = linear_model.LinearRegression()\n",
    "regr.fit(x_train, y_train)"
   ]
  },
  {
   "cell_type": "code",
   "execution_count": 784,
   "id": "1facf643",
   "metadata": {},
   "outputs": [
    {
     "data": {
      "text/plain": [
       "array([10.96021058, 14.76134718,  7.65985944, 15.89711135,  7.53450433,\n",
       "       14.75215601,  9.21274399, 12.05838265, 10.84629625,  9.14590779,\n",
       "       13.42613092,  7.30945547, 11.40155275, 13.83235901, 11.6945962 ,\n",
       "        6.93296061,  4.23324843, 11.14889699,  3.98978343, 12.00945978,\n",
       "        9.18693932,  8.92592176, 13.89550467,  8.96466632, 15.33761804,\n",
       "        6.81286513, 11.06131529, 11.96474121,  9.84431047, 15.75836848,\n",
       "        9.36690113,  8.82062769, 14.70757552,  8.70342474, 11.22158004,\n",
       "        8.20706832, 12.93878386,  9.46508633,  9.97250252, 13.1423929 ,\n",
       "        7.85840608, 10.76240186, 11.86462607,  7.67442041, 12.13978048,\n",
       "       13.73077455,  8.37804456,  9.8043313 , 11.1461279 ,  6.72239699,\n",
       "        9.39077165, 10.51446762, 10.21779442, 12.75540877,  9.78148483,\n",
       "       11.78601833, 13.00999139, 13.4653841 ,  9.50163017, 14.78824767,\n",
       "        9.20621598, 11.57822667, 12.74325   ,  3.87492388, 10.22361646,\n",
       "       13.86805605,  9.00690907, 11.21777248,  9.64292448,  8.34813721,\n",
       "       11.60239841, 15.49949141, 11.04711657,  9.95189621,  9.1230851 ,\n",
       "       15.16908773, 15.69598938,  9.13824672,  8.86902163, 12.98808127,\n",
       "        9.25579897,  5.82271903,  8.94086321, 11.32367949,  9.89915511,\n",
       "        7.84312782, 10.49049712, 14.89194999, 13.12256221, 12.60801329,\n",
       "        8.89917744,  8.34565688, 10.92109727, 13.6961158 , 11.17647287,\n",
       "       12.13893782,  5.15248079,  7.68578989, 10.73078729, 12.25956057,\n",
       "        6.30137046,  8.25478835,  7.93125988, 11.96958579, 13.58356702,\n",
       "        7.65879204, 14.51723562,  4.44814012,  8.40703917,  9.0637596 ,\n",
       "       10.01516293,  9.40925513, 12.99702721,  7.83335716, 14.76085857,\n",
       "        8.47978616,  8.66280753, 13.30691515, 10.50426898, 10.55141768,\n",
       "        9.1125134 ,  6.74291995, 15.8845872 ,  7.01858105,  8.02268331,\n",
       "        7.91078979,  8.487235  , 13.56209423, 14.79866824, 10.72239167,\n",
       "       11.21170057,  8.94350034, 13.08907078,  9.83226846, 10.81882595,\n",
       "        9.27290233,  7.59238258, 12.5007598 , 10.8362992 , 11.7515675 ,\n",
       "       10.62994446,  9.09158554, 10.86957861,  9.29968211, 15.52189845,\n",
       "       12.36276836,  8.62324167, 10.35633629, 11.41842672, 15.30852775,\n",
       "       10.88593878, 10.53522616,  9.57310572,  9.12980468, 14.3858715 ,\n",
       "        9.54749813,  8.56990041,  9.28790521,  7.74662429,  7.93774389,\n",
       "       11.17449005,  5.90936272, 11.00967801, 10.2671026 , 13.95435822,\n",
       "        8.37677241,  9.62060937,  9.56650079, 13.33910649,  9.32528947,\n",
       "        8.56924998, 13.71204276,  7.82476399, 10.86152822, 11.17091759,\n",
       "        6.85461559, 10.35108547, 10.66996843,  9.54980663, 10.61753084,\n",
       "        9.68907413, 10.91790211,  8.44358593, 14.43678656,  7.82662457,\n",
       "       12.42797587,  8.67738388,  7.94853023, 10.64804016,  6.70962897,\n",
       "       13.39109414, 13.49788959,  6.08645186,  9.3281102 , 14.85180115,\n",
       "       12.57807241,  9.93339557, 11.24022033,  5.92961453, 10.81631064,\n",
       "       13.68302565,  7.12497635, 14.0837182 , 11.43940431,  9.86391661,\n",
       "        9.10674065, 11.13310644, 10.70369934,  7.08987821, 14.30110334,\n",
       "       15.67369049, 10.76706335,  7.98884087,  9.78079582, 15.4265964 ,\n",
       "       10.32229673,  9.6820213 ,  9.02789505, 10.3650558 ,  9.74537263,\n",
       "       13.44334686, 11.16458159,  8.81552593,  9.32234959, 10.69511452,\n",
       "       16.36836245,  8.92334489,  8.01621875, 15.02118524, 11.41368956,\n",
       "       10.92464477, 15.80110931,  9.64264417, 11.50022308, 11.30677435,\n",
       "       15.40535049,  9.26621195, 11.32825559,  8.69783198, 10.34675073,\n",
       "       13.79811701, 14.15685488,  9.25508992,  6.75874122, 13.64891709,\n",
       "       14.30517072, 14.75720493, 12.82100275,  6.59264118, 12.70122768,\n",
       "       11.32521164, 14.91117188, 15.13964667, 10.02764438, 12.18504792,\n",
       "       14.72428161, 12.25898984, 14.56717767,  8.40818263,  8.73115467,\n",
       "       13.28879159,  8.68276074,  9.97597296,  9.28724061,  8.70418612,\n",
       "       15.80169649,  9.69702174,  5.88756836,  9.66543366, 11.20318524,\n",
       "       10.85196847,  9.16191151, 12.70737269,  7.65785263, 14.0517533 ,\n",
       "       14.32751721,  7.33848191,  5.72067604, 13.2461786 , 13.29598343,\n",
       "       11.30407576, 12.56771593, 12.12724371, 11.39719603, 10.00782839,\n",
       "       13.04157491, 11.04843787,  9.48850625,  4.43283984,  8.99063067,\n",
       "       11.51464549, 12.80369752,  6.87639661, 10.76811649, 16.29947674,\n",
       "        7.91994124,  7.51778816, 11.20681632,  7.07634288, 11.13861348,\n",
       "        9.56287803,  9.38433191, 11.01235228,  9.2464164 , 15.2735057 ,\n",
       "       11.37918021,  8.8802029 , 14.54666874, 13.79616703, 10.48552762,\n",
       "       13.42316516, 11.15649171,  9.75270642,  7.89279373, 11.36582631,\n",
       "       13.24936191, 12.20594672,  6.80405189, 13.52230536, 12.15920559,\n",
       "        8.93055745,  9.4058018 , 11.05705179,  7.43352922, 12.72613523,\n",
       "       11.22854756, 12.31526515,  7.81698143, 10.34971897, 10.80883397,\n",
       "       13.51879566, 14.23669988, 11.17142087, 10.89485663,  7.60664336,\n",
       "        8.37420889,  8.95786612,  7.15449214, 13.09671068, 10.29145572,\n",
       "       10.20891984, 15.93581983,  9.36074604,  5.24331907, 10.91803257,\n",
       "        9.11052134, 13.96438004,  8.7980366 , 14.953627  ,  8.9851737 ,\n",
       "       12.73873013,  5.83299272, 13.97870524,  8.14305655, 10.39964016,\n",
       "        7.19777522,  9.05985448,  9.52770197,  7.34373402, 11.76197808,\n",
       "        6.23910097,  8.68075135, 14.10927303, 11.20066381,  8.95201856,\n",
       "       12.94736762,  7.67715711,  8.69802697, 10.36687506,  8.22163363,\n",
       "        8.79186245, 10.89715739, 10.58779059,  8.25730204, 12.42549486,\n",
       "        6.90579183,  6.49692461,  7.31100656,  8.64804838, 10.84609739,\n",
       "        7.64145673,  8.68761061,  7.90107641, 14.13008303, 11.99049377,\n",
       "       11.75577881,  7.04650936, 12.12834344, 10.86511439,  9.47427476,\n",
       "       15.29084343,  9.35014344,  7.72726691, 11.71793382,  8.88709697,\n",
       "        9.08303514,  8.08793256,  7.90950157, 14.59352415, 10.01148015,\n",
       "       12.80644669, 15.04375762, 11.38815257, 10.23788212, 14.64352579,\n",
       "        8.5777377 ,  8.30490139, 10.30252191,  9.33892361, 12.424519  ,\n",
       "        4.57726826,  9.11051177,  9.07064226,  8.00299849, 10.15380995,\n",
       "        8.80274796, 12.44689872, 10.52668166, 13.23346787, 10.68285825,\n",
       "       12.99554588, 10.63587057,  9.54763071, 13.32424914, 11.7136833 ,\n",
       "        9.77935209,  9.00784832,  7.70424495, 10.36702061, 10.50969044,\n",
       "       10.35447761,  7.23911912,  6.63386977, 10.07288999, 12.47068894,\n",
       "        9.14943031,  8.72700698,  5.78078273, 14.40719369, 10.71245008,\n",
       "       12.88038008, 14.59097657,  8.08011392,  4.53102766, 10.41914919,\n",
       "        9.43094451,  6.91027763, 11.46113063, 12.35937826, 14.8372947 ,\n",
       "       11.57914884,  7.73777357, 12.55983912, 13.84255319, 14.66319901,\n",
       "       11.41639333,  7.35070361,  9.72163602, 10.11240067,  9.61467356,\n",
       "        6.07634331,  8.8855037 , 11.21301309,  9.86196615, 12.57900044,\n",
       "       11.4953281 , 14.36073985, 14.31398222,  6.84891334,  9.94902326,\n",
       "       13.53336299, 13.1919001 , 12.15981931, 10.94428082, 12.45627787,\n",
       "        6.29366021,  9.59543083,  8.35228472, 14.26543529, 11.44776009,\n",
       "        6.38607145,  8.28015427, 10.85177671,  8.70762161, 13.30073111,\n",
       "        9.75183753, 10.29978606,  7.68065827,  9.83128159,  7.75914169,\n",
       "       10.67917172,  9.10322927, 11.16196697, 11.02182595, 15.50210564,\n",
       "       14.03394571, 10.36050524, 14.85378821,  8.10962351,  7.97121516,\n",
       "        8.34443231, 10.7811407 , 15.02381496,  9.88372406,  8.50804036,\n",
       "        6.37522676, 11.92016123,  9.81697679, 15.51011669,  9.69840233,\n",
       "       15.11707063, 12.77690348, 10.66367764,  7.49515048,  9.21064205,\n",
       "        5.2829086 , 12.84085296,  8.70856325,  4.71621047, 10.76990833,\n",
       "        8.76171721,  9.719615  ,  9.75589475, 16.19271609,  8.63288767,\n",
       "       14.69177586, 12.17117301, 11.27246309, 13.38156162, 14.3863356 ,\n",
       "       13.98408084,  8.99453152, 11.38455511,  9.77576331, 13.80493505,\n",
       "       10.52702637, 11.18687346,  5.8161086 , 11.22362057,  7.66852791,\n",
       "       12.80743196, 14.42998336, 10.90477001, 12.66098982, 10.96519683,\n",
       "       10.08646991, 11.98458146, 10.36769288, 11.05385809, 10.91050506,\n",
       "       10.01471022,  9.29604299,  9.92272579, 14.16494119, 10.50818679,\n",
       "       12.01552773, 10.04884298,  9.55213235,  8.82507282, 11.14556358,\n",
       "        9.63872316,  9.08325842,  8.75114412, 11.38771336, 13.33393991,\n",
       "        8.32412709, 14.18195653,  9.00200899,  9.7498553 , 10.52709614,\n",
       "       13.37342037, 10.80776475, 10.65998932, 10.92385904, 10.30904039,\n",
       "        7.03224944,  9.6216695 , 12.23872881,  8.10469429,  4.54343482,\n",
       "        7.71829572,  9.31630019, 14.95518233,  8.59364915,  8.87749469,\n",
       "       11.14128404,  8.65387349, 10.80574184,  8.84673284,  9.09992415,\n",
       "        9.94568237, 10.66594401, 16.19649983, 10.94471097,  9.66597947,\n",
       "        9.18149953, 13.33151136,  7.95603306,  6.49691518,  8.55139997,\n",
       "       12.66188972,  8.83849156, 10.39980148,  9.15924563, 11.95619881,\n",
       "       10.67485878,  8.3276017 ,  9.87204427, 11.79232189,  9.21440251,\n",
       "       11.95875821, 10.70591739,  9.92326161, 10.80882482, 10.95515155,\n",
       "        9.25151493,  8.04477683,  7.6923653 , 11.5124333 , 10.51213532,\n",
       "       13.88754114, 11.25492373,  5.66747503, 14.79617337,  9.294752  ,\n",
       "       11.12404386, 12.54294522, 13.0720955 , 14.1670163 , 10.61625569,\n",
       "       10.98520077,  7.43954387, 11.59503656, 10.32408763, 14.5216102 ,\n",
       "       10.04233971,  9.44599639,  7.76859649, 15.39593663,  8.83500909,\n",
       "       10.9648719 ,  9.07167958, 15.5853553 , 10.8275254 , 12.9088792 ,\n",
       "        5.97916944, 14.74418994, 13.01532575, 10.27382096,  6.4705493 ,\n",
       "        8.36732151, 15.58204081,  9.1374392 ,  7.60379008,  5.32161661,\n",
       "       14.91511756,  5.53781713, 13.43996919,  4.77650757, 13.27990565,\n",
       "       11.76389074, 10.03344684, 10.51371123,  8.98220026,  7.08138918,\n",
       "       11.3018062 , 14.14716145,  6.29737656, 12.4783956 ,  9.8153306 ,\n",
       "       13.54999295, 14.20889513,  6.76578709, 11.42250369, 10.74296984,\n",
       "        9.71241787, 10.04595864, 13.23688618, 10.72459838, 13.734201  ,\n",
       "       10.89538073, 10.83347694, 13.63593961,  8.30978925,  9.17853132,\n",
       "       11.19194969, 10.77236862, 13.42636941,  9.24686742, 10.41562023,\n",
       "        8.57179965, 15.52310792,  7.94505116, 12.07427581,  6.6051997 ,\n",
       "        8.74620635, 16.09140958, 10.72978867,  9.39586424,  8.95470039,\n",
       "       15.10409574, 15.59486775, 12.11993801,  9.36255427, 10.04975475,\n",
       "       10.2537313 ,  6.96415245,  9.9778641 , 12.29442275, 11.23781806,\n",
       "        6.12760734,  8.12314306,  9.17057273, 13.50896926, 10.98937059,\n",
       "        9.56177502,  9.18345086,  5.49469759, 15.78086926, 11.54015061,\n",
       "        8.86592673,  9.09008697,  5.64422282, 13.52733257, 15.45428778,\n",
       "       11.79235272])"
      ]
     },
     "execution_count": 784,
     "metadata": {},
     "output_type": "execute_result"
    }
   ],
   "source": [
    "# Predicting with the model\n",
    "y_pred_linear= regr.predict(x_test)\n",
    "y_pred_linear"
   ]
  },
  {
   "cell_type": "code",
   "execution_count": 785,
   "id": "10fc1b84",
   "metadata": {},
   "outputs": [
    {
     "name": "stdout",
     "output_type": "stream",
     "text": [
      "Model performance for testing set \n",
      "\n",
      "RMSE is 5.502962824915331\n",
      "R2 Score 0.21545846353479958\n",
      "\n",
      "\n"
     ]
    }
   ],
   "source": [
    "# Check the performance parameter\n",
    "mse_linear= mean_squared_error(y_test,y_pred_linear)\n",
    "rmse_linear=np.sqrt(mse_linear)\n",
    "#rmse_linear\n",
    "r2_linear=r2_score(y_test,y_pred_linear)\n",
    "\n",
    "print(\"Model performance for testing set \\n\")\n",
    "print(\"RMSE is {}\" .format(rmse_linear))\n",
    "print (\"R2 Score {}\".format(r2_linear))\n",
    "print(\"\\n\")\n",
    "\n",
    "\n",
    "#Inference : \n",
    " #Lazypredict(LinearRegression) RMSE :0.0239\n",
    " # Multiple Regression ML RMSE       :0.023\n",
    " #Both values are same \n",
    "    \n",
    "#Lazypredict(LinearRegression) R2 :0.9659\n",
    "# Multiple Regression ML R2       :0.9659\n",
    " #Both values are same  \n",
    " "
   ]
  },
  {
   "cell_type": "code",
   "execution_count": 786,
   "id": "7e022a7f",
   "metadata": {},
   "outputs": [
    {
     "name": "stdout",
     "output_type": "stream",
     "text": [
      "[0.13823127 0.19837857 0.16122386 0.15561272 0.14975425 0.15646557\n",
      " 0.17504178 0.20650924 0.16481266 0.13998953]\n",
      "0.1646019446314786\n"
     ]
    }
   ],
   "source": [
    "from sklearn.model_selection import ShuffleSplit\n",
    "model= linear_model.LinearRegression()\n",
    "ssplit=ShuffleSplit(n_splits=10,test_size=0.20)\n",
    "from sklearn.model_selection import cross_val_score\n",
    "results=cross_val_score(model,x,y,cv=ssplit)\n",
    "print(results)\n",
    "print(np.mean(results))"
   ]
  },
  {
   "cell_type": "markdown",
   "id": "6b25d405",
   "metadata": {},
   "source": [
    "# Random Forest Regressor"
   ]
  },
  {
   "cell_type": "code",
   "execution_count": 787,
   "id": "fe27dee9",
   "metadata": {},
   "outputs": [
    {
     "data": {
      "text/plain": [
       "RandomForestRegressor(random_state=0)"
      ]
     },
     "execution_count": 787,
     "metadata": {},
     "output_type": "execute_result"
    }
   ],
   "source": [
    "from sklearn.ensemble import RandomForestRegressor #import the regressor\n",
    "from sklearn import metrics  #imporing metrics from sklearn library\n",
    "from sklearn.metrics import r2_score #importing r2 from sklearn library\n",
    "\n",
    "regressor = RandomForestRegressor(n_estimators = 100,random_state=0) #create regressor object\n",
    "regressor.fit(x_train,y_train)"
   ]
  },
  {
   "cell_type": "code",
   "execution_count": 788,
   "id": "3e20ba47",
   "metadata": {},
   "outputs": [
    {
     "name": "stdout",
     "output_type": "stream",
     "text": [
      "r2 score for Training : 0.9941686008199838\n",
      "mean absolute Error for Training: 0.18225237449118045\n",
      "mean Squared Error for Training: 0.18225237449118045\n",
      " Root mean Squared Error for Training: 0.42691026515086333\n",
      "\n",
      "r2 score for Training : 0.9393625025749999\n",
      "r2 score for Testing : (1276     7\n",
      "1446    15\n",
      "335      9\n",
      "1458    15\n",
      "2038     8\n",
      "        ..\n",
      "34      20\n",
      "1060     1\n",
      "1601    16\n",
      "1315    21\n",
      "675     14\n",
      "Name: label, Length: 726, dtype: int32, array([ 7.  , 15.  ,  9.09, 15.  ,  9.65, 21.  ,  9.36, 16.  ,  9.83,\n",
      "       17.24, 18.72, 12.14,  5.24, 12.  , 12.97,  1.  ,  1.  ,  4.15,\n",
      "        1.  , 16.  , 10.  ,  0.28, 19.  , 13.13, 15.5 ,  1.  ,  7.03,\n",
      "        4.01,  5.98, 21.  ,  9.9 ,  9.97, 15.  ,  0.  , 12.84,  6.06,\n",
      "       11.66,  2.  , 13.11, 16.  , 16.56,  6.98, 16.  , 17.  ,  4.  ,\n",
      "       18.89, 16.67,  5.  ,  3.56,  8.72,  3.06, 10.78, 10.  , 18.98,\n",
      "        5.02, 14.  , 21.  , 21.  ,  6.01, 12.  ,  2.  , 14.  , 18.78,\n",
      "        1.  ,  5.13, 15.06,  5.84,  7.  ,  0.03,  8.12,  7.  , 12.  ,\n",
      "       15.95, 11.07, 19.27, 21.  , 21.  , 10.93,  6.  , 11.74,  3.  ,\n",
      "        1.1 ,  0.  , 15.78,  5.99,  2.8 ,  6.07, 12.  , 13.  , 19.  ,\n",
      "        8.74, 17.66,  6.94, 21.  , 14.  , 14.  , 11.69,  6.59,  7.  ,\n",
      "       14.  ,  1.  ,  7.93, 17.  , 12.95,  4.  , 16.19, 18.56,  1.  ,\n",
      "        6.  ,  9.68, 14.  ,  0.  , 18.74,  3.13, 15.02, 10.  ,  2.  ,\n",
      "       12.  ,  9.84,  5.09,  2.48,  9.98, 15.  ,  5.7 ,  8.18,  3.05,\n",
      "        8.71, 13.  , 21.  , 14.  , 15.41,  9.92, 16.  ,  0.  ,  9.3 ,\n",
      "        3.14,  5.91,  4.  ,  3.  , 14.  , 10.  ,  2.09,  5.17, 17.73,\n",
      "       15.  , 15.65, 12.78, 10.03, 12.97, 21.  , 14.  ,  4.  , 10.  ,\n",
      "       17.  , 12.  , 13.17, 10.57,  3.96,  5.97,  9.48, 18.28,  8.93,\n",
      "        7.  , 17.82, 21.  , 17.43, 14.  ,  0.  , 12.33,  2.96, 17.7 ,\n",
      "        4.  , 14.4 , 10.04,  7.13, 12.08, 16.45, 17.89,  6.12,  6.98,\n",
      "        6.  ,  7.  ,  6.  , 15.  ,  2.08, 19.  ,  5.06, 17.  ,  7.11,\n",
      "        1.  , 21.  , 16.  ,  1.  ,  0.  , 15.  , 14.  , 10.  ,  7.  ,\n",
      "        7.83, 18.53,  4.  ,  2.01, 15.06, 13.83, 17.17, 19.88, 11.  ,\n",
      "       10.07,  1.  , 18.72, 21.  ,  9.65, 11.63,  9.29, 15.  , 10.4 ,\n",
      "        7.77, 10.08,  5.13,  5.  , 13.  ,  8.03,  9.96,  5.98, 10.16,\n",
      "       15.  ,  0.  ,  2.  , 15.  ,  7.  , 10.09, 15.  ,  0.  ,  5.  ,\n",
      "        7.  , 11.42,  0.  ,  7.  ,  3.31,  5.06, 15.  , 15.02,  8.85,\n",
      "       10.66, 15.  , 21.  , 18.81, 13.  , 18.  , 19.  ,  7.  , 18.23,\n",
      "       15.26,  3.  , 13.02, 18.54, 16.  , 15.02,  5.97, 10.7 , 12.57,\n",
      "       10.8 , 16.16,  0.  ,  0.  , 21.  ,  2.6 ,  1.  ,  6.05,  4.  ,\n",
      "        7.  ,  0.  ,  4.31,  2.  , 11.89, 15.  ,  9.38,  1.  , 14.  ,\n",
      "       18.76, 14.  , 11.93, 12.97, 14.  ,  9.11, 12.97,  6.97, 11.1 ,\n",
      "        1.  ,  9.88, 17.96,  4.15,  1.06,  6.98, 15.  ,  9.18, 16.94,\n",
      "        4.96,  5.92, 14.  ,  6.  ,  3.08,  7.  ,  0.  , 17.22,  7.  ,\n",
      "       15.88, 21.  , 15.  , 19.52,  5.84,  6.98,  0.  , 10.26,  7.  ,\n",
      "       19.  , 12.5 ,  9.25, 12.  , 16.  ,  2.31, 11.  ,  7.53,  7.99,\n",
      "       12.47, 14.  , 15.92,  2.  , 16.03,  9.27, 15.84, 19.  ,  7.  ,\n",
      "        7.26,  3.16,  8.42,  5.99, 10.52, 21.  , 14.  ,  3.52, 21.  ,\n",
      "        0.  , 17.  ,  6.96,  0.28, 12.97,  0.04, 12.09, 16.96, 10.77,\n",
      "       17.59, 13.05,  3.59, 13.96, 17.69,  2.  ,  4.01,  6.  ,  4.  ,\n",
      "        1.  , 17.  , 15.02, 10.72, 14.83, 12.48,  9.54,  7.97, 13.96,\n",
      "        2.  ,  5.98, 16.49, 15.78, 17.  ,  4.  ,  3.59,  8.81, 16.98,\n",
      "       10.82,  4.  ,  9.72,  8.72,  9.09, 10.45,  5.  , 13.  , 16.73,\n",
      "       13.  , 10.  , 10.92, 15.  , 14.  ,  8.09,  8.  , 10.  ,  0.  ,\n",
      "        8.42,  2.08, 21.  , 10.  , 18.69, 12.  ,  7.  ,  9.92, 11.93,\n",
      "       10.  ,  9.96,  3.12,  5.  , 13.95,  1.  , 16.2 ,  9.02, 10.79,\n",
      "        9.2 ,  2.  , 18.29,  4.01, 12.55,  5.1 , 19.  , 17.2 , 17.55,\n",
      "       19.  , 12.04,  2.44, 10.72, 17.48, 14.  , 12.45, 17.08,  3.34,\n",
      "        9.08,  5.2 , 15.62,  2.34,  0.  ,  1.  , 21.  ,  7.  ,  4.  ,\n",
      "       18.48,  9.07,  1.  , 17.1 ,  4.9 ,  9.46, 16.  , 18.78, 10.32,\n",
      "       18.8 , 12.95, 14.  , 12.89, 18.52, 12.9 ,  9.09, 10.  , 10.  ,\n",
      "        6.  ,  9.83,  3.99,  6.98,  3.  ,  4.  ,  2.94, 18.43, 17.1 ,\n",
      "        9.09,  6.  , 12.97, 16.  ,  4.  ,  7.13,  6.57,  1.  ,  6.47,\n",
      "        8.93, 15.  , 12.23,  1.  ,  4.45, 19.52,  5.  , 12.26,  6.  ,\n",
      "       10.  , 17.67,  6.55,  2.71, 16.02,  2.  , 10.4 , 12.96, 15.02,\n",
      "       12.  ,  3.  , 15.  ,  5.97,  9.04,  8.  ,  7.14, 11.87,  5.01,\n",
      "       14.37, 18.  ,  4.  ,  6.01, 15.  ,  5.08, 10.13, 12.  ,  9.97,\n",
      "        3.  ,  4.64,  1.07, 20.46, 17.  ,  1.  ,  6.98,  2.48, 16.24,\n",
      "        0.  , 15.02,  6.  , 21.  , 11.  ,  7.24,  4.  , 21.  , 20.86,\n",
      "        0.  , 14.  ,  2.56, 21.  ,  5.  ,  7.  ,  1.  ,  5.21,  8.2 ,\n",
      "       21.  , 15.  ,  7.  , 10.94, 15.76,  6.07, 12.  , 17.52,  7.13,\n",
      "       10.08, 15.2 , 15.88, 14.  , 15.  ,  7.  , 16.  , 12.48,  2.92,\n",
      "       18.86,  5.78,  9.45,  0.  ,  6.41, 14.  ,  9.82,  6.02, 10.07,\n",
      "        3.25, 10.73, 17.  , 10.74,  6.98, 11.  ,  7.  ,  5.32, 15.06,\n",
      "        5.  , 16.  , 11.88,  1.  ,  6.28,  0.  , 12.  , 10.  ,  3.15,\n",
      "       14.  , 11.65,  7.01,  0.  ,  2.98, 17.  , 10.03, 21.  , 16.97,\n",
      "       16.44,  0.  , 18.96,  8.  ,  1.48,  9.04, 13.91,  0.  ,  5.  ,\n",
      "        3.04,  4.08, 13.99,  6.  , 17.  , 18.59, 14.58, 12.97, 12.94,\n",
      "       14.  ,  7.17, 10.  ,  8.39, 17.46,  8.69, 16.  , 16.77, 11.75,\n",
      "        7.05, 12.12, 21.  ,  0.  , 10.22, 14.  , 12.86, 13.05,  6.87,\n",
      "        6.07,  9.18, 15.81, 10.32, 12.26,  9.29,  6.04, 17.95, 15.02,\n",
      "       19.48,  6.98,  4.  , 21.  , 16.52, 21.  , 11.83, 18.74,  5.14,\n",
      "        5.32,  9.  , 11.43, 12.  ,  0.  ,  6.05,  1.  , 15.  , 16.04,\n",
      "       12.  ,  1.  , 12.  , 14.  , 13.44, 19.76,  5.51, 18.  ,  8.73,\n",
      "       21.  , 12.46,  2.87, 10.56, 13.  , 15.  ,  3.23, 15.45,  7.  ,\n",
      "        2.16,  3.43, 13.  ,  7.  , 13.01, 15.63,  7.  , 11.89, 17.  ,\n",
      "        3.01, 15.79,  6.98, 15.76,  6.05,  9.92, 17.  , 15.12, 17.01,\n",
      "       15.44, 16.1 , 10.  , 15.  ,  7.  ,  2.99, 17.92, 11.99, 12.  ,\n",
      "       16.  ,  0.  , 19.75, 19.59,  9.14,  3.  ,  5.79, 11.57, 16.1 ,\n",
      "       16.99,  6.  , 18.78, 14.  , 16.59,  2.51,  1.  , 21.  , 14.  ,\n",
      "        6.17, 17.  ,  1.  , 15.64, 21.  , 14.  ]))\n",
      "mean absolute Error for Testing: 0.5378099173553718\n",
      "mean Squared Error for Testing: 0.5378099173553718\n",
      " Root mean Squared Error for Testing: 0.733355246354297\n"
     ]
    }
   ],
   "source": [
    "y_pred=regressor.predict(x_train) #predication of y_train\n",
    "print('r2 score for Training :',r2_score(y_train,y_pred))\n",
    "print('mean absolute Error for Training:' , metrics.mean_absolute_error(y_train,y_pred))\n",
    "print('mean Squared Error for Training:' , metrics.mean_absolute_error(y_train,y_pred))\n",
    "print(' Root mean Squared Error for Training:', np.sqrt(metrics.mean_absolute_error(y_train,y_pred)))\n",
    "print()\n",
    "                                                         \n",
    "y_pred=regressor.predict(x_test)                      \n",
    "print('r2 score for Training :',r2_score(y_test,y_pred))\n",
    "print('r2 score for Testing :',(y_test,y_pred)) #print of r2 score for test\n",
    "print('mean absolute Error for Testing:',metrics.mean_absolute_error(y_test,y_pred)) #print Mse value for test\n",
    "print('mean Squared Error for Testing:',metrics.mean_absolute_error(y_test,y_pred))#print Mse value for test\n",
    "print(' Root mean Squared Error for Testing:',np.sqrt(metrics.mean_absolute_error(y_test,y_pred)))\n",
    "    "
   ]
  },
  {
   "cell_type": "markdown",
   "id": "ded3398f",
   "metadata": {},
   "source": [
    "# Cross Validation"
   ]
  },
  {
   "cell_type": "code",
   "execution_count": 789,
   "id": "03533fcb",
   "metadata": {},
   "outputs": [
    {
     "name": "stdout",
     "output_type": "stream",
     "text": [
      "[0.95719716 0.95382062 0.98139157 0.96549183 0.96211765 0.97291797\n",
      " 0.95255905 0.95240286 0.97537707 0.93542064]\n",
      "0.9608696427907985\n"
     ]
    }
   ],
   "source": [
    "from sklearn.model_selection import ShuffleSplit\n",
    "model= RandomForestRegressor()\n",
    "ssplit=ShuffleSplit(n_splits=10,test_size=0.20)\n",
    "from sklearn.model_selection import cross_val_score\n",
    "results=cross_val_score(model,x,y,cv=ssplit)\n",
    "print(results)\n",
    "print(np.mean(results))"
   ]
  },
  {
   "cell_type": "markdown",
   "id": "2df60309",
   "metadata": {},
   "source": [
    "##### An accuracy score for RandomForestRegressor is 96%"
   ]
  },
  {
   "cell_type": "markdown",
   "id": "de162f14",
   "metadata": {},
   "source": [
    "# Conclusion"
   ]
  },
  {
   "cell_type": "code",
   "execution_count": null,
   "id": "d3f2054b",
   "metadata": {},
   "outputs": [],
   "source": [
    "label prediction is done by various models.Random Forest Regressor gives the better prediciton as compared to linear regression."
   ]
  }
 ],
 "metadata": {
  "kernelspec": {
   "display_name": "Python 3",
   "language": "python",
   "name": "python3"
  },
  "language_info": {
   "codemirror_mode": {
    "name": "ipython",
    "version": 3
   },
   "file_extension": ".py",
   "mimetype": "text/x-python",
   "name": "python",
   "nbconvert_exporter": "python",
   "pygments_lexer": "ipython3",
   "version": "3.8.8"
  }
 },
 "nbformat": 4,
 "nbformat_minor": 5
}
