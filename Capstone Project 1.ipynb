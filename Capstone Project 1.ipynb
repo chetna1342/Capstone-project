{
 "cells": [
  {
   "cell_type": "markdown",
   "id": "6dc313f1",
   "metadata": {},
   "source": [
    "# CAPSTONE_PROJECT"
   ]
  },
  {
   "cell_type": "markdown",
   "id": "aaba316f",
   "metadata": {},
   "source": [
    "# Problem Statment"
   ]
  },
  {
   "cell_type": "markdown",
   "id": "08c01383",
   "metadata": {},
   "source": [
    "# In this Project aim to Find how salary is varying with respect to other factors in HR industry."
   ]
  },
  {
   "cell_type": "code",
   "execution_count": 1,
   "id": "b75d0b21",
   "metadata": {},
   "outputs": [],
   "source": [
    "import pandas as pd\n",
    "import numpy as np\n",
    "import matplotlib.pyplot as plt\n",
    "import seaborn as sns"
   ]
  },
  {
   "cell_type": "code",
   "execution_count": 2,
   "id": "0cce5266",
   "metadata": {},
   "outputs": [
    {
     "data": {
      "text/html": [
       "<div>\n",
       "<style scoped>\n",
       "    .dataframe tbody tr th:only-of-type {\n",
       "        vertical-align: middle;\n",
       "    }\n",
       "\n",
       "    .dataframe tbody tr th {\n",
       "        vertical-align: top;\n",
       "    }\n",
       "\n",
       "    .dataframe thead th {\n",
       "        text-align: right;\n",
       "    }\n",
       "</style>\n",
       "<table border=\"1\" class=\"dataframe\">\n",
       "  <thead>\n",
       "    <tr style=\"text-align: right;\">\n",
       "      <th></th>\n",
       "      <th>Gender</th>\n",
       "      <th>Business</th>\n",
       "      <th>Dependancies</th>\n",
       "      <th>Calls</th>\n",
       "      <th>Type</th>\n",
       "      <th>Billing</th>\n",
       "      <th>Rating</th>\n",
       "      <th>Age</th>\n",
       "      <th>Salary</th>\n",
       "      <th>Base_pay</th>\n",
       "      <th>Bonus</th>\n",
       "      <th>Unit_Price</th>\n",
       "      <th>Volume</th>\n",
       "      <th>openingbalance</th>\n",
       "      <th>closingbalance</th>\n",
       "      <th>low</th>\n",
       "      <th>Unit_Sales</th>\n",
       "      <th>Total_Sales</th>\n",
       "      <th>Months</th>\n",
       "      <th>Education</th>\n",
       "    </tr>\n",
       "  </thead>\n",
       "  <tbody>\n",
       "    <tr>\n",
       "      <th>0</th>\n",
       "      <td>Female</td>\n",
       "      <td>0</td>\n",
       "      <td>No</td>\n",
       "      <td>Yes</td>\n",
       "      <td>Month-to-month</td>\n",
       "      <td>No</td>\n",
       "      <td>Yes</td>\n",
       "      <td>18</td>\n",
       "      <td>5089.00</td>\n",
       "      <td>2035.600</td>\n",
       "      <td>254.4500</td>\n",
       "      <td>3.770000</td>\n",
       "      <td>21226600</td>\n",
       "      <td>3.75</td>\n",
       "      <td>3.760000</td>\n",
       "      <td>3.650000</td>\n",
       "      <td>18.25</td>\n",
       "      <td>18.8</td>\n",
       "      <td>0</td>\n",
       "      <td>High School or less</td>\n",
       "    </tr>\n",
       "    <tr>\n",
       "      <th>1</th>\n",
       "      <td>Female</td>\n",
       "      <td>0</td>\n",
       "      <td>No</td>\n",
       "      <td>Yes</td>\n",
       "      <td>Month-to-month</td>\n",
       "      <td>No</td>\n",
       "      <td>Yes</td>\n",
       "      <td>19</td>\n",
       "      <td>5698.12</td>\n",
       "      <td>2279.248</td>\n",
       "      <td>284.9060</td>\n",
       "      <td>3.740000</td>\n",
       "      <td>10462800</td>\n",
       "      <td>3.85</td>\n",
       "      <td>3.680000</td>\n",
       "      <td>3.650000</td>\n",
       "      <td>18.40</td>\n",
       "      <td>18.85</td>\n",
       "      <td>0</td>\n",
       "      <td>High School or less</td>\n",
       "    </tr>\n",
       "    <tr>\n",
       "      <th>2</th>\n",
       "      <td>Male</td>\n",
       "      <td>0</td>\n",
       "      <td>No</td>\n",
       "      <td>Yes</td>\n",
       "      <td>Month-to-month</td>\n",
       "      <td>Yes</td>\n",
       "      <td>No</td>\n",
       "      <td>22</td>\n",
       "      <td>5896.65</td>\n",
       "      <td>2358.660</td>\n",
       "      <td>294.8325</td>\n",
       "      <td>3.890000</td>\n",
       "      <td>18761000</td>\n",
       "      <td>4.23</td>\n",
       "      <td>4.290000</td>\n",
       "      <td>3.720000</td>\n",
       "      <td>18.70</td>\n",
       "      <td>18.9</td>\n",
       "      <td>0</td>\n",
       "      <td>High School or less</td>\n",
       "    </tr>\n",
       "    <tr>\n",
       "      <th>3</th>\n",
       "      <td>Female</td>\n",
       "      <td>1</td>\n",
       "      <td>No</td>\n",
       "      <td>Yes</td>\n",
       "      <td>Month-to-month</td>\n",
       "      <td>Yes</td>\n",
       "      <td>Yes</td>\n",
       "      <td>21</td>\n",
       "      <td>6125.12</td>\n",
       "      <td>2450.048</td>\n",
       "      <td>306.2560</td>\n",
       "      <td>4.350000</td>\n",
       "      <td>66130600</td>\n",
       "      <td>4.26</td>\n",
       "      <td>4.310000</td>\n",
       "      <td>3.830000</td>\n",
       "      <td>18.75</td>\n",
       "      <td>19</td>\n",
       "      <td>0</td>\n",
       "      <td>High School or less</td>\n",
       "    </tr>\n",
       "    <tr>\n",
       "      <th>4</th>\n",
       "      <td>Male</td>\n",
       "      <td>0</td>\n",
       "      <td>No</td>\n",
       "      <td>Yes</td>\n",
       "      <td>Month-to-month</td>\n",
       "      <td>Yes</td>\n",
       "      <td>Yes</td>\n",
       "      <td>23</td>\n",
       "      <td>6245.00</td>\n",
       "      <td>2498.000</td>\n",
       "      <td>312.2500</td>\n",
       "      <td>4.340000</td>\n",
       "      <td>26868200</td>\n",
       "      <td>4.79</td>\n",
       "      <td>4.410000</td>\n",
       "      <td>4.080000</td>\n",
       "      <td>18.80</td>\n",
       "      <td>19.05</td>\n",
       "      <td>1</td>\n",
       "      <td>High School or less</td>\n",
       "    </tr>\n",
       "    <tr>\n",
       "      <th>...</th>\n",
       "      <td>...</td>\n",
       "      <td>...</td>\n",
       "      <td>...</td>\n",
       "      <td>...</td>\n",
       "      <td>...</td>\n",
       "      <td>...</td>\n",
       "      <td>...</td>\n",
       "      <td>...</td>\n",
       "      <td>...</td>\n",
       "      <td>...</td>\n",
       "      <td>...</td>\n",
       "      <td>...</td>\n",
       "      <td>...</td>\n",
       "      <td>...</td>\n",
       "      <td>...</td>\n",
       "      <td>...</td>\n",
       "      <td>...</td>\n",
       "      <td>...</td>\n",
       "      <td>...</td>\n",
       "      <td>...</td>\n",
       "    </tr>\n",
       "    <tr>\n",
       "      <th>4995</th>\n",
       "      <td>Female</td>\n",
       "      <td>0</td>\n",
       "      <td>No</td>\n",
       "      <td>Yes</td>\n",
       "      <td>Month-to-month</td>\n",
       "      <td>No</td>\n",
       "      <td>No</td>\n",
       "      <td>72</td>\n",
       "      <td>180696.80</td>\n",
       "      <td>72278.720</td>\n",
       "      <td>9034.8400</td>\n",
       "      <td>629.511067</td>\n",
       "      <td>3927000</td>\n",
       "      <td>NaN</td>\n",
       "      <td>293.838840</td>\n",
       "      <td>310.955001</td>\n",
       "      <td>117.80</td>\n",
       "      <td></td>\n",
       "      <td>72</td>\n",
       "      <td>PG</td>\n",
       "    </tr>\n",
       "    <tr>\n",
       "      <th>4996</th>\n",
       "      <td>Male</td>\n",
       "      <td>0</td>\n",
       "      <td>No</td>\n",
       "      <td>Yes</td>\n",
       "      <td>Month-to-month</td>\n",
       "      <td>Yes</td>\n",
       "      <td>No</td>\n",
       "      <td>73</td>\n",
       "      <td>185685.90</td>\n",
       "      <td>74274.360</td>\n",
       "      <td>9284.2950</td>\n",
       "      <td>627.841071</td>\n",
       "      <td>6031900</td>\n",
       "      <td>NaN</td>\n",
       "      <td>301.311314</td>\n",
       "      <td>309.610028</td>\n",
       "      <td>118.60</td>\n",
       "      <td></td>\n",
       "      <td>72</td>\n",
       "      <td>PG</td>\n",
       "    </tr>\n",
       "    <tr>\n",
       "      <th>4997</th>\n",
       "      <td>Male</td>\n",
       "      <td>0</td>\n",
       "      <td>No</td>\n",
       "      <td>Yes</td>\n",
       "      <td>Month-to-month</td>\n",
       "      <td>Yes</td>\n",
       "      <td>No</td>\n",
       "      <td>74</td>\n",
       "      <td>192636.80</td>\n",
       "      <td>77054.720</td>\n",
       "      <td>9631.8400</td>\n",
       "      <td>625.860033</td>\n",
       "      <td>7949400</td>\n",
       "      <td>NaN</td>\n",
       "      <td>306.040009</td>\n",
       "      <td>303.483494</td>\n",
       "      <td>118.60</td>\n",
       "      <td></td>\n",
       "      <td>72</td>\n",
       "      <td>PG</td>\n",
       "    </tr>\n",
       "    <tr>\n",
       "      <th>4998</th>\n",
       "      <td>Male</td>\n",
       "      <td>1</td>\n",
       "      <td>No</td>\n",
       "      <td>Yes</td>\n",
       "      <td>Month-to-month</td>\n",
       "      <td>Yes</td>\n",
       "      <td>Yes</td>\n",
       "      <td>74</td>\n",
       "      <td>195970.70</td>\n",
       "      <td>78388.280</td>\n",
       "      <td>9798.5350</td>\n",
       "      <td>629.510005</td>\n",
       "      <td>3908400</td>\n",
       "      <td>NaN</td>\n",
       "      <td>308.579987</td>\n",
       "      <td>312.432438</td>\n",
       "      <td>118.65</td>\n",
       "      <td></td>\n",
       "      <td>72</td>\n",
       "      <td>PG</td>\n",
       "    </tr>\n",
       "    <tr>\n",
       "      <th>4999</th>\n",
       "      <td>Male</td>\n",
       "      <td>0</td>\n",
       "      <td>Yes</td>\n",
       "      <td>Yes</td>\n",
       "      <td>Two year</td>\n",
       "      <td>Yes</td>\n",
       "      <td>No</td>\n",
       "      <td>88</td>\n",
       "      <td>199970.74</td>\n",
       "      <td>79988.296</td>\n",
       "      <td>9998.5370</td>\n",
       "      <td>627.839984</td>\n",
       "      <td>6003300</td>\n",
       "      <td>NaN</td>\n",
       "      <td>312.307316</td>\n",
       "      <td>311.081089</td>\n",
       "      <td>118.75</td>\n",
       "      <td></td>\n",
       "      <td>72</td>\n",
       "      <td>PG</td>\n",
       "    </tr>\n",
       "  </tbody>\n",
       "</table>\n",
       "<p>5000 rows × 20 columns</p>\n",
       "</div>"
      ],
      "text/plain": [
       "      Gender  Business Dependancies Calls            Type Billing Rating  Age  \\\n",
       "0     Female         0           No   Yes  Month-to-month      No    Yes   18   \n",
       "1     Female         0           No   Yes  Month-to-month      No    Yes   19   \n",
       "2       Male         0           No   Yes  Month-to-month     Yes     No   22   \n",
       "3     Female         1           No   Yes  Month-to-month     Yes    Yes   21   \n",
       "4       Male         0           No   Yes  Month-to-month     Yes    Yes   23   \n",
       "...      ...       ...          ...   ...             ...     ...    ...  ...   \n",
       "4995  Female         0           No   Yes  Month-to-month      No     No   72   \n",
       "4996    Male         0           No   Yes  Month-to-month     Yes     No   73   \n",
       "4997    Male         0           No   Yes  Month-to-month     Yes     No   74   \n",
       "4998    Male         1           No   Yes  Month-to-month     Yes    Yes   74   \n",
       "4999    Male         0          Yes   Yes        Two year     Yes     No   88   \n",
       "\n",
       "         Salary   Base_pay      Bonus  Unit_Price    Volume  openingbalance  \\\n",
       "0       5089.00   2035.600   254.4500    3.770000  21226600            3.75   \n",
       "1       5698.12   2279.248   284.9060    3.740000  10462800            3.85   \n",
       "2       5896.65   2358.660   294.8325    3.890000  18761000            4.23   \n",
       "3       6125.12   2450.048   306.2560    4.350000  66130600            4.26   \n",
       "4       6245.00   2498.000   312.2500    4.340000  26868200            4.79   \n",
       "...         ...        ...        ...         ...       ...             ...   \n",
       "4995  180696.80  72278.720  9034.8400  629.511067   3927000             NaN   \n",
       "4996  185685.90  74274.360  9284.2950  627.841071   6031900             NaN   \n",
       "4997  192636.80  77054.720  9631.8400  625.860033   7949400             NaN   \n",
       "4998  195970.70  78388.280  9798.5350  629.510005   3908400             NaN   \n",
       "4999  199970.74  79988.296  9998.5370  627.839984   6003300             NaN   \n",
       "\n",
       "      closingbalance         low  Unit_Sales Total_Sales  Months  \\\n",
       "0           3.760000    3.650000       18.25        18.8       0   \n",
       "1           3.680000    3.650000       18.40       18.85       0   \n",
       "2           4.290000    3.720000       18.70        18.9       0   \n",
       "3           4.310000    3.830000       18.75          19       0   \n",
       "4           4.410000    4.080000       18.80       19.05       1   \n",
       "...              ...         ...         ...         ...     ...   \n",
       "4995      293.838840  310.955001      117.80                  72   \n",
       "4996      301.311314  309.610028      118.60                  72   \n",
       "4997      306.040009  303.483494      118.60                  72   \n",
       "4998      308.579987  312.432438      118.65                  72   \n",
       "4999      312.307316  311.081089      118.75                  72   \n",
       "\n",
       "                Education  \n",
       "0     High School or less  \n",
       "1     High School or less  \n",
       "2     High School or less  \n",
       "3     High School or less  \n",
       "4     High School or less  \n",
       "...                   ...  \n",
       "4995                   PG  \n",
       "4996                   PG  \n",
       "4997                   PG  \n",
       "4998                   PG  \n",
       "4999                   PG  \n",
       "\n",
       "[5000 rows x 20 columns]"
      ]
     },
     "execution_count": 2,
     "metadata": {},
     "output_type": "execute_result"
    }
   ],
   "source": [
    "#Read the data set\n",
    "data = pd.read_csv(\"C:/Users/CHETNA/Desktop/dataset/New_data_Set.csv\")\n",
    "data"
   ]
  },
  {
   "cell_type": "markdown",
   "id": "ae296d98",
   "metadata": {},
   "source": [
    "# Understand the problem statement"
   ]
  },
  {
   "cell_type": "markdown",
   "id": "70e2ca4f",
   "metadata": {},
   "source": [
    "In this dataset we have 5000 rows and 20 columns.\n",
    "In this dataset qualitative and quantitave data is present.\n",
    "the qualitative(categorical) data is two type nominal and ordinal.\n",
    "Nominal data columns are Gender,Business,Dependancies,Calls,Billing,Rating.\n",
    "Ordinal data columns are type,education.\n",
    "quantitave(numerical) data is two type Discrete data and Countinuous data.\n",
    "Discrete data columns are Age,openingbalance, Months.\n",
    "Continuous data columns are Salary,Base_pay,Bonus,Unit_Price,Total_Sales.\n",
    "this given data is about salary of male & female employees and some related factors like we have age of that employee,\n",
    "Education background of  employee etc.\n",
    "this given dataset is about one person working in a product company how is salary varying based on different factores."
   ]
  },
  {
   "cell_type": "markdown",
   "id": "377a07f7",
   "metadata": {},
   "source": [
    "# Understanding of Dataset for analysis"
   ]
  },
  {
   "cell_type": "code",
   "execution_count": 3,
   "id": "9faf4987",
   "metadata": {},
   "outputs": [
    {
     "data": {
      "text/plain": [
       "(5000, 20)"
      ]
     },
     "execution_count": 3,
     "metadata": {},
     "output_type": "execute_result"
    }
   ],
   "source": [
    "#finding the total number of rows and columns\n",
    "data.shape"
   ]
  },
  {
   "cell_type": "code",
   "execution_count": 4,
   "id": "f479ddd5",
   "metadata": {
    "scrolled": true
   },
   "outputs": [
    {
     "data": {
      "text/plain": [
       "Gender             object\n",
       "Business            int64\n",
       "Dependancies       object\n",
       "Calls              object\n",
       "Type               object\n",
       "Billing            object\n",
       "Rating             object\n",
       "Age                 int64\n",
       "Salary            float64\n",
       "Base_pay          float64\n",
       "Bonus             float64\n",
       "Unit_Price        float64\n",
       "Volume              int64\n",
       "openingbalance    float64\n",
       "closingbalance    float64\n",
       "low               float64\n",
       "Unit_Sales        float64\n",
       "Total_Sales        object\n",
       "Months              int64\n",
       "Education          object\n",
       "dtype: object"
      ]
     },
     "execution_count": 4,
     "metadata": {},
     "output_type": "execute_result"
    }
   ],
   "source": [
    "# check the datatype of the feature\n",
    "data.dtypes"
   ]
  },
  {
   "cell_type": "code",
   "execution_count": 5,
   "id": "d3049c6e",
   "metadata": {},
   "outputs": [
    {
     "data": {
      "text/html": [
       "<div>\n",
       "<style scoped>\n",
       "    .dataframe tbody tr th:only-of-type {\n",
       "        vertical-align: middle;\n",
       "    }\n",
       "\n",
       "    .dataframe tbody tr th {\n",
       "        vertical-align: top;\n",
       "    }\n",
       "\n",
       "    .dataframe thead th {\n",
       "        text-align: right;\n",
       "    }\n",
       "</style>\n",
       "<table border=\"1\" class=\"dataframe\">\n",
       "  <thead>\n",
       "    <tr style=\"text-align: right;\">\n",
       "      <th></th>\n",
       "      <th>Gender</th>\n",
       "      <th>Business</th>\n",
       "      <th>Dependancies</th>\n",
       "      <th>Calls</th>\n",
       "      <th>Type</th>\n",
       "      <th>Billing</th>\n",
       "      <th>Rating</th>\n",
       "      <th>Age</th>\n",
       "      <th>Salary</th>\n",
       "      <th>Base_pay</th>\n",
       "      <th>Bonus</th>\n",
       "      <th>Unit_Price</th>\n",
       "      <th>Volume</th>\n",
       "      <th>openingbalance</th>\n",
       "      <th>closingbalance</th>\n",
       "      <th>low</th>\n",
       "      <th>Unit_Sales</th>\n",
       "      <th>Total_Sales</th>\n",
       "      <th>Months</th>\n",
       "      <th>Education</th>\n",
       "    </tr>\n",
       "  </thead>\n",
       "  <tbody>\n",
       "    <tr>\n",
       "      <th>0</th>\n",
       "      <td>Female</td>\n",
       "      <td>0</td>\n",
       "      <td>No</td>\n",
       "      <td>Yes</td>\n",
       "      <td>Month-to-month</td>\n",
       "      <td>No</td>\n",
       "      <td>Yes</td>\n",
       "      <td>18</td>\n",
       "      <td>5089.00</td>\n",
       "      <td>2035.600</td>\n",
       "      <td>254.4500</td>\n",
       "      <td>3.77</td>\n",
       "      <td>21226600</td>\n",
       "      <td>3.75</td>\n",
       "      <td>3.76</td>\n",
       "      <td>3.65</td>\n",
       "      <td>18.25</td>\n",
       "      <td>18.8</td>\n",
       "      <td>0</td>\n",
       "      <td>High School or less</td>\n",
       "    </tr>\n",
       "    <tr>\n",
       "      <th>1</th>\n",
       "      <td>Female</td>\n",
       "      <td>0</td>\n",
       "      <td>No</td>\n",
       "      <td>Yes</td>\n",
       "      <td>Month-to-month</td>\n",
       "      <td>No</td>\n",
       "      <td>Yes</td>\n",
       "      <td>19</td>\n",
       "      <td>5698.12</td>\n",
       "      <td>2279.248</td>\n",
       "      <td>284.9060</td>\n",
       "      <td>3.74</td>\n",
       "      <td>10462800</td>\n",
       "      <td>3.85</td>\n",
       "      <td>3.68</td>\n",
       "      <td>3.65</td>\n",
       "      <td>18.40</td>\n",
       "      <td>18.85</td>\n",
       "      <td>0</td>\n",
       "      <td>High School or less</td>\n",
       "    </tr>\n",
       "    <tr>\n",
       "      <th>2</th>\n",
       "      <td>Male</td>\n",
       "      <td>0</td>\n",
       "      <td>No</td>\n",
       "      <td>Yes</td>\n",
       "      <td>Month-to-month</td>\n",
       "      <td>Yes</td>\n",
       "      <td>No</td>\n",
       "      <td>22</td>\n",
       "      <td>5896.65</td>\n",
       "      <td>2358.660</td>\n",
       "      <td>294.8325</td>\n",
       "      <td>3.89</td>\n",
       "      <td>18761000</td>\n",
       "      <td>4.23</td>\n",
       "      <td>4.29</td>\n",
       "      <td>3.72</td>\n",
       "      <td>18.70</td>\n",
       "      <td>18.9</td>\n",
       "      <td>0</td>\n",
       "      <td>High School or less</td>\n",
       "    </tr>\n",
       "    <tr>\n",
       "      <th>3</th>\n",
       "      <td>Female</td>\n",
       "      <td>1</td>\n",
       "      <td>No</td>\n",
       "      <td>Yes</td>\n",
       "      <td>Month-to-month</td>\n",
       "      <td>Yes</td>\n",
       "      <td>Yes</td>\n",
       "      <td>21</td>\n",
       "      <td>6125.12</td>\n",
       "      <td>2450.048</td>\n",
       "      <td>306.2560</td>\n",
       "      <td>4.35</td>\n",
       "      <td>66130600</td>\n",
       "      <td>4.26</td>\n",
       "      <td>4.31</td>\n",
       "      <td>3.83</td>\n",
       "      <td>18.75</td>\n",
       "      <td>19</td>\n",
       "      <td>0</td>\n",
       "      <td>High School or less</td>\n",
       "    </tr>\n",
       "    <tr>\n",
       "      <th>4</th>\n",
       "      <td>Male</td>\n",
       "      <td>0</td>\n",
       "      <td>No</td>\n",
       "      <td>Yes</td>\n",
       "      <td>Month-to-month</td>\n",
       "      <td>Yes</td>\n",
       "      <td>Yes</td>\n",
       "      <td>23</td>\n",
       "      <td>6245.00</td>\n",
       "      <td>2498.000</td>\n",
       "      <td>312.2500</td>\n",
       "      <td>4.34</td>\n",
       "      <td>26868200</td>\n",
       "      <td>4.79</td>\n",
       "      <td>4.41</td>\n",
       "      <td>4.08</td>\n",
       "      <td>18.80</td>\n",
       "      <td>19.05</td>\n",
       "      <td>1</td>\n",
       "      <td>High School or less</td>\n",
       "    </tr>\n",
       "  </tbody>\n",
       "</table>\n",
       "</div>"
      ],
      "text/plain": [
       "   Gender  Business Dependancies Calls            Type Billing Rating  Age  \\\n",
       "0  Female         0           No   Yes  Month-to-month      No    Yes   18   \n",
       "1  Female         0           No   Yes  Month-to-month      No    Yes   19   \n",
       "2    Male         0           No   Yes  Month-to-month     Yes     No   22   \n",
       "3  Female         1           No   Yes  Month-to-month     Yes    Yes   21   \n",
       "4    Male         0           No   Yes  Month-to-month     Yes    Yes   23   \n",
       "\n",
       "    Salary  Base_pay     Bonus  Unit_Price    Volume  openingbalance  \\\n",
       "0  5089.00  2035.600  254.4500        3.77  21226600            3.75   \n",
       "1  5698.12  2279.248  284.9060        3.74  10462800            3.85   \n",
       "2  5896.65  2358.660  294.8325        3.89  18761000            4.23   \n",
       "3  6125.12  2450.048  306.2560        4.35  66130600            4.26   \n",
       "4  6245.00  2498.000  312.2500        4.34  26868200            4.79   \n",
       "\n",
       "   closingbalance   low  Unit_Sales Total_Sales  Months            Education  \n",
       "0            3.76  3.65       18.25        18.8       0  High School or less  \n",
       "1            3.68  3.65       18.40       18.85       0  High School or less  \n",
       "2            4.29  3.72       18.70        18.9       0  High School or less  \n",
       "3            4.31  3.83       18.75          19       0  High School or less  \n",
       "4            4.41  4.08       18.80       19.05       1  High School or less  "
      ]
     },
     "execution_count": 5,
     "metadata": {},
     "output_type": "execute_result"
    }
   ],
   "source": [
    "#check the first 5 rows\n",
    "data.head()"
   ]
  },
  {
   "cell_type": "code",
   "execution_count": 6,
   "id": "e1d0d459",
   "metadata": {},
   "outputs": [
    {
     "data": {
      "text/html": [
       "<div>\n",
       "<style scoped>\n",
       "    .dataframe tbody tr th:only-of-type {\n",
       "        vertical-align: middle;\n",
       "    }\n",
       "\n",
       "    .dataframe tbody tr th {\n",
       "        vertical-align: top;\n",
       "    }\n",
       "\n",
       "    .dataframe thead th {\n",
       "        text-align: right;\n",
       "    }\n",
       "</style>\n",
       "<table border=\"1\" class=\"dataframe\">\n",
       "  <thead>\n",
       "    <tr style=\"text-align: right;\">\n",
       "      <th></th>\n",
       "      <th>Gender</th>\n",
       "      <th>Business</th>\n",
       "      <th>Dependancies</th>\n",
       "      <th>Calls</th>\n",
       "      <th>Type</th>\n",
       "      <th>Billing</th>\n",
       "      <th>Rating</th>\n",
       "      <th>Age</th>\n",
       "      <th>Salary</th>\n",
       "      <th>Base_pay</th>\n",
       "      <th>Bonus</th>\n",
       "      <th>Unit_Price</th>\n",
       "      <th>Volume</th>\n",
       "      <th>openingbalance</th>\n",
       "      <th>closingbalance</th>\n",
       "      <th>low</th>\n",
       "      <th>Unit_Sales</th>\n",
       "      <th>Total_Sales</th>\n",
       "      <th>Months</th>\n",
       "      <th>Education</th>\n",
       "    </tr>\n",
       "  </thead>\n",
       "  <tbody>\n",
       "    <tr>\n",
       "      <th>4995</th>\n",
       "      <td>Female</td>\n",
       "      <td>0</td>\n",
       "      <td>No</td>\n",
       "      <td>Yes</td>\n",
       "      <td>Month-to-month</td>\n",
       "      <td>No</td>\n",
       "      <td>No</td>\n",
       "      <td>72</td>\n",
       "      <td>180696.80</td>\n",
       "      <td>72278.720</td>\n",
       "      <td>9034.840</td>\n",
       "      <td>629.511067</td>\n",
       "      <td>3927000</td>\n",
       "      <td>NaN</td>\n",
       "      <td>293.838840</td>\n",
       "      <td>310.955001</td>\n",
       "      <td>117.80</td>\n",
       "      <td></td>\n",
       "      <td>72</td>\n",
       "      <td>PG</td>\n",
       "    </tr>\n",
       "    <tr>\n",
       "      <th>4996</th>\n",
       "      <td>Male</td>\n",
       "      <td>0</td>\n",
       "      <td>No</td>\n",
       "      <td>Yes</td>\n",
       "      <td>Month-to-month</td>\n",
       "      <td>Yes</td>\n",
       "      <td>No</td>\n",
       "      <td>73</td>\n",
       "      <td>185685.90</td>\n",
       "      <td>74274.360</td>\n",
       "      <td>9284.295</td>\n",
       "      <td>627.841071</td>\n",
       "      <td>6031900</td>\n",
       "      <td>NaN</td>\n",
       "      <td>301.311314</td>\n",
       "      <td>309.610028</td>\n",
       "      <td>118.60</td>\n",
       "      <td></td>\n",
       "      <td>72</td>\n",
       "      <td>PG</td>\n",
       "    </tr>\n",
       "    <tr>\n",
       "      <th>4997</th>\n",
       "      <td>Male</td>\n",
       "      <td>0</td>\n",
       "      <td>No</td>\n",
       "      <td>Yes</td>\n",
       "      <td>Month-to-month</td>\n",
       "      <td>Yes</td>\n",
       "      <td>No</td>\n",
       "      <td>74</td>\n",
       "      <td>192636.80</td>\n",
       "      <td>77054.720</td>\n",
       "      <td>9631.840</td>\n",
       "      <td>625.860033</td>\n",
       "      <td>7949400</td>\n",
       "      <td>NaN</td>\n",
       "      <td>306.040009</td>\n",
       "      <td>303.483494</td>\n",
       "      <td>118.60</td>\n",
       "      <td></td>\n",
       "      <td>72</td>\n",
       "      <td>PG</td>\n",
       "    </tr>\n",
       "    <tr>\n",
       "      <th>4998</th>\n",
       "      <td>Male</td>\n",
       "      <td>1</td>\n",
       "      <td>No</td>\n",
       "      <td>Yes</td>\n",
       "      <td>Month-to-month</td>\n",
       "      <td>Yes</td>\n",
       "      <td>Yes</td>\n",
       "      <td>74</td>\n",
       "      <td>195970.70</td>\n",
       "      <td>78388.280</td>\n",
       "      <td>9798.535</td>\n",
       "      <td>629.510005</td>\n",
       "      <td>3908400</td>\n",
       "      <td>NaN</td>\n",
       "      <td>308.579987</td>\n",
       "      <td>312.432438</td>\n",
       "      <td>118.65</td>\n",
       "      <td></td>\n",
       "      <td>72</td>\n",
       "      <td>PG</td>\n",
       "    </tr>\n",
       "    <tr>\n",
       "      <th>4999</th>\n",
       "      <td>Male</td>\n",
       "      <td>0</td>\n",
       "      <td>Yes</td>\n",
       "      <td>Yes</td>\n",
       "      <td>Two year</td>\n",
       "      <td>Yes</td>\n",
       "      <td>No</td>\n",
       "      <td>88</td>\n",
       "      <td>199970.74</td>\n",
       "      <td>79988.296</td>\n",
       "      <td>9998.537</td>\n",
       "      <td>627.839984</td>\n",
       "      <td>6003300</td>\n",
       "      <td>NaN</td>\n",
       "      <td>312.307316</td>\n",
       "      <td>311.081089</td>\n",
       "      <td>118.75</td>\n",
       "      <td></td>\n",
       "      <td>72</td>\n",
       "      <td>PG</td>\n",
       "    </tr>\n",
       "  </tbody>\n",
       "</table>\n",
       "</div>"
      ],
      "text/plain": [
       "      Gender  Business Dependancies Calls            Type Billing Rating  Age  \\\n",
       "4995  Female         0           No   Yes  Month-to-month      No     No   72   \n",
       "4996    Male         0           No   Yes  Month-to-month     Yes     No   73   \n",
       "4997    Male         0           No   Yes  Month-to-month     Yes     No   74   \n",
       "4998    Male         1           No   Yes  Month-to-month     Yes    Yes   74   \n",
       "4999    Male         0          Yes   Yes        Two year     Yes     No   88   \n",
       "\n",
       "         Salary   Base_pay     Bonus  Unit_Price   Volume  openingbalance  \\\n",
       "4995  180696.80  72278.720  9034.840  629.511067  3927000             NaN   \n",
       "4996  185685.90  74274.360  9284.295  627.841071  6031900             NaN   \n",
       "4997  192636.80  77054.720  9631.840  625.860033  7949400             NaN   \n",
       "4998  195970.70  78388.280  9798.535  629.510005  3908400             NaN   \n",
       "4999  199970.74  79988.296  9998.537  627.839984  6003300             NaN   \n",
       "\n",
       "      closingbalance         low  Unit_Sales Total_Sales  Months Education  \n",
       "4995      293.838840  310.955001      117.80                  72        PG  \n",
       "4996      301.311314  309.610028      118.60                  72        PG  \n",
       "4997      306.040009  303.483494      118.60                  72        PG  \n",
       "4998      308.579987  312.432438      118.65                  72        PG  \n",
       "4999      312.307316  311.081089      118.75                  72        PG  "
      ]
     },
     "execution_count": 6,
     "metadata": {},
     "output_type": "execute_result"
    }
   ],
   "source": [
    "#check the last 5 rows\n",
    "data.tail()"
   ]
  },
  {
   "cell_type": "code",
   "execution_count": 7,
   "id": "8222028b",
   "metadata": {},
   "outputs": [
    {
     "name": "stdout",
     "output_type": "stream",
     "text": [
      "<class 'pandas.core.frame.DataFrame'>\n",
      "RangeIndex: 5000 entries, 0 to 4999\n",
      "Data columns (total 20 columns):\n",
      " #   Column          Non-Null Count  Dtype  \n",
      "---  ------          --------------  -----  \n",
      " 0   Gender          5000 non-null   object \n",
      " 1   Business        5000 non-null   int64  \n",
      " 2   Dependancies    5000 non-null   object \n",
      " 3   Calls           5000 non-null   object \n",
      " 4   Type            5000 non-null   object \n",
      " 5   Billing         5000 non-null   object \n",
      " 6   Rating          5000 non-null   object \n",
      " 7   Age             5000 non-null   int64  \n",
      " 8   Salary          5000 non-null   float64\n",
      " 9   Base_pay        4977 non-null   float64\n",
      " 10  Bonus           5000 non-null   float64\n",
      " 11  Unit_Price      5000 non-null   float64\n",
      " 12  Volume          5000 non-null   int64  \n",
      " 13  openingbalance  3524 non-null   float64\n",
      " 14  closingbalance  5000 non-null   float64\n",
      " 15  low             5000 non-null   float64\n",
      " 16  Unit_Sales      5000 non-null   float64\n",
      " 17  Total_Sales     4992 non-null   object \n",
      " 18  Months          5000 non-null   int64  \n",
      " 19  Education       5000 non-null   object \n",
      "dtypes: float64(8), int64(4), object(8)\n",
      "memory usage: 781.4+ KB\n"
     ]
    }
   ],
   "source": [
    "#check the basic info of the columns and datatype\n",
    "data.info()"
   ]
  },
  {
   "cell_type": "code",
   "execution_count": 8,
   "id": "0b91233f",
   "metadata": {},
   "outputs": [
    {
     "data": {
      "text/html": [
       "<div>\n",
       "<style scoped>\n",
       "    .dataframe tbody tr th:only-of-type {\n",
       "        vertical-align: middle;\n",
       "    }\n",
       "\n",
       "    .dataframe tbody tr th {\n",
       "        vertical-align: top;\n",
       "    }\n",
       "\n",
       "    .dataframe thead th {\n",
       "        text-align: right;\n",
       "    }\n",
       "</style>\n",
       "<table border=\"1\" class=\"dataframe\">\n",
       "  <thead>\n",
       "    <tr style=\"text-align: right;\">\n",
       "      <th></th>\n",
       "      <th>Business</th>\n",
       "      <th>Age</th>\n",
       "      <th>Salary</th>\n",
       "      <th>Base_pay</th>\n",
       "      <th>Bonus</th>\n",
       "      <th>Unit_Price</th>\n",
       "      <th>Volume</th>\n",
       "      <th>openingbalance</th>\n",
       "      <th>closingbalance</th>\n",
       "      <th>low</th>\n",
       "      <th>Unit_Sales</th>\n",
       "      <th>Months</th>\n",
       "    </tr>\n",
       "  </thead>\n",
       "  <tbody>\n",
       "    <tr>\n",
       "      <th>count</th>\n",
       "      <td>5000.000000</td>\n",
       "      <td>5000.000000</td>\n",
       "      <td>5000.000000</td>\n",
       "      <td>4977.000000</td>\n",
       "      <td>5000.000000</td>\n",
       "      <td>5000.000000</td>\n",
       "      <td>5.000000e+03</td>\n",
       "      <td>3524.000000</td>\n",
       "      <td>5000.000000</td>\n",
       "      <td>5000.000000</td>\n",
       "      <td>5000.00000</td>\n",
       "      <td>5000.00000</td>\n",
       "    </tr>\n",
       "    <tr>\n",
       "      <th>mean</th>\n",
       "      <td>0.160000</td>\n",
       "      <td>51.865000</td>\n",
       "      <td>99821.928553</td>\n",
       "      <td>40046.187707</td>\n",
       "      <td>4991.096428</td>\n",
       "      <td>51.258522</td>\n",
       "      <td>6.761260e+06</td>\n",
       "      <td>43.922020</td>\n",
       "      <td>43.577828</td>\n",
       "      <td>43.034129</td>\n",
       "      <td>64.84151</td>\n",
       "      <td>32.18480</td>\n",
       "    </tr>\n",
       "    <tr>\n",
       "      <th>std</th>\n",
       "      <td>0.366643</td>\n",
       "      <td>8.560691</td>\n",
       "      <td>25376.961744</td>\n",
       "      <td>10135.686075</td>\n",
       "      <td>1268.848087</td>\n",
       "      <td>52.244022</td>\n",
       "      <td>1.620476e+07</td>\n",
       "      <td>38.361497</td>\n",
       "      <td>37.148512</td>\n",
       "      <td>36.760641</td>\n",
       "      <td>30.13968</td>\n",
       "      <td>24.63673</td>\n",
       "    </tr>\n",
       "    <tr>\n",
       "      <th>min</th>\n",
       "      <td>0.000000</td>\n",
       "      <td>18.000000</td>\n",
       "      <td>5089.000000</td>\n",
       "      <td>2035.600000</td>\n",
       "      <td>254.450000</td>\n",
       "      <td>1.440000</td>\n",
       "      <td>0.000000e+00</td>\n",
       "      <td>3.680000</td>\n",
       "      <td>3.680000</td>\n",
       "      <td>3.650000</td>\n",
       "      <td>18.25000</td>\n",
       "      <td>0.00000</td>\n",
       "    </tr>\n",
       "    <tr>\n",
       "      <th>25%</th>\n",
       "      <td>0.000000</td>\n",
       "      <td>47.000000</td>\n",
       "      <td>83890.338980</td>\n",
       "      <td>33720.552420</td>\n",
       "      <td>4194.516950</td>\n",
       "      <td>25.727500</td>\n",
       "      <td>1.283850e+06</td>\n",
       "      <td>22.098750</td>\n",
       "      <td>21.990000</td>\n",
       "      <td>21.718750</td>\n",
       "      <td>35.50000</td>\n",
       "      <td>8.00000</td>\n",
       "    </tr>\n",
       "    <tr>\n",
       "      <th>50%</th>\n",
       "      <td>0.000000</td>\n",
       "      <td>52.000000</td>\n",
       "      <td>100579.378500</td>\n",
       "      <td>40282.016040</td>\n",
       "      <td>5028.968925</td>\n",
       "      <td>39.205000</td>\n",
       "      <td>2.870600e+06</td>\n",
       "      <td>33.119999</td>\n",
       "      <td>33.340000</td>\n",
       "      <td>32.880001</td>\n",
       "      <td>70.50000</td>\n",
       "      <td>28.00000</td>\n",
       "    </tr>\n",
       "    <tr>\n",
       "      <th>75%</th>\n",
       "      <td>0.000000</td>\n",
       "      <td>57.000000</td>\n",
       "      <td>116912.092475</td>\n",
       "      <td>46792.232410</td>\n",
       "      <td>5845.604624</td>\n",
       "      <td>58.715000</td>\n",
       "      <td>6.247100e+06</td>\n",
       "      <td>51.421839</td>\n",
       "      <td>51.117500</td>\n",
       "      <td>50.415000</td>\n",
       "      <td>89.95000</td>\n",
       "      <td>55.00000</td>\n",
       "    </tr>\n",
       "    <tr>\n",
       "      <th>max</th>\n",
       "      <td>1.000000</td>\n",
       "      <td>88.000000</td>\n",
       "      <td>199970.740000</td>\n",
       "      <td>79988.296000</td>\n",
       "      <td>9998.537000</td>\n",
       "      <td>629.511067</td>\n",
       "      <td>3.208684e+08</td>\n",
       "      <td>313.903904</td>\n",
       "      <td>313.688694</td>\n",
       "      <td>312.432438</td>\n",
       "      <td>118.75000</td>\n",
       "      <td>72.00000</td>\n",
       "    </tr>\n",
       "  </tbody>\n",
       "</table>\n",
       "</div>"
      ],
      "text/plain": [
       "          Business          Age         Salary      Base_pay        Bonus  \\\n",
       "count  5000.000000  5000.000000    5000.000000   4977.000000  5000.000000   \n",
       "mean      0.160000    51.865000   99821.928553  40046.187707  4991.096428   \n",
       "std       0.366643     8.560691   25376.961744  10135.686075  1268.848087   \n",
       "min       0.000000    18.000000    5089.000000   2035.600000   254.450000   \n",
       "25%       0.000000    47.000000   83890.338980  33720.552420  4194.516950   \n",
       "50%       0.000000    52.000000  100579.378500  40282.016040  5028.968925   \n",
       "75%       0.000000    57.000000  116912.092475  46792.232410  5845.604624   \n",
       "max       1.000000    88.000000  199970.740000  79988.296000  9998.537000   \n",
       "\n",
       "        Unit_Price        Volume  openingbalance  closingbalance          low  \\\n",
       "count  5000.000000  5.000000e+03     3524.000000     5000.000000  5000.000000   \n",
       "mean     51.258522  6.761260e+06       43.922020       43.577828    43.034129   \n",
       "std      52.244022  1.620476e+07       38.361497       37.148512    36.760641   \n",
       "min       1.440000  0.000000e+00        3.680000        3.680000     3.650000   \n",
       "25%      25.727500  1.283850e+06       22.098750       21.990000    21.718750   \n",
       "50%      39.205000  2.870600e+06       33.119999       33.340000    32.880001   \n",
       "75%      58.715000  6.247100e+06       51.421839       51.117500    50.415000   \n",
       "max     629.511067  3.208684e+08      313.903904      313.688694   312.432438   \n",
       "\n",
       "       Unit_Sales      Months  \n",
       "count  5000.00000  5000.00000  \n",
       "mean     64.84151    32.18480  \n",
       "std      30.13968    24.63673  \n",
       "min      18.25000     0.00000  \n",
       "25%      35.50000     8.00000  \n",
       "50%      70.50000    28.00000  \n",
       "75%      89.95000    55.00000  \n",
       "max     118.75000    72.00000  "
      ]
     },
     "execution_count": 8,
     "metadata": {},
     "output_type": "execute_result"
    }
   ],
   "source": [
    "#statistical info abour feature\n",
    "data.describe()"
   ]
  },
  {
   "cell_type": "code",
   "execution_count": 9,
   "id": "f8bbc6f8",
   "metadata": {},
   "outputs": [
    {
     "data": {
      "text/plain": [
       "Gender               0\n",
       "Business             0\n",
       "Dependancies         0\n",
       "Calls                0\n",
       "Type                 0\n",
       "Billing              0\n",
       "Rating               0\n",
       "Age                  0\n",
       "Salary               0\n",
       "Base_pay            23\n",
       "Bonus                0\n",
       "Unit_Price           0\n",
       "Volume               0\n",
       "openingbalance    1476\n",
       "closingbalance       0\n",
       "low                  0\n",
       "Unit_Sales           0\n",
       "Total_Sales          8\n",
       "Months               0\n",
       "Education            0\n",
       "dtype: int64"
      ]
     },
     "execution_count": 9,
     "metadata": {},
     "output_type": "execute_result"
    }
   ],
   "source": [
    "#checking the null values in given dataset\n",
    "data.isnull().sum()"
   ]
  },
  {
   "cell_type": "code",
   "execution_count": 10,
   "id": "93577770",
   "metadata": {},
   "outputs": [
    {
     "data": {
      "text/plain": [
       "<AxesSubplot:>"
      ]
     },
     "execution_count": 10,
     "metadata": {},
     "output_type": "execute_result"
    },
    {
     "data": {
      "image/png": "[encoded data removed]",
      "text/plain": [
       "<Figure size 432x288 with 2 Axes>"
      ]
     },
     "metadata": {
      "needs_background": "light"
     },
     "output_type": "display_data"
    }
   ],
   "source": [
    "#visualising the missing values\n",
    "sns.heatmap(data.isnull())"
   ]
  },
  {
   "cell_type": "markdown",
   "id": "166d3330",
   "metadata": {},
   "source": [
    "#### Null values is present in the given data of columns Base_pay,openingbalance,Total_Sales."
   ]
  },
  {
   "cell_type": "markdown",
   "id": "0d4c5d40",
   "metadata": {},
   "source": [
    "# NULL VALUE HANDLING"
   ]
  },
  {
   "cell_type": "code",
   "execution_count": 11,
   "id": "e125e300",
   "metadata": {},
   "outputs": [
    {
     "name": "stderr",
     "output_type": "stream",
     "text": [
      "C:\\Users\\CHETNA\\anaconda3\\lib\\site-packages\\seaborn\\distributions.py:2557: FutureWarning: `distplot` is a deprecated function and will be removed in a future version. Please adapt your code to use either `displot` (a figure-level function with similar flexibility) or `histplot` (an axes-level function for histograms).\n",
      "  warnings.warn(msg, FutureWarning)\n"
     ]
    },
    {
     "data": {
      "text/plain": [
       "<AxesSubplot:xlabel='openingbalance', ylabel='Density'>"
      ]
     },
     "execution_count": 11,
     "metadata": {},
     "output_type": "execute_result"
    },
    {
     "data": {
      "image/png": "[encoded data removed]",
      "text/plain": [
       "<Figure size 432x288 with 1 Axes>"
      ]
     },
     "metadata": {
      "needs_background": "light"
     },
     "output_type": "display_data"
    }
   ],
   "source": [
    "sns.distplot(data['openingbalance'])"
   ]
  },
  {
   "cell_type": "code",
   "execution_count": 12,
   "id": "617a11fd",
   "metadata": {},
   "outputs": [],
   "source": [
    "#replacing missing values of openingbalance with the median of that column.\n",
    "data['openingbalance']=data['openingbalance'].fillna(data['openingbalance'].median())"
   ]
  },
  {
   "cell_type": "code",
   "execution_count": 13,
   "id": "758fdd3d",
   "metadata": {},
   "outputs": [
    {
     "data": {
      "text/plain": [
       "Gender             0\n",
       "Business           0\n",
       "Dependancies       0\n",
       "Calls              0\n",
       "Type               0\n",
       "Billing            0\n",
       "Rating             0\n",
       "Age                0\n",
       "Salary             0\n",
       "Base_pay          23\n",
       "Bonus              0\n",
       "Unit_Price         0\n",
       "Volume             0\n",
       "openingbalance     0\n",
       "closingbalance     0\n",
       "low                0\n",
       "Unit_Sales         0\n",
       "Total_Sales        8\n",
       "Months             0\n",
       "Education          0\n",
       "dtype: int64"
      ]
     },
     "execution_count": 13,
     "metadata": {},
     "output_type": "execute_result"
    }
   ],
   "source": [
    "data.isnull().sum()"
   ]
  },
  {
   "cell_type": "code",
   "execution_count": 14,
   "id": "75aba7b1",
   "metadata": {},
   "outputs": [],
   "source": [
    "#replacing missing values of  with Base_pay' the median of that column.\n",
    "data['Base_pay']=data['Base_pay'].fillna(data['Base_pay'].median())"
   ]
  },
  {
   "cell_type": "code",
   "execution_count": 15,
   "id": "8d48656c",
   "metadata": {},
   "outputs": [
    {
     "name": "stdout",
     "output_type": "stream",
     "text": [
      "<class 'pandas.core.frame.DataFrame'>\n",
      "RangeIndex: 5000 entries, 0 to 4999\n",
      "Data columns (total 20 columns):\n",
      " #   Column          Non-Null Count  Dtype  \n",
      "---  ------          --------------  -----  \n",
      " 0   Gender          5000 non-null   object \n",
      " 1   Business        5000 non-null   int64  \n",
      " 2   Dependancies    5000 non-null   object \n",
      " 3   Calls           5000 non-null   object \n",
      " 4   Type            5000 non-null   object \n",
      " 5   Billing         5000 non-null   object \n",
      " 6   Rating          5000 non-null   object \n",
      " 7   Age             5000 non-null   int64  \n",
      " 8   Salary          5000 non-null   float64\n",
      " 9   Base_pay        5000 non-null   float64\n",
      " 10  Bonus           5000 non-null   float64\n",
      " 11  Unit_Price      5000 non-null   float64\n",
      " 12  Volume          5000 non-null   int64  \n",
      " 13  openingbalance  5000 non-null   float64\n",
      " 14  closingbalance  5000 non-null   float64\n",
      " 15  low             5000 non-null   float64\n",
      " 16  Unit_Sales      5000 non-null   float64\n",
      " 17  Total_Sales     4984 non-null   float64\n",
      " 18  Months          5000 non-null   int64  \n",
      " 19  Education       5000 non-null   object \n",
      "dtypes: float64(9), int64(4), object(7)\n",
      "memory usage: 781.4+ KB\n"
     ]
    }
   ],
   "source": [
    "#Adjsutment of Total sales column from categorical to numeric as it should not be categorical column\n",
    "data['Total_Sales'] = pd.to_numeric(data['Total_Sales'], errors='coerce')\n",
    "data.info()"
   ]
  },
  {
   "cell_type": "code",
   "execution_count": 16,
   "id": "42191437",
   "metadata": {},
   "outputs": [],
   "source": [
    "#replacing missing values of  with Base_pay' the median of that column.\n",
    "data['Total_Sales']=data['Total_Sales'].fillna(data['Total_Sales'].median())"
   ]
  },
  {
   "cell_type": "code",
   "execution_count": 17,
   "id": "3c3f0a62",
   "metadata": {},
   "outputs": [
    {
     "data": {
      "text/plain": [
       "Gender            0\n",
       "Business          0\n",
       "Dependancies      0\n",
       "Calls             0\n",
       "Type              0\n",
       "Billing           0\n",
       "Rating            0\n",
       "Age               0\n",
       "Salary            0\n",
       "Base_pay          0\n",
       "Bonus             0\n",
       "Unit_Price        0\n",
       "Volume            0\n",
       "openingbalance    0\n",
       "closingbalance    0\n",
       "low               0\n",
       "Unit_Sales        0\n",
       "Total_Sales       0\n",
       "Months            0\n",
       "Education         0\n",
       "dtype: int64"
      ]
     },
     "execution_count": 17,
     "metadata": {},
     "output_type": "execute_result"
    }
   ],
   "source": [
    "data.isnull().sum()"
   ]
  },
  {
   "cell_type": "markdown",
   "id": "bb6aefbe",
   "metadata": {},
   "source": [
    "# OUTLIER TREATMENT"
   ]
  },
  {
   "cell_type": "markdown",
   "id": "3d6a1cd1",
   "metadata": {},
   "source": [
    "# Salary"
   ]
  },
  {
   "cell_type": "code",
   "execution_count": 18,
   "id": "a18362be",
   "metadata": {},
   "outputs": [
    {
     "name": "stderr",
     "output_type": "stream",
     "text": [
      "C:\\Users\\CHETNA\\anaconda3\\lib\\site-packages\\seaborn\\_decorators.py:36: FutureWarning: Pass the following variable as a keyword arg: x. From version 0.12, the only valid positional argument will be `data`, and passing other arguments without an explicit keyword will result in an error or misinterpretation.\n",
      "  warnings.warn(\n"
     ]
    },
    {
     "data": {
      "text/plain": [
       "<AxesSubplot:xlabel='Salary'>"
      ]
     },
     "execution_count": 18,
     "metadata": {},
     "output_type": "execute_result"
    },
    {
     "data": {
      "image/png": "[encoded data removed]",
      "text/plain": [
       "<Figure size 432x288 with 1 Axes>"
      ]
     },
     "metadata": {
      "needs_background": "light"
     },
     "output_type": "display_data"
    }
   ],
   "source": [
    "#checking the outliers in column salary using boxplot\n",
    "sns.boxplot(data['Salary'])"
   ]
  },
  {
   "cell_type": "code",
   "execution_count": 19,
   "id": "045119a7",
   "metadata": {},
   "outputs": [
    {
     "name": "stdout",
     "output_type": "stream",
     "text": [
      "166444.7227175\n",
      "34357.708737500005\n"
     ]
    }
   ],
   "source": [
    "#calculating the quantiles of salary\n",
    "q3=data['Salary'].quantile(0.75)\n",
    "q1=data['Salary'].quantile(0.25)\n",
    "q2=data['Salary'].quantile(0.50)\n",
    "\n",
    "IQR = q3-q1\n",
    "#calculating the upperwhisker and lowerwhisker\n",
    "ub = q3+1.5*IQR\n",
    "print(ub)\n",
    "lb = q1-1.5*IQR\n",
    "print(lb)"
   ]
  },
  {
   "cell_type": "code",
   "execution_count": 20,
   "id": "502203a5",
   "metadata": {},
   "outputs": [
    {
     "data": {
      "text/html": [
       "<div>\n",
       "<style scoped>\n",
       "    .dataframe tbody tr th:only-of-type {\n",
       "        vertical-align: middle;\n",
       "    }\n",
       "\n",
       "    .dataframe tbody tr th {\n",
       "        vertical-align: top;\n",
       "    }\n",
       "\n",
       "    .dataframe thead th {\n",
       "        text-align: right;\n",
       "    }\n",
       "</style>\n",
       "<table border=\"1\" class=\"dataframe\">\n",
       "  <thead>\n",
       "    <tr style=\"text-align: right;\">\n",
       "      <th></th>\n",
       "      <th>Gender</th>\n",
       "      <th>Business</th>\n",
       "      <th>Dependancies</th>\n",
       "      <th>Calls</th>\n",
       "      <th>Type</th>\n",
       "      <th>Billing</th>\n",
       "      <th>Rating</th>\n",
       "      <th>Age</th>\n",
       "      <th>Salary</th>\n",
       "      <th>Base_pay</th>\n",
       "      <th>Bonus</th>\n",
       "      <th>Unit_Price</th>\n",
       "      <th>Volume</th>\n",
       "      <th>openingbalance</th>\n",
       "      <th>closingbalance</th>\n",
       "      <th>low</th>\n",
       "      <th>Unit_Sales</th>\n",
       "      <th>Total_Sales</th>\n",
       "      <th>Months</th>\n",
       "      <th>Education</th>\n",
       "    </tr>\n",
       "  </thead>\n",
       "  <tbody>\n",
       "    <tr>\n",
       "      <th>0</th>\n",
       "      <td>Female</td>\n",
       "      <td>0</td>\n",
       "      <td>No</td>\n",
       "      <td>Yes</td>\n",
       "      <td>Month-to-month</td>\n",
       "      <td>No</td>\n",
       "      <td>Yes</td>\n",
       "      <td>18</td>\n",
       "      <td>5089.00</td>\n",
       "      <td>2035.600</td>\n",
       "      <td>254.4500</td>\n",
       "      <td>3.770000</td>\n",
       "      <td>21226600</td>\n",
       "      <td>3.750000</td>\n",
       "      <td>3.760000</td>\n",
       "      <td>3.650000</td>\n",
       "      <td>18.25</td>\n",
       "      <td>18.80</td>\n",
       "      <td>0</td>\n",
       "      <td>High School or less</td>\n",
       "    </tr>\n",
       "    <tr>\n",
       "      <th>1</th>\n",
       "      <td>Female</td>\n",
       "      <td>0</td>\n",
       "      <td>No</td>\n",
       "      <td>Yes</td>\n",
       "      <td>Month-to-month</td>\n",
       "      <td>No</td>\n",
       "      <td>Yes</td>\n",
       "      <td>19</td>\n",
       "      <td>5698.12</td>\n",
       "      <td>2279.248</td>\n",
       "      <td>284.9060</td>\n",
       "      <td>3.740000</td>\n",
       "      <td>10462800</td>\n",
       "      <td>3.850000</td>\n",
       "      <td>3.680000</td>\n",
       "      <td>3.650000</td>\n",
       "      <td>18.40</td>\n",
       "      <td>18.85</td>\n",
       "      <td>0</td>\n",
       "      <td>High School or less</td>\n",
       "    </tr>\n",
       "    <tr>\n",
       "      <th>2</th>\n",
       "      <td>Male</td>\n",
       "      <td>0</td>\n",
       "      <td>No</td>\n",
       "      <td>Yes</td>\n",
       "      <td>Month-to-month</td>\n",
       "      <td>Yes</td>\n",
       "      <td>No</td>\n",
       "      <td>22</td>\n",
       "      <td>5896.65</td>\n",
       "      <td>2358.660</td>\n",
       "      <td>294.8325</td>\n",
       "      <td>3.890000</td>\n",
       "      <td>18761000</td>\n",
       "      <td>4.230000</td>\n",
       "      <td>4.290000</td>\n",
       "      <td>3.720000</td>\n",
       "      <td>18.70</td>\n",
       "      <td>18.90</td>\n",
       "      <td>0</td>\n",
       "      <td>High School or less</td>\n",
       "    </tr>\n",
       "    <tr>\n",
       "      <th>3</th>\n",
       "      <td>Female</td>\n",
       "      <td>1</td>\n",
       "      <td>No</td>\n",
       "      <td>Yes</td>\n",
       "      <td>Month-to-month</td>\n",
       "      <td>Yes</td>\n",
       "      <td>Yes</td>\n",
       "      <td>21</td>\n",
       "      <td>6125.12</td>\n",
       "      <td>2450.048</td>\n",
       "      <td>306.2560</td>\n",
       "      <td>4.350000</td>\n",
       "      <td>66130600</td>\n",
       "      <td>4.260000</td>\n",
       "      <td>4.310000</td>\n",
       "      <td>3.830000</td>\n",
       "      <td>18.75</td>\n",
       "      <td>19.00</td>\n",
       "      <td>0</td>\n",
       "      <td>High School or less</td>\n",
       "    </tr>\n",
       "    <tr>\n",
       "      <th>4</th>\n",
       "      <td>Male</td>\n",
       "      <td>0</td>\n",
       "      <td>No</td>\n",
       "      <td>Yes</td>\n",
       "      <td>Month-to-month</td>\n",
       "      <td>Yes</td>\n",
       "      <td>Yes</td>\n",
       "      <td>23</td>\n",
       "      <td>6245.00</td>\n",
       "      <td>2498.000</td>\n",
       "      <td>312.2500</td>\n",
       "      <td>4.340000</td>\n",
       "      <td>26868200</td>\n",
       "      <td>4.790000</td>\n",
       "      <td>4.410000</td>\n",
       "      <td>4.080000</td>\n",
       "      <td>18.80</td>\n",
       "      <td>19.05</td>\n",
       "      <td>1</td>\n",
       "      <td>High School or less</td>\n",
       "    </tr>\n",
       "    <tr>\n",
       "      <th>...</th>\n",
       "      <td>...</td>\n",
       "      <td>...</td>\n",
       "      <td>...</td>\n",
       "      <td>...</td>\n",
       "      <td>...</td>\n",
       "      <td>...</td>\n",
       "      <td>...</td>\n",
       "      <td>...</td>\n",
       "      <td>...</td>\n",
       "      <td>...</td>\n",
       "      <td>...</td>\n",
       "      <td>...</td>\n",
       "      <td>...</td>\n",
       "      <td>...</td>\n",
       "      <td>...</td>\n",
       "      <td>...</td>\n",
       "      <td>...</td>\n",
       "      <td>...</td>\n",
       "      <td>...</td>\n",
       "      <td>...</td>\n",
       "    </tr>\n",
       "    <tr>\n",
       "      <th>4995</th>\n",
       "      <td>Female</td>\n",
       "      <td>0</td>\n",
       "      <td>No</td>\n",
       "      <td>Yes</td>\n",
       "      <td>Month-to-month</td>\n",
       "      <td>No</td>\n",
       "      <td>No</td>\n",
       "      <td>72</td>\n",
       "      <td>180696.80</td>\n",
       "      <td>72278.720</td>\n",
       "      <td>9034.8400</td>\n",
       "      <td>629.511067</td>\n",
       "      <td>3927000</td>\n",
       "      <td>33.119999</td>\n",
       "      <td>293.838840</td>\n",
       "      <td>310.955001</td>\n",
       "      <td>117.80</td>\n",
       "      <td>1395.65</td>\n",
       "      <td>72</td>\n",
       "      <td>PG</td>\n",
       "    </tr>\n",
       "    <tr>\n",
       "      <th>4996</th>\n",
       "      <td>Male</td>\n",
       "      <td>0</td>\n",
       "      <td>No</td>\n",
       "      <td>Yes</td>\n",
       "      <td>Month-to-month</td>\n",
       "      <td>Yes</td>\n",
       "      <td>No</td>\n",
       "      <td>73</td>\n",
       "      <td>185685.90</td>\n",
       "      <td>74274.360</td>\n",
       "      <td>9284.2950</td>\n",
       "      <td>627.841071</td>\n",
       "      <td>6031900</td>\n",
       "      <td>33.119999</td>\n",
       "      <td>301.311314</td>\n",
       "      <td>309.610028</td>\n",
       "      <td>118.60</td>\n",
       "      <td>1395.65</td>\n",
       "      <td>72</td>\n",
       "      <td>PG</td>\n",
       "    </tr>\n",
       "    <tr>\n",
       "      <th>4997</th>\n",
       "      <td>Male</td>\n",
       "      <td>0</td>\n",
       "      <td>No</td>\n",
       "      <td>Yes</td>\n",
       "      <td>Month-to-month</td>\n",
       "      <td>Yes</td>\n",
       "      <td>No</td>\n",
       "      <td>74</td>\n",
       "      <td>192636.80</td>\n",
       "      <td>77054.720</td>\n",
       "      <td>9631.8400</td>\n",
       "      <td>625.860033</td>\n",
       "      <td>7949400</td>\n",
       "      <td>33.119999</td>\n",
       "      <td>306.040009</td>\n",
       "      <td>303.483494</td>\n",
       "      <td>118.60</td>\n",
       "      <td>1395.65</td>\n",
       "      <td>72</td>\n",
       "      <td>PG</td>\n",
       "    </tr>\n",
       "    <tr>\n",
       "      <th>4998</th>\n",
       "      <td>Male</td>\n",
       "      <td>1</td>\n",
       "      <td>No</td>\n",
       "      <td>Yes</td>\n",
       "      <td>Month-to-month</td>\n",
       "      <td>Yes</td>\n",
       "      <td>Yes</td>\n",
       "      <td>74</td>\n",
       "      <td>195970.70</td>\n",
       "      <td>78388.280</td>\n",
       "      <td>9798.5350</td>\n",
       "      <td>629.510005</td>\n",
       "      <td>3908400</td>\n",
       "      <td>33.119999</td>\n",
       "      <td>308.579987</td>\n",
       "      <td>312.432438</td>\n",
       "      <td>118.65</td>\n",
       "      <td>1395.65</td>\n",
       "      <td>72</td>\n",
       "      <td>PG</td>\n",
       "    </tr>\n",
       "    <tr>\n",
       "      <th>4999</th>\n",
       "      <td>Male</td>\n",
       "      <td>0</td>\n",
       "      <td>Yes</td>\n",
       "      <td>Yes</td>\n",
       "      <td>Two year</td>\n",
       "      <td>Yes</td>\n",
       "      <td>No</td>\n",
       "      <td>88</td>\n",
       "      <td>199970.74</td>\n",
       "      <td>79988.296</td>\n",
       "      <td>9998.5370</td>\n",
       "      <td>627.839984</td>\n",
       "      <td>6003300</td>\n",
       "      <td>33.119999</td>\n",
       "      <td>312.307316</td>\n",
       "      <td>311.081089</td>\n",
       "      <td>118.75</td>\n",
       "      <td>1395.65</td>\n",
       "      <td>72</td>\n",
       "      <td>PG</td>\n",
       "    </tr>\n",
       "  </tbody>\n",
       "</table>\n",
       "<p>77 rows × 20 columns</p>\n",
       "</div>"
      ],
      "text/plain": [
       "      Gender  Business Dependancies Calls            Type Billing Rating  Age  \\\n",
       "0     Female         0           No   Yes  Month-to-month      No    Yes   18   \n",
       "1     Female         0           No   Yes  Month-to-month      No    Yes   19   \n",
       "2       Male         0           No   Yes  Month-to-month     Yes     No   22   \n",
       "3     Female         1           No   Yes  Month-to-month     Yes    Yes   21   \n",
       "4       Male         0           No   Yes  Month-to-month     Yes    Yes   23   \n",
       "...      ...       ...          ...   ...             ...     ...    ...  ...   \n",
       "4995  Female         0           No   Yes  Month-to-month      No     No   72   \n",
       "4996    Male         0           No   Yes  Month-to-month     Yes     No   73   \n",
       "4997    Male         0           No   Yes  Month-to-month     Yes     No   74   \n",
       "4998    Male         1           No   Yes  Month-to-month     Yes    Yes   74   \n",
       "4999    Male         0          Yes   Yes        Two year     Yes     No   88   \n",
       "\n",
       "         Salary   Base_pay      Bonus  Unit_Price    Volume  openingbalance  \\\n",
       "0       5089.00   2035.600   254.4500    3.770000  21226600        3.750000   \n",
       "1       5698.12   2279.248   284.9060    3.740000  10462800        3.850000   \n",
       "2       5896.65   2358.660   294.8325    3.890000  18761000        4.230000   \n",
       "3       6125.12   2450.048   306.2560    4.350000  66130600        4.260000   \n",
       "4       6245.00   2498.000   312.2500    4.340000  26868200        4.790000   \n",
       "...         ...        ...        ...         ...       ...             ...   \n",
       "4995  180696.80  72278.720  9034.8400  629.511067   3927000       33.119999   \n",
       "4996  185685.90  74274.360  9284.2950  627.841071   6031900       33.119999   \n",
       "4997  192636.80  77054.720  9631.8400  625.860033   7949400       33.119999   \n",
       "4998  195970.70  78388.280  9798.5350  629.510005   3908400       33.119999   \n",
       "4999  199970.74  79988.296  9998.5370  627.839984   6003300       33.119999   \n",
       "\n",
       "      closingbalance         low  Unit_Sales  Total_Sales  Months  \\\n",
       "0           3.760000    3.650000       18.25        18.80       0   \n",
       "1           3.680000    3.650000       18.40        18.85       0   \n",
       "2           4.290000    3.720000       18.70        18.90       0   \n",
       "3           4.310000    3.830000       18.75        19.00       0   \n",
       "4           4.410000    4.080000       18.80        19.05       1   \n",
       "...              ...         ...         ...          ...     ...   \n",
       "4995      293.838840  310.955001      117.80      1395.65      72   \n",
       "4996      301.311314  309.610028      118.60      1395.65      72   \n",
       "4997      306.040009  303.483494      118.60      1395.65      72   \n",
       "4998      308.579987  312.432438      118.65      1395.65      72   \n",
       "4999      312.307316  311.081089      118.75      1395.65      72   \n",
       "\n",
       "                Education  \n",
       "0     High School or less  \n",
       "1     High School or less  \n",
       "2     High School or less  \n",
       "3     High School or less  \n",
       "4     High School or less  \n",
       "...                   ...  \n",
       "4995                   PG  \n",
       "4996                   PG  \n",
       "4997                   PG  \n",
       "4998                   PG  \n",
       "4999                   PG  \n",
       "\n",
       "[77 rows x 20 columns]"
      ]
     },
     "execution_count": 20,
     "metadata": {},
     "output_type": "execute_result"
    }
   ],
   "source": [
    "data[(data.Salary<lb) | (data.Salary>ub)]"
   ]
  },
  {
   "cell_type": "code",
   "execution_count": 21,
   "id": "83959cbb",
   "metadata": {},
   "outputs": [],
   "source": [
    "data['Salary'] = data['Salary'][(data['Salary'] >= lb) & (data['Salary'] <= ub)]"
   ]
  },
  {
   "cell_type": "code",
   "execution_count": 22,
   "id": "89622123",
   "metadata": {},
   "outputs": [
    {
     "name": "stderr",
     "output_type": "stream",
     "text": [
      "C:\\Users\\CHETNA\\anaconda3\\lib\\site-packages\\seaborn\\_decorators.py:36: FutureWarning: Pass the following variable as a keyword arg: x. From version 0.12, the only valid positional argument will be `data`, and passing other arguments without an explicit keyword will result in an error or misinterpretation.\n",
      "  warnings.warn(\n"
     ]
    },
    {
     "data": {
      "text/plain": [
       "<AxesSubplot:xlabel='Salary'>"
      ]
     },
     "execution_count": 22,
     "metadata": {},
     "output_type": "execute_result"
    },
    {
     "data": {
      "image/png": "[encoded data removed]",
      "text/plain": [
       "<Figure size 432x288 with 1 Axes>"
      ]
     },
     "metadata": {
      "needs_background": "light"
     },
     "output_type": "display_data"
    }
   ],
   "source": [
    "sns.boxplot(data['Salary'])"
   ]
  },
  {
   "cell_type": "code",
   "execution_count": 23,
   "id": "4bc126e9",
   "metadata": {},
   "outputs": [
    {
     "data": {
      "text/plain": [
       "77"
      ]
     },
     "execution_count": 23,
     "metadata": {},
     "output_type": "execute_result"
    }
   ],
   "source": [
    "data[\"Salary\"].isnull().sum()"
   ]
  },
  {
   "cell_type": "code",
   "execution_count": 24,
   "id": "a8fd0fd8",
   "metadata": {},
   "outputs": [],
   "source": [
    "data['Salary']=data['Salary'].fillna(data['Salary'].mean())"
   ]
  },
  {
   "cell_type": "code",
   "execution_count": 25,
   "id": "8d296fcc",
   "metadata": {},
   "outputs": [
    {
     "data": {
      "text/plain": [
       "0"
      ]
     },
     "execution_count": 25,
     "metadata": {},
     "output_type": "execute_result"
    }
   ],
   "source": [
    "data[\"Salary\"].isnull().sum()"
   ]
  },
  {
   "cell_type": "code",
   "execution_count": 26,
   "id": "ce3f4096",
   "metadata": {},
   "outputs": [
    {
     "name": "stderr",
     "output_type": "stream",
     "text": [
      "C:\\Users\\CHETNA\\anaconda3\\lib\\site-packages\\seaborn\\_decorators.py:36: FutureWarning: Pass the following variable as a keyword arg: x. From version 0.12, the only valid positional argument will be `data`, and passing other arguments without an explicit keyword will result in an error or misinterpretation.\n",
      "  warnings.warn(\n"
     ]
    },
    {
     "data": {
      "text/plain": [
       "<AxesSubplot:xlabel='Salary'>"
      ]
     },
     "execution_count": 26,
     "metadata": {},
     "output_type": "execute_result"
    },
    {
     "data": {
      "image/png": "[encoded data removed]",
      "text/plain": [
       "<Figure size 432x288 with 1 Axes>"
      ]
     },
     "metadata": {
      "needs_background": "light"
     },
     "output_type": "display_data"
    }
   ],
   "source": [
    "sns.boxplot(data['Salary'])"
   ]
  },
  {
   "cell_type": "markdown",
   "id": "733a7a0e",
   "metadata": {},
   "source": [
    "# Base_pay"
   ]
  },
  {
   "cell_type": "code",
   "execution_count": 27,
   "id": "c487f789",
   "metadata": {},
   "outputs": [
    {
     "name": "stderr",
     "output_type": "stream",
     "text": [
      "C:\\Users\\CHETNA\\anaconda3\\lib\\site-packages\\seaborn\\_decorators.py:36: FutureWarning: Pass the following variable as a keyword arg: x. From version 0.12, the only valid positional argument will be `data`, and passing other arguments without an explicit keyword will result in an error or misinterpretation.\n",
      "  warnings.warn(\n"
     ]
    },
    {
     "data": {
      "text/plain": [
       "<AxesSubplot:xlabel='Base_pay'>"
      ]
     },
     "execution_count": 27,
     "metadata": {},
     "output_type": "execute_result"
    },
    {
     "data": {
      "image/png": "[encoded data removed]",
      "text/plain": [
       "<Figure size 432x288 with 1 Axes>"
      ]
     },
     "metadata": {
      "needs_background": "light"
     },
     "output_type": "display_data"
    }
   ],
   "source": [
    "sns.boxplot(data['Base_pay'])"
   ]
  },
  {
   "cell_type": "code",
   "execution_count": 28,
   "id": "e658b747",
   "metadata": {},
   "outputs": [
    {
     "name": "stdout",
     "output_type": "stream",
     "text": [
      "66296.0599925\n",
      "14212.79861250001\n"
     ]
    }
   ],
   "source": [
    "q3=data['Base_pay'].quantile(0.75)\n",
    "q1=data['Base_pay'].quantile(0.25)\n",
    "q2=data['Base_pay'].quantile(0.50)\n",
    "\n",
    "IQR = q3-q1\n",
    "ub = q3+1.5*IQR\n",
    "print(ub)\n",
    "lb = q1-1.5*IQR\n",
    "print(lb)"
   ]
  },
  {
   "cell_type": "code",
   "execution_count": 29,
   "id": "fb4c569b",
   "metadata": {},
   "outputs": [
    {
     "data": {
      "text/html": [
       "<div>\n",
       "<style scoped>\n",
       "    .dataframe tbody tr th:only-of-type {\n",
       "        vertical-align: middle;\n",
       "    }\n",
       "\n",
       "    .dataframe tbody tr th {\n",
       "        vertical-align: top;\n",
       "    }\n",
       "\n",
       "    .dataframe thead th {\n",
       "        text-align: right;\n",
       "    }\n",
       "</style>\n",
       "<table border=\"1\" class=\"dataframe\">\n",
       "  <thead>\n",
       "    <tr style=\"text-align: right;\">\n",
       "      <th></th>\n",
       "      <th>Gender</th>\n",
       "      <th>Business</th>\n",
       "      <th>Dependancies</th>\n",
       "      <th>Calls</th>\n",
       "      <th>Type</th>\n",
       "      <th>Billing</th>\n",
       "      <th>Rating</th>\n",
       "      <th>Age</th>\n",
       "      <th>Salary</th>\n",
       "      <th>Base_pay</th>\n",
       "      <th>Bonus</th>\n",
       "      <th>Unit_Price</th>\n",
       "      <th>Volume</th>\n",
       "      <th>openingbalance</th>\n",
       "      <th>closingbalance</th>\n",
       "      <th>low</th>\n",
       "      <th>Unit_Sales</th>\n",
       "      <th>Total_Sales</th>\n",
       "      <th>Months</th>\n",
       "      <th>Education</th>\n",
       "    </tr>\n",
       "  </thead>\n",
       "  <tbody>\n",
       "    <tr>\n",
       "      <th>0</th>\n",
       "      <td>Female</td>\n",
       "      <td>0</td>\n",
       "      <td>No</td>\n",
       "      <td>Yes</td>\n",
       "      <td>Month-to-month</td>\n",
       "      <td>No</td>\n",
       "      <td>Yes</td>\n",
       "      <td>18</td>\n",
       "      <td>100799.611045</td>\n",
       "      <td>2035.600</td>\n",
       "      <td>254.4500</td>\n",
       "      <td>3.770000</td>\n",
       "      <td>21226600</td>\n",
       "      <td>3.750000</td>\n",
       "      <td>3.760000</td>\n",
       "      <td>3.650000</td>\n",
       "      <td>18.25</td>\n",
       "      <td>18.80</td>\n",
       "      <td>0</td>\n",
       "      <td>High School or less</td>\n",
       "    </tr>\n",
       "    <tr>\n",
       "      <th>1</th>\n",
       "      <td>Female</td>\n",
       "      <td>0</td>\n",
       "      <td>No</td>\n",
       "      <td>Yes</td>\n",
       "      <td>Month-to-month</td>\n",
       "      <td>No</td>\n",
       "      <td>Yes</td>\n",
       "      <td>19</td>\n",
       "      <td>100799.611045</td>\n",
       "      <td>2279.248</td>\n",
       "      <td>284.9060</td>\n",
       "      <td>3.740000</td>\n",
       "      <td>10462800</td>\n",
       "      <td>3.850000</td>\n",
       "      <td>3.680000</td>\n",
       "      <td>3.650000</td>\n",
       "      <td>18.40</td>\n",
       "      <td>18.85</td>\n",
       "      <td>0</td>\n",
       "      <td>High School or less</td>\n",
       "    </tr>\n",
       "    <tr>\n",
       "      <th>2</th>\n",
       "      <td>Male</td>\n",
       "      <td>0</td>\n",
       "      <td>No</td>\n",
       "      <td>Yes</td>\n",
       "      <td>Month-to-month</td>\n",
       "      <td>Yes</td>\n",
       "      <td>No</td>\n",
       "      <td>22</td>\n",
       "      <td>100799.611045</td>\n",
       "      <td>2358.660</td>\n",
       "      <td>294.8325</td>\n",
       "      <td>3.890000</td>\n",
       "      <td>18761000</td>\n",
       "      <td>4.230000</td>\n",
       "      <td>4.290000</td>\n",
       "      <td>3.720000</td>\n",
       "      <td>18.70</td>\n",
       "      <td>18.90</td>\n",
       "      <td>0</td>\n",
       "      <td>High School or less</td>\n",
       "    </tr>\n",
       "    <tr>\n",
       "      <th>3</th>\n",
       "      <td>Female</td>\n",
       "      <td>1</td>\n",
       "      <td>No</td>\n",
       "      <td>Yes</td>\n",
       "      <td>Month-to-month</td>\n",
       "      <td>Yes</td>\n",
       "      <td>Yes</td>\n",
       "      <td>21</td>\n",
       "      <td>100799.611045</td>\n",
       "      <td>2450.048</td>\n",
       "      <td>306.2560</td>\n",
       "      <td>4.350000</td>\n",
       "      <td>66130600</td>\n",
       "      <td>4.260000</td>\n",
       "      <td>4.310000</td>\n",
       "      <td>3.830000</td>\n",
       "      <td>18.75</td>\n",
       "      <td>19.00</td>\n",
       "      <td>0</td>\n",
       "      <td>High School or less</td>\n",
       "    </tr>\n",
       "    <tr>\n",
       "      <th>4</th>\n",
       "      <td>Male</td>\n",
       "      <td>0</td>\n",
       "      <td>No</td>\n",
       "      <td>Yes</td>\n",
       "      <td>Month-to-month</td>\n",
       "      <td>Yes</td>\n",
       "      <td>Yes</td>\n",
       "      <td>23</td>\n",
       "      <td>100799.611045</td>\n",
       "      <td>2498.000</td>\n",
       "      <td>312.2500</td>\n",
       "      <td>4.340000</td>\n",
       "      <td>26868200</td>\n",
       "      <td>4.790000</td>\n",
       "      <td>4.410000</td>\n",
       "      <td>4.080000</td>\n",
       "      <td>18.80</td>\n",
       "      <td>19.05</td>\n",
       "      <td>1</td>\n",
       "      <td>High School or less</td>\n",
       "    </tr>\n",
       "    <tr>\n",
       "      <th>...</th>\n",
       "      <td>...</td>\n",
       "      <td>...</td>\n",
       "      <td>...</td>\n",
       "      <td>...</td>\n",
       "      <td>...</td>\n",
       "      <td>...</td>\n",
       "      <td>...</td>\n",
       "      <td>...</td>\n",
       "      <td>...</td>\n",
       "      <td>...</td>\n",
       "      <td>...</td>\n",
       "      <td>...</td>\n",
       "      <td>...</td>\n",
       "      <td>...</td>\n",
       "      <td>...</td>\n",
       "      <td>...</td>\n",
       "      <td>...</td>\n",
       "      <td>...</td>\n",
       "      <td>...</td>\n",
       "      <td>...</td>\n",
       "    </tr>\n",
       "    <tr>\n",
       "      <th>4995</th>\n",
       "      <td>Female</td>\n",
       "      <td>0</td>\n",
       "      <td>No</td>\n",
       "      <td>Yes</td>\n",
       "      <td>Month-to-month</td>\n",
       "      <td>No</td>\n",
       "      <td>No</td>\n",
       "      <td>72</td>\n",
       "      <td>100799.611045</td>\n",
       "      <td>72278.720</td>\n",
       "      <td>9034.8400</td>\n",
       "      <td>629.511067</td>\n",
       "      <td>3927000</td>\n",
       "      <td>33.119999</td>\n",
       "      <td>293.838840</td>\n",
       "      <td>310.955001</td>\n",
       "      <td>117.80</td>\n",
       "      <td>1395.65</td>\n",
       "      <td>72</td>\n",
       "      <td>PG</td>\n",
       "    </tr>\n",
       "    <tr>\n",
       "      <th>4996</th>\n",
       "      <td>Male</td>\n",
       "      <td>0</td>\n",
       "      <td>No</td>\n",
       "      <td>Yes</td>\n",
       "      <td>Month-to-month</td>\n",
       "      <td>Yes</td>\n",
       "      <td>No</td>\n",
       "      <td>73</td>\n",
       "      <td>100799.611045</td>\n",
       "      <td>74274.360</td>\n",
       "      <td>9284.2950</td>\n",
       "      <td>627.841071</td>\n",
       "      <td>6031900</td>\n",
       "      <td>33.119999</td>\n",
       "      <td>301.311314</td>\n",
       "      <td>309.610028</td>\n",
       "      <td>118.60</td>\n",
       "      <td>1395.65</td>\n",
       "      <td>72</td>\n",
       "      <td>PG</td>\n",
       "    </tr>\n",
       "    <tr>\n",
       "      <th>4997</th>\n",
       "      <td>Male</td>\n",
       "      <td>0</td>\n",
       "      <td>No</td>\n",
       "      <td>Yes</td>\n",
       "      <td>Month-to-month</td>\n",
       "      <td>Yes</td>\n",
       "      <td>No</td>\n",
       "      <td>74</td>\n",
       "      <td>100799.611045</td>\n",
       "      <td>77054.720</td>\n",
       "      <td>9631.8400</td>\n",
       "      <td>625.860033</td>\n",
       "      <td>7949400</td>\n",
       "      <td>33.119999</td>\n",
       "      <td>306.040009</td>\n",
       "      <td>303.483494</td>\n",
       "      <td>118.60</td>\n",
       "      <td>1395.65</td>\n",
       "      <td>72</td>\n",
       "      <td>PG</td>\n",
       "    </tr>\n",
       "    <tr>\n",
       "      <th>4998</th>\n",
       "      <td>Male</td>\n",
       "      <td>1</td>\n",
       "      <td>No</td>\n",
       "      <td>Yes</td>\n",
       "      <td>Month-to-month</td>\n",
       "      <td>Yes</td>\n",
       "      <td>Yes</td>\n",
       "      <td>74</td>\n",
       "      <td>100799.611045</td>\n",
       "      <td>78388.280</td>\n",
       "      <td>9798.5350</td>\n",
       "      <td>629.510005</td>\n",
       "      <td>3908400</td>\n",
       "      <td>33.119999</td>\n",
       "      <td>308.579987</td>\n",
       "      <td>312.432438</td>\n",
       "      <td>118.65</td>\n",
       "      <td>1395.65</td>\n",
       "      <td>72</td>\n",
       "      <td>PG</td>\n",
       "    </tr>\n",
       "    <tr>\n",
       "      <th>4999</th>\n",
       "      <td>Male</td>\n",
       "      <td>0</td>\n",
       "      <td>Yes</td>\n",
       "      <td>Yes</td>\n",
       "      <td>Two year</td>\n",
       "      <td>Yes</td>\n",
       "      <td>No</td>\n",
       "      <td>88</td>\n",
       "      <td>100799.611045</td>\n",
       "      <td>79988.296</td>\n",
       "      <td>9998.5370</td>\n",
       "      <td>627.839984</td>\n",
       "      <td>6003300</td>\n",
       "      <td>33.119999</td>\n",
       "      <td>312.307316</td>\n",
       "      <td>311.081089</td>\n",
       "      <td>118.75</td>\n",
       "      <td>1395.65</td>\n",
       "      <td>72</td>\n",
       "      <td>PG</td>\n",
       "    </tr>\n",
       "  </tbody>\n",
       "</table>\n",
       "<p>83 rows × 20 columns</p>\n",
       "</div>"
      ],
      "text/plain": [
       "      Gender  Business Dependancies Calls            Type Billing Rating  Age  \\\n",
       "0     Female         0           No   Yes  Month-to-month      No    Yes   18   \n",
       "1     Female         0           No   Yes  Month-to-month      No    Yes   19   \n",
       "2       Male         0           No   Yes  Month-to-month     Yes     No   22   \n",
       "3     Female         1           No   Yes  Month-to-month     Yes    Yes   21   \n",
       "4       Male         0           No   Yes  Month-to-month     Yes    Yes   23   \n",
       "...      ...       ...          ...   ...             ...     ...    ...  ...   \n",
       "4995  Female         0           No   Yes  Month-to-month      No     No   72   \n",
       "4996    Male         0           No   Yes  Month-to-month     Yes     No   73   \n",
       "4997    Male         0           No   Yes  Month-to-month     Yes     No   74   \n",
       "4998    Male         1           No   Yes  Month-to-month     Yes    Yes   74   \n",
       "4999    Male         0          Yes   Yes        Two year     Yes     No   88   \n",
       "\n",
       "             Salary   Base_pay      Bonus  Unit_Price    Volume  \\\n",
       "0     100799.611045   2035.600   254.4500    3.770000  21226600   \n",
       "1     100799.611045   2279.248   284.9060    3.740000  10462800   \n",
       "2     100799.611045   2358.660   294.8325    3.890000  18761000   \n",
       "3     100799.611045   2450.048   306.2560    4.350000  66130600   \n",
       "4     100799.611045   2498.000   312.2500    4.340000  26868200   \n",
       "...             ...        ...        ...         ...       ...   \n",
       "4995  100799.611045  72278.720  9034.8400  629.511067   3927000   \n",
       "4996  100799.611045  74274.360  9284.2950  627.841071   6031900   \n",
       "4997  100799.611045  77054.720  9631.8400  625.860033   7949400   \n",
       "4998  100799.611045  78388.280  9798.5350  629.510005   3908400   \n",
       "4999  100799.611045  79988.296  9998.5370  627.839984   6003300   \n",
       "\n",
       "      openingbalance  closingbalance         low  Unit_Sales  Total_Sales  \\\n",
       "0           3.750000        3.760000    3.650000       18.25        18.80   \n",
       "1           3.850000        3.680000    3.650000       18.40        18.85   \n",
       "2           4.230000        4.290000    3.720000       18.70        18.90   \n",
       "3           4.260000        4.310000    3.830000       18.75        19.00   \n",
       "4           4.790000        4.410000    4.080000       18.80        19.05   \n",
       "...              ...             ...         ...         ...          ...   \n",
       "4995       33.119999      293.838840  310.955001      117.80      1395.65   \n",
       "4996       33.119999      301.311314  309.610028      118.60      1395.65   \n",
       "4997       33.119999      306.040009  303.483494      118.60      1395.65   \n",
       "4998       33.119999      308.579987  312.432438      118.65      1395.65   \n",
       "4999       33.119999      312.307316  311.081089      118.75      1395.65   \n",
       "\n",
       "      Months            Education  \n",
       "0          0  High School or less  \n",
       "1          0  High School or less  \n",
       "2          0  High School or less  \n",
       "3          0  High School or less  \n",
       "4          1  High School or less  \n",
       "...      ...                  ...  \n",
       "4995      72                   PG  \n",
       "4996      72                   PG  \n",
       "4997      72                   PG  \n",
       "4998      72                   PG  \n",
       "4999      72                   PG  \n",
       "\n",
       "[83 rows x 20 columns]"
      ]
     },
     "execution_count": 29,
     "metadata": {},
     "output_type": "execute_result"
    }
   ],
   "source": [
    "data[(data.Base_pay<lb) | (data.Base_pay>ub)]"
   ]
  },
  {
   "cell_type": "code",
   "execution_count": 30,
   "id": "595a57a1",
   "metadata": {},
   "outputs": [],
   "source": [
    "data['Base_pay'] = data['Base_pay'][(data['Base_pay'] >= lb) & (data['Base_pay'] <= ub)]"
   ]
  },
  {
   "cell_type": "code",
   "execution_count": 31,
   "id": "962ac397",
   "metadata": {},
   "outputs": [
    {
     "name": "stderr",
     "output_type": "stream",
     "text": [
      "C:\\Users\\CHETNA\\anaconda3\\lib\\site-packages\\seaborn\\_decorators.py:36: FutureWarning: Pass the following variable as a keyword arg: x. From version 0.12, the only valid positional argument will be `data`, and passing other arguments without an explicit keyword will result in an error or misinterpretation.\n",
      "  warnings.warn(\n"
     ]
    },
    {
     "data": {
      "text/plain": [
       "<AxesSubplot:xlabel='Base_pay'>"
      ]
     },
     "execution_count": 31,
     "metadata": {},
     "output_type": "execute_result"
    },
    {
     "data": {
      "image/png": "[encoded data removed]",
      "text/plain": [
       "<Figure size 432x288 with 1 Axes>"
      ]
     },
     "metadata": {
      "needs_background": "light"
     },
     "output_type": "display_data"
    }
   ],
   "source": [
    "sns.boxplot(data['Base_pay'])"
   ]
  },
  {
   "cell_type": "code",
   "execution_count": 32,
   "id": "07a4ef3d",
   "metadata": {},
   "outputs": [
    {
     "data": {
      "text/plain": [
       "83"
      ]
     },
     "execution_count": 32,
     "metadata": {},
     "output_type": "execute_result"
    }
   ],
   "source": [
    "data[\"Base_pay\"].isnull().sum()"
   ]
  },
  {
   "cell_type": "code",
   "execution_count": 33,
   "id": "ca30d601",
   "metadata": {},
   "outputs": [],
   "source": [
    "data['Base_pay']=data['Base_pay'].fillna(data['Base_pay'].mean())"
   ]
  },
  {
   "cell_type": "code",
   "execution_count": 34,
   "id": "4dd65d8a",
   "metadata": {},
   "outputs": [
    {
     "data": {
      "text/plain": [
       "0"
      ]
     },
     "execution_count": 34,
     "metadata": {},
     "output_type": "execute_result"
    }
   ],
   "source": [
    "data[\"Base_pay\"].isnull().sum()"
   ]
  },
  {
   "cell_type": "code",
   "execution_count": 35,
   "id": "52c2bb19",
   "metadata": {},
   "outputs": [
    {
     "name": "stderr",
     "output_type": "stream",
     "text": [
      "C:\\Users\\CHETNA\\anaconda3\\lib\\site-packages\\seaborn\\_decorators.py:36: FutureWarning: Pass the following variable as a keyword arg: x. From version 0.12, the only valid positional argument will be `data`, and passing other arguments without an explicit keyword will result in an error or misinterpretation.\n",
      "  warnings.warn(\n"
     ]
    },
    {
     "data": {
      "text/plain": [
       "<AxesSubplot:xlabel='Base_pay'>"
      ]
     },
     "execution_count": 35,
     "metadata": {},
     "output_type": "execute_result"
    },
    {
     "data": {
      "image/png": "[encoded data removed]",
      "text/plain": [
       "<Figure size 432x288 with 1 Axes>"
      ]
     },
     "metadata": {
      "needs_background": "light"
     },
     "output_type": "display_data"
    }
   ],
   "source": [
    "sns.boxplot(data['Base_pay'])"
   ]
  },
  {
   "cell_type": "markdown",
   "id": "24b2d5ca",
   "metadata": {},
   "source": [
    "# Bonus"
   ]
  },
  {
   "cell_type": "code",
   "execution_count": 36,
   "id": "c021621d",
   "metadata": {},
   "outputs": [
    {
     "name": "stderr",
     "output_type": "stream",
     "text": [
      "C:\\Users\\CHETNA\\anaconda3\\lib\\site-packages\\seaborn\\_decorators.py:36: FutureWarning: Pass the following variable as a keyword arg: x. From version 0.12, the only valid positional argument will be `data`, and passing other arguments without an explicit keyword will result in an error or misinterpretation.\n",
      "  warnings.warn(\n"
     ]
    },
    {
     "data": {
      "text/plain": [
       "<AxesSubplot:xlabel='Bonus'>"
      ]
     },
     "execution_count": 36,
     "metadata": {},
     "output_type": "execute_result"
    },
    {
     "data": {
      "image/png": "[encoded data removed]",
      "text/plain": [
       "<Figure size 432x288 with 1 Axes>"
      ]
     },
     "metadata": {
      "needs_background": "light"
     },
     "output_type": "display_data"
    }
   ],
   "source": [
    "sns.boxplot(data['Bonus'])"
   ]
  },
  {
   "cell_type": "code",
   "execution_count": 37,
   "id": "01b8ee9c",
   "metadata": {},
   "outputs": [
    {
     "name": "stdout",
     "output_type": "stream",
     "text": [
      "8322.236135124998\n",
      "1717.8854381250007\n"
     ]
    }
   ],
   "source": [
    "q3=data['Bonus'].quantile(0.75)\n",
    "q1=data['Bonus'].quantile(0.25)\n",
    "q2=data['Bonus'].quantile(0.50)\n",
    "\n",
    "IQR = q3-q1\n",
    "ub = q3+1.5*IQR\n",
    "print(ub)\n",
    "lb = q1-1.5*IQR\n",
    "print(lb)"
   ]
  },
  {
   "cell_type": "code",
   "execution_count": 38,
   "id": "65a311dd",
   "metadata": {},
   "outputs": [
    {
     "data": {
      "text/html": [
       "<div>\n",
       "<style scoped>\n",
       "    .dataframe tbody tr th:only-of-type {\n",
       "        vertical-align: middle;\n",
       "    }\n",
       "\n",
       "    .dataframe tbody tr th {\n",
       "        vertical-align: top;\n",
       "    }\n",
       "\n",
       "    .dataframe thead th {\n",
       "        text-align: right;\n",
       "    }\n",
       "</style>\n",
       "<table border=\"1\" class=\"dataframe\">\n",
       "  <thead>\n",
       "    <tr style=\"text-align: right;\">\n",
       "      <th></th>\n",
       "      <th>Gender</th>\n",
       "      <th>Business</th>\n",
       "      <th>Dependancies</th>\n",
       "      <th>Calls</th>\n",
       "      <th>Type</th>\n",
       "      <th>Billing</th>\n",
       "      <th>Rating</th>\n",
       "      <th>Age</th>\n",
       "      <th>Salary</th>\n",
       "      <th>Base_pay</th>\n",
       "      <th>Bonus</th>\n",
       "      <th>Unit_Price</th>\n",
       "      <th>Volume</th>\n",
       "      <th>openingbalance</th>\n",
       "      <th>closingbalance</th>\n",
       "      <th>low</th>\n",
       "      <th>Unit_Sales</th>\n",
       "      <th>Total_Sales</th>\n",
       "      <th>Months</th>\n",
       "      <th>Education</th>\n",
       "    </tr>\n",
       "  </thead>\n",
       "  <tbody>\n",
       "    <tr>\n",
       "      <th>0</th>\n",
       "      <td>Female</td>\n",
       "      <td>0</td>\n",
       "      <td>No</td>\n",
       "      <td>Yes</td>\n",
       "      <td>Month-to-month</td>\n",
       "      <td>No</td>\n",
       "      <td>Yes</td>\n",
       "      <td>18</td>\n",
       "      <td>100799.611045</td>\n",
       "      <td>40411.194952</td>\n",
       "      <td>254.4500</td>\n",
       "      <td>3.770000</td>\n",
       "      <td>21226600</td>\n",
       "      <td>3.750000</td>\n",
       "      <td>3.760000</td>\n",
       "      <td>3.650000</td>\n",
       "      <td>18.25</td>\n",
       "      <td>18.80</td>\n",
       "      <td>0</td>\n",
       "      <td>High School or less</td>\n",
       "    </tr>\n",
       "    <tr>\n",
       "      <th>1</th>\n",
       "      <td>Female</td>\n",
       "      <td>0</td>\n",
       "      <td>No</td>\n",
       "      <td>Yes</td>\n",
       "      <td>Month-to-month</td>\n",
       "      <td>No</td>\n",
       "      <td>Yes</td>\n",
       "      <td>19</td>\n",
       "      <td>100799.611045</td>\n",
       "      <td>40411.194952</td>\n",
       "      <td>284.9060</td>\n",
       "      <td>3.740000</td>\n",
       "      <td>10462800</td>\n",
       "      <td>3.850000</td>\n",
       "      <td>3.680000</td>\n",
       "      <td>3.650000</td>\n",
       "      <td>18.40</td>\n",
       "      <td>18.85</td>\n",
       "      <td>0</td>\n",
       "      <td>High School or less</td>\n",
       "    </tr>\n",
       "    <tr>\n",
       "      <th>2</th>\n",
       "      <td>Male</td>\n",
       "      <td>0</td>\n",
       "      <td>No</td>\n",
       "      <td>Yes</td>\n",
       "      <td>Month-to-month</td>\n",
       "      <td>Yes</td>\n",
       "      <td>No</td>\n",
       "      <td>22</td>\n",
       "      <td>100799.611045</td>\n",
       "      <td>40411.194952</td>\n",
       "      <td>294.8325</td>\n",
       "      <td>3.890000</td>\n",
       "      <td>18761000</td>\n",
       "      <td>4.230000</td>\n",
       "      <td>4.290000</td>\n",
       "      <td>3.720000</td>\n",
       "      <td>18.70</td>\n",
       "      <td>18.90</td>\n",
       "      <td>0</td>\n",
       "      <td>High School or less</td>\n",
       "    </tr>\n",
       "    <tr>\n",
       "      <th>3</th>\n",
       "      <td>Female</td>\n",
       "      <td>1</td>\n",
       "      <td>No</td>\n",
       "      <td>Yes</td>\n",
       "      <td>Month-to-month</td>\n",
       "      <td>Yes</td>\n",
       "      <td>Yes</td>\n",
       "      <td>21</td>\n",
       "      <td>100799.611045</td>\n",
       "      <td>40411.194952</td>\n",
       "      <td>306.2560</td>\n",
       "      <td>4.350000</td>\n",
       "      <td>66130600</td>\n",
       "      <td>4.260000</td>\n",
       "      <td>4.310000</td>\n",
       "      <td>3.830000</td>\n",
       "      <td>18.75</td>\n",
       "      <td>19.00</td>\n",
       "      <td>0</td>\n",
       "      <td>High School or less</td>\n",
       "    </tr>\n",
       "    <tr>\n",
       "      <th>4</th>\n",
       "      <td>Male</td>\n",
       "      <td>0</td>\n",
       "      <td>No</td>\n",
       "      <td>Yes</td>\n",
       "      <td>Month-to-month</td>\n",
       "      <td>Yes</td>\n",
       "      <td>Yes</td>\n",
       "      <td>23</td>\n",
       "      <td>100799.611045</td>\n",
       "      <td>40411.194952</td>\n",
       "      <td>312.2500</td>\n",
       "      <td>4.340000</td>\n",
       "      <td>26868200</td>\n",
       "      <td>4.790000</td>\n",
       "      <td>4.410000</td>\n",
       "      <td>4.080000</td>\n",
       "      <td>18.80</td>\n",
       "      <td>19.05</td>\n",
       "      <td>1</td>\n",
       "      <td>High School or less</td>\n",
       "    </tr>\n",
       "    <tr>\n",
       "      <th>...</th>\n",
       "      <td>...</td>\n",
       "      <td>...</td>\n",
       "      <td>...</td>\n",
       "      <td>...</td>\n",
       "      <td>...</td>\n",
       "      <td>...</td>\n",
       "      <td>...</td>\n",
       "      <td>...</td>\n",
       "      <td>...</td>\n",
       "      <td>...</td>\n",
       "      <td>...</td>\n",
       "      <td>...</td>\n",
       "      <td>...</td>\n",
       "      <td>...</td>\n",
       "      <td>...</td>\n",
       "      <td>...</td>\n",
       "      <td>...</td>\n",
       "      <td>...</td>\n",
       "      <td>...</td>\n",
       "      <td>...</td>\n",
       "    </tr>\n",
       "    <tr>\n",
       "      <th>4995</th>\n",
       "      <td>Female</td>\n",
       "      <td>0</td>\n",
       "      <td>No</td>\n",
       "      <td>Yes</td>\n",
       "      <td>Month-to-month</td>\n",
       "      <td>No</td>\n",
       "      <td>No</td>\n",
       "      <td>72</td>\n",
       "      <td>100799.611045</td>\n",
       "      <td>40411.194952</td>\n",
       "      <td>9034.8400</td>\n",
       "      <td>629.511067</td>\n",
       "      <td>3927000</td>\n",
       "      <td>33.119999</td>\n",
       "      <td>293.838840</td>\n",
       "      <td>310.955001</td>\n",
       "      <td>117.80</td>\n",
       "      <td>1395.65</td>\n",
       "      <td>72</td>\n",
       "      <td>PG</td>\n",
       "    </tr>\n",
       "    <tr>\n",
       "      <th>4996</th>\n",
       "      <td>Male</td>\n",
       "      <td>0</td>\n",
       "      <td>No</td>\n",
       "      <td>Yes</td>\n",
       "      <td>Month-to-month</td>\n",
       "      <td>Yes</td>\n",
       "      <td>No</td>\n",
       "      <td>73</td>\n",
       "      <td>100799.611045</td>\n",
       "      <td>40411.194952</td>\n",
       "      <td>9284.2950</td>\n",
       "      <td>627.841071</td>\n",
       "      <td>6031900</td>\n",
       "      <td>33.119999</td>\n",
       "      <td>301.311314</td>\n",
       "      <td>309.610028</td>\n",
       "      <td>118.60</td>\n",
       "      <td>1395.65</td>\n",
       "      <td>72</td>\n",
       "      <td>PG</td>\n",
       "    </tr>\n",
       "    <tr>\n",
       "      <th>4997</th>\n",
       "      <td>Male</td>\n",
       "      <td>0</td>\n",
       "      <td>No</td>\n",
       "      <td>Yes</td>\n",
       "      <td>Month-to-month</td>\n",
       "      <td>Yes</td>\n",
       "      <td>No</td>\n",
       "      <td>74</td>\n",
       "      <td>100799.611045</td>\n",
       "      <td>40411.194952</td>\n",
       "      <td>9631.8400</td>\n",
       "      <td>625.860033</td>\n",
       "      <td>7949400</td>\n",
       "      <td>33.119999</td>\n",
       "      <td>306.040009</td>\n",
       "      <td>303.483494</td>\n",
       "      <td>118.60</td>\n",
       "      <td>1395.65</td>\n",
       "      <td>72</td>\n",
       "      <td>PG</td>\n",
       "    </tr>\n",
       "    <tr>\n",
       "      <th>4998</th>\n",
       "      <td>Male</td>\n",
       "      <td>1</td>\n",
       "      <td>No</td>\n",
       "      <td>Yes</td>\n",
       "      <td>Month-to-month</td>\n",
       "      <td>Yes</td>\n",
       "      <td>Yes</td>\n",
       "      <td>74</td>\n",
       "      <td>100799.611045</td>\n",
       "      <td>40411.194952</td>\n",
       "      <td>9798.5350</td>\n",
       "      <td>629.510005</td>\n",
       "      <td>3908400</td>\n",
       "      <td>33.119999</td>\n",
       "      <td>308.579987</td>\n",
       "      <td>312.432438</td>\n",
       "      <td>118.65</td>\n",
       "      <td>1395.65</td>\n",
       "      <td>72</td>\n",
       "      <td>PG</td>\n",
       "    </tr>\n",
       "    <tr>\n",
       "      <th>4999</th>\n",
       "      <td>Male</td>\n",
       "      <td>0</td>\n",
       "      <td>Yes</td>\n",
       "      <td>Yes</td>\n",
       "      <td>Two year</td>\n",
       "      <td>Yes</td>\n",
       "      <td>No</td>\n",
       "      <td>88</td>\n",
       "      <td>100799.611045</td>\n",
       "      <td>40411.194952</td>\n",
       "      <td>9998.5370</td>\n",
       "      <td>627.839984</td>\n",
       "      <td>6003300</td>\n",
       "      <td>33.119999</td>\n",
       "      <td>312.307316</td>\n",
       "      <td>311.081089</td>\n",
       "      <td>118.75</td>\n",
       "      <td>1395.65</td>\n",
       "      <td>72</td>\n",
       "      <td>PG</td>\n",
       "    </tr>\n",
       "  </tbody>\n",
       "</table>\n",
       "<p>77 rows × 20 columns</p>\n",
       "</div>"
      ],
      "text/plain": [
       "      Gender  Business Dependancies Calls            Type Billing Rating  Age  \\\n",
       "0     Female         0           No   Yes  Month-to-month      No    Yes   18   \n",
       "1     Female         0           No   Yes  Month-to-month      No    Yes   19   \n",
       "2       Male         0           No   Yes  Month-to-month     Yes     No   22   \n",
       "3     Female         1           No   Yes  Month-to-month     Yes    Yes   21   \n",
       "4       Male         0           No   Yes  Month-to-month     Yes    Yes   23   \n",
       "...      ...       ...          ...   ...             ...     ...    ...  ...   \n",
       "4995  Female         0           No   Yes  Month-to-month      No     No   72   \n",
       "4996    Male         0           No   Yes  Month-to-month     Yes     No   73   \n",
       "4997    Male         0           No   Yes  Month-to-month     Yes     No   74   \n",
       "4998    Male         1           No   Yes  Month-to-month     Yes    Yes   74   \n",
       "4999    Male         0          Yes   Yes        Two year     Yes     No   88   \n",
       "\n",
       "             Salary      Base_pay      Bonus  Unit_Price    Volume  \\\n",
       "0     100799.611045  40411.194952   254.4500    3.770000  21226600   \n",
       "1     100799.611045  40411.194952   284.9060    3.740000  10462800   \n",
       "2     100799.611045  40411.194952   294.8325    3.890000  18761000   \n",
       "3     100799.611045  40411.194952   306.2560    4.350000  66130600   \n",
       "4     100799.611045  40411.194952   312.2500    4.340000  26868200   \n",
       "...             ...           ...        ...         ...       ...   \n",
       "4995  100799.611045  40411.194952  9034.8400  629.511067   3927000   \n",
       "4996  100799.611045  40411.194952  9284.2950  627.841071   6031900   \n",
       "4997  100799.611045  40411.194952  9631.8400  625.860033   7949400   \n",
       "4998  100799.611045  40411.194952  9798.5350  629.510005   3908400   \n",
       "4999  100799.611045  40411.194952  9998.5370  627.839984   6003300   \n",
       "\n",
       "      openingbalance  closingbalance         low  Unit_Sales  Total_Sales  \\\n",
       "0           3.750000        3.760000    3.650000       18.25        18.80   \n",
       "1           3.850000        3.680000    3.650000       18.40        18.85   \n",
       "2           4.230000        4.290000    3.720000       18.70        18.90   \n",
       "3           4.260000        4.310000    3.830000       18.75        19.00   \n",
       "4           4.790000        4.410000    4.080000       18.80        19.05   \n",
       "...              ...             ...         ...         ...          ...   \n",
       "4995       33.119999      293.838840  310.955001      117.80      1395.65   \n",
       "4996       33.119999      301.311314  309.610028      118.60      1395.65   \n",
       "4997       33.119999      306.040009  303.483494      118.60      1395.65   \n",
       "4998       33.119999      308.579987  312.432438      118.65      1395.65   \n",
       "4999       33.119999      312.307316  311.081089      118.75      1395.65   \n",
       "\n",
       "      Months            Education  \n",
       "0          0  High School or less  \n",
       "1          0  High School or less  \n",
       "2          0  High School or less  \n",
       "3          0  High School or less  \n",
       "4          1  High School or less  \n",
       "...      ...                  ...  \n",
       "4995      72                   PG  \n",
       "4996      72                   PG  \n",
       "4997      72                   PG  \n",
       "4998      72                   PG  \n",
       "4999      72                   PG  \n",
       "\n",
       "[77 rows x 20 columns]"
      ]
     },
     "execution_count": 38,
     "metadata": {},
     "output_type": "execute_result"
    }
   ],
   "source": [
    "data[(data.Bonus<lb) | (data.Bonus>ub)]"
   ]
  },
  {
   "cell_type": "code",
   "execution_count": 39,
   "id": "f0bcf0df",
   "metadata": {},
   "outputs": [],
   "source": [
    "data['Bonus'] = data['Bonus'][(data['Bonus'] >= lb) & (data['Bonus'] <= ub)]"
   ]
  },
  {
   "cell_type": "code",
   "execution_count": 40,
   "id": "f45108e0",
   "metadata": {},
   "outputs": [
    {
     "name": "stderr",
     "output_type": "stream",
     "text": [
      "C:\\Users\\CHETNA\\anaconda3\\lib\\site-packages\\seaborn\\_decorators.py:36: FutureWarning: Pass the following variable as a keyword arg: x. From version 0.12, the only valid positional argument will be `data`, and passing other arguments without an explicit keyword will result in an error or misinterpretation.\n",
      "  warnings.warn(\n"
     ]
    },
    {
     "data": {
      "text/plain": [
       "<AxesSubplot:xlabel='Bonus'>"
      ]
     },
     "execution_count": 40,
     "metadata": {},
     "output_type": "execute_result"
    },
    {
     "data": {
      "image/png": "[encoded data removed]",
      "text/plain": [
       "<Figure size 432x288 with 1 Axes>"
      ]
     },
     "metadata": {
      "needs_background": "light"
     },
     "output_type": "display_data"
    }
   ],
   "source": [
    "sns.boxplot(data['Bonus'])"
   ]
  },
  {
   "cell_type": "code",
   "execution_count": 41,
   "id": "03244a0e",
   "metadata": {},
   "outputs": [
    {
     "data": {
      "text/plain": [
       "77"
      ]
     },
     "execution_count": 41,
     "metadata": {},
     "output_type": "execute_result"
    }
   ],
   "source": [
    "data[\"Bonus\"].isnull().sum()"
   ]
  },
  {
   "cell_type": "code",
   "execution_count": 42,
   "id": "85fb04ac",
   "metadata": {},
   "outputs": [],
   "source": [
    "data['Bonus']=data['Bonus'].fillna(data['Bonus'].mean())"
   ]
  },
  {
   "cell_type": "code",
   "execution_count": 43,
   "id": "8aa7c8ed",
   "metadata": {},
   "outputs": [
    {
     "data": {
      "text/plain": [
       "0"
      ]
     },
     "execution_count": 43,
     "metadata": {},
     "output_type": "execute_result"
    }
   ],
   "source": [
    "data[\"Bonus\"].isnull().sum()"
   ]
  },
  {
   "cell_type": "markdown",
   "id": "f1f3fb9d",
   "metadata": {},
   "source": [
    "# Age"
   ]
  },
  {
   "cell_type": "code",
   "execution_count": 44,
   "id": "8ef8e0c6",
   "metadata": {},
   "outputs": [
    {
     "name": "stderr",
     "output_type": "stream",
     "text": [
      "C:\\Users\\CHETNA\\anaconda3\\lib\\site-packages\\seaborn\\_decorators.py:36: FutureWarning: Pass the following variable as a keyword arg: x. From version 0.12, the only valid positional argument will be `data`, and passing other arguments without an explicit keyword will result in an error or misinterpretation.\n",
      "  warnings.warn(\n"
     ]
    },
    {
     "data": {
      "text/plain": [
       "<AxesSubplot:xlabel='Age'>"
      ]
     },
     "execution_count": 44,
     "metadata": {},
     "output_type": "execute_result"
    },
    {
     "data": {
      "image/png": "[encoded data removed]",
      "text/plain": [
       "<Figure size 432x288 with 1 Axes>"
      ]
     },
     "metadata": {
      "needs_background": "light"
     },
     "output_type": "display_data"
    }
   ],
   "source": [
    "sns.boxplot(data['Age'])"
   ]
  },
  {
   "cell_type": "code",
   "execution_count": 45,
   "id": "1ba3b0be",
   "metadata": {},
   "outputs": [
    {
     "name": "stdout",
     "output_type": "stream",
     "text": [
      "72.0\n",
      "32.0\n"
     ]
    }
   ],
   "source": [
    "q3=data['Age'].quantile(0.75)\n",
    "q1=data['Age'].quantile(0.25)\n",
    "q2=data['Age'].quantile(0.50)\n",
    "\n",
    "IQR = q3-q1\n",
    "ub = q3+1.5*IQR\n",
    "print(ub)\n",
    "lb = q1-1.5*IQR\n",
    "print(lb)"
   ]
  },
  {
   "cell_type": "code",
   "execution_count": 46,
   "id": "eeda3689",
   "metadata": {},
   "outputs": [
    {
     "data": {
      "text/html": [
       "<div>\n",
       "<style scoped>\n",
       "    .dataframe tbody tr th:only-of-type {\n",
       "        vertical-align: middle;\n",
       "    }\n",
       "\n",
       "    .dataframe tbody tr th {\n",
       "        vertical-align: top;\n",
       "    }\n",
       "\n",
       "    .dataframe thead th {\n",
       "        text-align: right;\n",
       "    }\n",
       "</style>\n",
       "<table border=\"1\" class=\"dataframe\">\n",
       "  <thead>\n",
       "    <tr style=\"text-align: right;\">\n",
       "      <th></th>\n",
       "      <th>Gender</th>\n",
       "      <th>Business</th>\n",
       "      <th>Dependancies</th>\n",
       "      <th>Calls</th>\n",
       "      <th>Type</th>\n",
       "      <th>Billing</th>\n",
       "      <th>Rating</th>\n",
       "      <th>Age</th>\n",
       "      <th>Salary</th>\n",
       "      <th>Base_pay</th>\n",
       "      <th>Bonus</th>\n",
       "      <th>Unit_Price</th>\n",
       "      <th>Volume</th>\n",
       "      <th>openingbalance</th>\n",
       "      <th>closingbalance</th>\n",
       "      <th>low</th>\n",
       "      <th>Unit_Sales</th>\n",
       "      <th>Total_Sales</th>\n",
       "      <th>Months</th>\n",
       "      <th>Education</th>\n",
       "    </tr>\n",
       "  </thead>\n",
       "  <tbody>\n",
       "    <tr>\n",
       "      <th>0</th>\n",
       "      <td>Female</td>\n",
       "      <td>0</td>\n",
       "      <td>No</td>\n",
       "      <td>Yes</td>\n",
       "      <td>Month-to-month</td>\n",
       "      <td>No</td>\n",
       "      <td>Yes</td>\n",
       "      <td>18</td>\n",
       "      <td>100799.611045</td>\n",
       "      <td>40411.194952</td>\n",
       "      <td>5039.980552</td>\n",
       "      <td>3.770000</td>\n",
       "      <td>21226600</td>\n",
       "      <td>3.750000</td>\n",
       "      <td>3.760000</td>\n",
       "      <td>3.650000</td>\n",
       "      <td>18.25</td>\n",
       "      <td>18.80</td>\n",
       "      <td>0</td>\n",
       "      <td>High School or less</td>\n",
       "    </tr>\n",
       "    <tr>\n",
       "      <th>1</th>\n",
       "      <td>Female</td>\n",
       "      <td>0</td>\n",
       "      <td>No</td>\n",
       "      <td>Yes</td>\n",
       "      <td>Month-to-month</td>\n",
       "      <td>No</td>\n",
       "      <td>Yes</td>\n",
       "      <td>19</td>\n",
       "      <td>100799.611045</td>\n",
       "      <td>40411.194952</td>\n",
       "      <td>5039.980552</td>\n",
       "      <td>3.740000</td>\n",
       "      <td>10462800</td>\n",
       "      <td>3.850000</td>\n",
       "      <td>3.680000</td>\n",
       "      <td>3.650000</td>\n",
       "      <td>18.40</td>\n",
       "      <td>18.85</td>\n",
       "      <td>0</td>\n",
       "      <td>High School or less</td>\n",
       "    </tr>\n",
       "    <tr>\n",
       "      <th>2</th>\n",
       "      <td>Male</td>\n",
       "      <td>0</td>\n",
       "      <td>No</td>\n",
       "      <td>Yes</td>\n",
       "      <td>Month-to-month</td>\n",
       "      <td>Yes</td>\n",
       "      <td>No</td>\n",
       "      <td>22</td>\n",
       "      <td>100799.611045</td>\n",
       "      <td>40411.194952</td>\n",
       "      <td>5039.980552</td>\n",
       "      <td>3.890000</td>\n",
       "      <td>18761000</td>\n",
       "      <td>4.230000</td>\n",
       "      <td>4.290000</td>\n",
       "      <td>3.720000</td>\n",
       "      <td>18.70</td>\n",
       "      <td>18.90</td>\n",
       "      <td>0</td>\n",
       "      <td>High School or less</td>\n",
       "    </tr>\n",
       "    <tr>\n",
       "      <th>3</th>\n",
       "      <td>Female</td>\n",
       "      <td>1</td>\n",
       "      <td>No</td>\n",
       "      <td>Yes</td>\n",
       "      <td>Month-to-month</td>\n",
       "      <td>Yes</td>\n",
       "      <td>Yes</td>\n",
       "      <td>21</td>\n",
       "      <td>100799.611045</td>\n",
       "      <td>40411.194952</td>\n",
       "      <td>5039.980552</td>\n",
       "      <td>4.350000</td>\n",
       "      <td>66130600</td>\n",
       "      <td>4.260000</td>\n",
       "      <td>4.310000</td>\n",
       "      <td>3.830000</td>\n",
       "      <td>18.75</td>\n",
       "      <td>19.00</td>\n",
       "      <td>0</td>\n",
       "      <td>High School or less</td>\n",
       "    </tr>\n",
       "    <tr>\n",
       "      <th>4</th>\n",
       "      <td>Male</td>\n",
       "      <td>0</td>\n",
       "      <td>No</td>\n",
       "      <td>Yes</td>\n",
       "      <td>Month-to-month</td>\n",
       "      <td>Yes</td>\n",
       "      <td>Yes</td>\n",
       "      <td>23</td>\n",
       "      <td>100799.611045</td>\n",
       "      <td>40411.194952</td>\n",
       "      <td>5039.980552</td>\n",
       "      <td>4.340000</td>\n",
       "      <td>26868200</td>\n",
       "      <td>4.790000</td>\n",
       "      <td>4.410000</td>\n",
       "      <td>4.080000</td>\n",
       "      <td>18.80</td>\n",
       "      <td>19.05</td>\n",
       "      <td>1</td>\n",
       "      <td>High School or less</td>\n",
       "    </tr>\n",
       "    <tr>\n",
       "      <th>...</th>\n",
       "      <td>...</td>\n",
       "      <td>...</td>\n",
       "      <td>...</td>\n",
       "      <td>...</td>\n",
       "      <td>...</td>\n",
       "      <td>...</td>\n",
       "      <td>...</td>\n",
       "      <td>...</td>\n",
       "      <td>...</td>\n",
       "      <td>...</td>\n",
       "      <td>...</td>\n",
       "      <td>...</td>\n",
       "      <td>...</td>\n",
       "      <td>...</td>\n",
       "      <td>...</td>\n",
       "      <td>...</td>\n",
       "      <td>...</td>\n",
       "      <td>...</td>\n",
       "      <td>...</td>\n",
       "      <td>...</td>\n",
       "    </tr>\n",
       "    <tr>\n",
       "      <th>4277</th>\n",
       "      <td>Female</td>\n",
       "      <td>0</td>\n",
       "      <td>No</td>\n",
       "      <td>Yes</td>\n",
       "      <td>One year</td>\n",
       "      <td>No</td>\n",
       "      <td>No</td>\n",
       "      <td>30</td>\n",
       "      <td>125490.165600</td>\n",
       "      <td>50196.066260</td>\n",
       "      <td>6274.508280</td>\n",
       "      <td>68.330002</td>\n",
       "      <td>1511500</td>\n",
       "      <td>33.119999</td>\n",
       "      <td>30.580000</td>\n",
       "      <td>66.529999</td>\n",
       "      <td>99.00</td>\n",
       "      <td>5321.25</td>\n",
       "      <td>61</td>\n",
       "      <td>PG</td>\n",
       "    </tr>\n",
       "    <tr>\n",
       "      <th>4996</th>\n",
       "      <td>Male</td>\n",
       "      <td>0</td>\n",
       "      <td>No</td>\n",
       "      <td>Yes</td>\n",
       "      <td>Month-to-month</td>\n",
       "      <td>Yes</td>\n",
       "      <td>No</td>\n",
       "      <td>73</td>\n",
       "      <td>100799.611045</td>\n",
       "      <td>40411.194952</td>\n",
       "      <td>5039.980552</td>\n",
       "      <td>627.841071</td>\n",
       "      <td>6031900</td>\n",
       "      <td>33.119999</td>\n",
       "      <td>301.311314</td>\n",
       "      <td>309.610028</td>\n",
       "      <td>118.60</td>\n",
       "      <td>1395.65</td>\n",
       "      <td>72</td>\n",
       "      <td>PG</td>\n",
       "    </tr>\n",
       "    <tr>\n",
       "      <th>4997</th>\n",
       "      <td>Male</td>\n",
       "      <td>0</td>\n",
       "      <td>No</td>\n",
       "      <td>Yes</td>\n",
       "      <td>Month-to-month</td>\n",
       "      <td>Yes</td>\n",
       "      <td>No</td>\n",
       "      <td>74</td>\n",
       "      <td>100799.611045</td>\n",
       "      <td>40411.194952</td>\n",
       "      <td>5039.980552</td>\n",
       "      <td>625.860033</td>\n",
       "      <td>7949400</td>\n",
       "      <td>33.119999</td>\n",
       "      <td>306.040009</td>\n",
       "      <td>303.483494</td>\n",
       "      <td>118.60</td>\n",
       "      <td>1395.65</td>\n",
       "      <td>72</td>\n",
       "      <td>PG</td>\n",
       "    </tr>\n",
       "    <tr>\n",
       "      <th>4998</th>\n",
       "      <td>Male</td>\n",
       "      <td>1</td>\n",
       "      <td>No</td>\n",
       "      <td>Yes</td>\n",
       "      <td>Month-to-month</td>\n",
       "      <td>Yes</td>\n",
       "      <td>Yes</td>\n",
       "      <td>74</td>\n",
       "      <td>100799.611045</td>\n",
       "      <td>40411.194952</td>\n",
       "      <td>5039.980552</td>\n",
       "      <td>629.510005</td>\n",
       "      <td>3908400</td>\n",
       "      <td>33.119999</td>\n",
       "      <td>308.579987</td>\n",
       "      <td>312.432438</td>\n",
       "      <td>118.65</td>\n",
       "      <td>1395.65</td>\n",
       "      <td>72</td>\n",
       "      <td>PG</td>\n",
       "    </tr>\n",
       "    <tr>\n",
       "      <th>4999</th>\n",
       "      <td>Male</td>\n",
       "      <td>0</td>\n",
       "      <td>Yes</td>\n",
       "      <td>Yes</td>\n",
       "      <td>Two year</td>\n",
       "      <td>Yes</td>\n",
       "      <td>No</td>\n",
       "      <td>88</td>\n",
       "      <td>100799.611045</td>\n",
       "      <td>40411.194952</td>\n",
       "      <td>5039.980552</td>\n",
       "      <td>627.839984</td>\n",
       "      <td>6003300</td>\n",
       "      <td>33.119999</td>\n",
       "      <td>312.307316</td>\n",
       "      <td>311.081089</td>\n",
       "      <td>118.75</td>\n",
       "      <td>1395.65</td>\n",
       "      <td>72</td>\n",
       "      <td>PG</td>\n",
       "    </tr>\n",
       "  </tbody>\n",
       "</table>\n",
       "<p>115 rows × 20 columns</p>\n",
       "</div>"
      ],
      "text/plain": [
       "      Gender  Business Dependancies Calls            Type Billing Rating  Age  \\\n",
       "0     Female         0           No   Yes  Month-to-month      No    Yes   18   \n",
       "1     Female         0           No   Yes  Month-to-month      No    Yes   19   \n",
       "2       Male         0           No   Yes  Month-to-month     Yes     No   22   \n",
       "3     Female         1           No   Yes  Month-to-month     Yes    Yes   21   \n",
       "4       Male         0           No   Yes  Month-to-month     Yes    Yes   23   \n",
       "...      ...       ...          ...   ...             ...     ...    ...  ...   \n",
       "4277  Female         0           No   Yes        One year      No     No   30   \n",
       "4996    Male         0           No   Yes  Month-to-month     Yes     No   73   \n",
       "4997    Male         0           No   Yes  Month-to-month     Yes     No   74   \n",
       "4998    Male         1           No   Yes  Month-to-month     Yes    Yes   74   \n",
       "4999    Male         0          Yes   Yes        Two year     Yes     No   88   \n",
       "\n",
       "             Salary      Base_pay        Bonus  Unit_Price    Volume  \\\n",
       "0     100799.611045  40411.194952  5039.980552    3.770000  21226600   \n",
       "1     100799.611045  40411.194952  5039.980552    3.740000  10462800   \n",
       "2     100799.611045  40411.194952  5039.980552    3.890000  18761000   \n",
       "3     100799.611045  40411.194952  5039.980552    4.350000  66130600   \n",
       "4     100799.611045  40411.194952  5039.980552    4.340000  26868200   \n",
       "...             ...           ...          ...         ...       ...   \n",
       "4277  125490.165600  50196.066260  6274.508280   68.330002   1511500   \n",
       "4996  100799.611045  40411.194952  5039.980552  627.841071   6031900   \n",
       "4997  100799.611045  40411.194952  5039.980552  625.860033   7949400   \n",
       "4998  100799.611045  40411.194952  5039.980552  629.510005   3908400   \n",
       "4999  100799.611045  40411.194952  5039.980552  627.839984   6003300   \n",
       "\n",
       "      openingbalance  closingbalance         low  Unit_Sales  Total_Sales  \\\n",
       "0           3.750000        3.760000    3.650000       18.25        18.80   \n",
       "1           3.850000        3.680000    3.650000       18.40        18.85   \n",
       "2           4.230000        4.290000    3.720000       18.70        18.90   \n",
       "3           4.260000        4.310000    3.830000       18.75        19.00   \n",
       "4           4.790000        4.410000    4.080000       18.80        19.05   \n",
       "...              ...             ...         ...         ...          ...   \n",
       "4277       33.119999       30.580000   66.529999       99.00      5321.25   \n",
       "4996       33.119999      301.311314  309.610028      118.60      1395.65   \n",
       "4997       33.119999      306.040009  303.483494      118.60      1395.65   \n",
       "4998       33.119999      308.579987  312.432438      118.65      1395.65   \n",
       "4999       33.119999      312.307316  311.081089      118.75      1395.65   \n",
       "\n",
       "      Months            Education  \n",
       "0          0  High School or less  \n",
       "1          0  High School or less  \n",
       "2          0  High School or less  \n",
       "3          0  High School or less  \n",
       "4          1  High School or less  \n",
       "...      ...                  ...  \n",
       "4277      61                   PG  \n",
       "4996      72                   PG  \n",
       "4997      72                   PG  \n",
       "4998      72                   PG  \n",
       "4999      72                   PG  \n",
       "\n",
       "[115 rows x 20 columns]"
      ]
     },
     "execution_count": 46,
     "metadata": {},
     "output_type": "execute_result"
    }
   ],
   "source": [
    "data[(data.Age<lb) | (data.Age>ub)]"
   ]
  },
  {
   "cell_type": "code",
   "execution_count": 47,
   "id": "8a4204dc",
   "metadata": {},
   "outputs": [],
   "source": [
    "data['Age'] = data['Age'][(data['Age'] >= lb) & (data['Age'] <= ub)]"
   ]
  },
  {
   "cell_type": "code",
   "execution_count": 48,
   "id": "5f0c83ab",
   "metadata": {},
   "outputs": [
    {
     "name": "stderr",
     "output_type": "stream",
     "text": [
      "C:\\Users\\CHETNA\\anaconda3\\lib\\site-packages\\seaborn\\_decorators.py:36: FutureWarning: Pass the following variable as a keyword arg: x. From version 0.12, the only valid positional argument will be `data`, and passing other arguments without an explicit keyword will result in an error or misinterpretation.\n",
      "  warnings.warn(\n"
     ]
    },
    {
     "data": {
      "text/plain": [
       "<AxesSubplot:xlabel='Age'>"
      ]
     },
     "execution_count": 48,
     "metadata": {},
     "output_type": "execute_result"
    },
    {
     "data": {
      "image/png": "[encoded data removed]",
      "text/plain": [
       "<Figure size 432x288 with 1 Axes>"
      ]
     },
     "metadata": {
      "needs_background": "light"
     },
     "output_type": "display_data"
    }
   ],
   "source": [
    "sns.boxplot(data['Age'])"
   ]
  },
  {
   "cell_type": "markdown",
   "id": "cd78c3f6",
   "metadata": {},
   "source": [
    "# Unit_Price"
   ]
  },
  {
   "cell_type": "code",
   "execution_count": 49,
   "id": "9de711c0",
   "metadata": {},
   "outputs": [
    {
     "name": "stderr",
     "output_type": "stream",
     "text": [
      "C:\\Users\\CHETNA\\anaconda3\\lib\\site-packages\\seaborn\\_decorators.py:36: FutureWarning: Pass the following variable as a keyword arg: x. From version 0.12, the only valid positional argument will be `data`, and passing other arguments without an explicit keyword will result in an error or misinterpretation.\n",
      "  warnings.warn(\n"
     ]
    },
    {
     "data": {
      "text/plain": [
       "<AxesSubplot:xlabel='Unit_Price'>"
      ]
     },
     "execution_count": 49,
     "metadata": {},
     "output_type": "execute_result"
    },
    {
     "data": {
      "image/png": "[encoded data removed]",
      "text/plain": [
       "<Figure size 432x288 with 1 Axes>"
      ]
     },
     "metadata": {
      "needs_background": "light"
     },
     "output_type": "display_data"
    }
   ],
   "source": [
    "sns.boxplot(data['Unit_Price'])"
   ]
  },
  {
   "cell_type": "code",
   "execution_count": 50,
   "id": "6155fe96",
   "metadata": {},
   "outputs": [
    {
     "name": "stdout",
     "output_type": "stream",
     "text": [
      "108.196251\n",
      "-23.753751\n"
     ]
    }
   ],
   "source": [
    "q3=data['Unit_Price'].quantile(0.75)\n",
    "q1=data['Unit_Price'].quantile(0.25)\n",
    "q2=data['Unit_Price'].quantile(0.50)\n",
    "\n",
    "IQR = q3-q1\n",
    "ub = q3+1.5*IQR\n",
    "print(ub)\n",
    "lb = q1-1.5*IQR\n",
    "print(lb)"
   ]
  },
  {
   "cell_type": "code",
   "execution_count": 51,
   "id": "146fc77f",
   "metadata": {},
   "outputs": [],
   "source": [
    "data['Unit_Price'] = np.where(data['Unit_Price']>ub,ub,data['Unit_Price'])"
   ]
  },
  {
   "cell_type": "code",
   "execution_count": 52,
   "id": "06f86849",
   "metadata": {},
   "outputs": [
    {
     "name": "stderr",
     "output_type": "stream",
     "text": [
      "C:\\Users\\CHETNA\\anaconda3\\lib\\site-packages\\seaborn\\_decorators.py:36: FutureWarning: Pass the following variable as a keyword arg: x. From version 0.12, the only valid positional argument will be `data`, and passing other arguments without an explicit keyword will result in an error or misinterpretation.\n",
      "  warnings.warn(\n"
     ]
    },
    {
     "data": {
      "text/plain": [
       "<AxesSubplot:xlabel='Unit_Price'>"
      ]
     },
     "execution_count": 52,
     "metadata": {},
     "output_type": "execute_result"
    },
    {
     "data": {
      "image/png": "[encoded data removed]",
      "text/plain": [
       "<Figure size 432x288 with 1 Axes>"
      ]
     },
     "metadata": {
      "needs_background": "light"
     },
     "output_type": "display_data"
    }
   ],
   "source": [
    "sns.boxplot(data['Unit_Price'])"
   ]
  },
  {
   "cell_type": "markdown",
   "id": "8d961c09",
   "metadata": {},
   "source": [
    "# Volume"
   ]
  },
  {
   "cell_type": "code",
   "execution_count": 53,
   "id": "5ec1a6ed",
   "metadata": {},
   "outputs": [
    {
     "name": "stderr",
     "output_type": "stream",
     "text": [
      "C:\\Users\\CHETNA\\anaconda3\\lib\\site-packages\\seaborn\\_decorators.py:36: FutureWarning: Pass the following variable as a keyword arg: x. From version 0.12, the only valid positional argument will be `data`, and passing other arguments without an explicit keyword will result in an error or misinterpretation.\n",
      "  warnings.warn(\n"
     ]
    },
    {
     "data": {
      "text/plain": [
       "<AxesSubplot:xlabel='Volume'>"
      ]
     },
     "execution_count": 53,
     "metadata": {},
     "output_type": "execute_result"
    },
    {
     "data": {
      "image/png": "[encoded data removed]",
      "text/plain": [
       "<Figure size 432x288 with 1 Axes>"
      ]
     },
     "metadata": {
      "needs_background": "light"
     },
     "output_type": "display_data"
    }
   ],
   "source": [
    "sns.boxplot(data['Volume'])"
   ]
  },
  {
   "cell_type": "code",
   "execution_count": 54,
   "id": "44b51ac5",
   "metadata": {},
   "outputs": [
    {
     "name": "stdout",
     "output_type": "stream",
     "text": [
      "13691975.0\n",
      "-6161025.0\n"
     ]
    }
   ],
   "source": [
    "q3=data['Volume'].quantile(0.75)\n",
    "q1=data['Volume'].quantile(0.25)\n",
    "q2=data['Volume'].quantile(0.50)\n",
    "\n",
    "IQR = q3-q1\n",
    "ub = q3+1.5*IQR\n",
    "print(ub)\n",
    "lb = q1-1.5*IQR\n",
    "print(lb)"
   ]
  },
  {
   "cell_type": "code",
   "execution_count": 55,
   "id": "3b4648b1",
   "metadata": {},
   "outputs": [],
   "source": [
    "data['Volume'] = np.where(data['Volume']>ub,ub,data['Volume'])"
   ]
  },
  {
   "cell_type": "code",
   "execution_count": 56,
   "id": "2669ddff",
   "metadata": {},
   "outputs": [
    {
     "name": "stderr",
     "output_type": "stream",
     "text": [
      "C:\\Users\\CHETNA\\anaconda3\\lib\\site-packages\\seaborn\\_decorators.py:36: FutureWarning: Pass the following variable as a keyword arg: x. From version 0.12, the only valid positional argument will be `data`, and passing other arguments without an explicit keyword will result in an error or misinterpretation.\n",
      "  warnings.warn(\n"
     ]
    },
    {
     "data": {
      "text/plain": [
       "<AxesSubplot:xlabel='Volume'>"
      ]
     },
     "execution_count": 56,
     "metadata": {},
     "output_type": "execute_result"
    },
    {
     "data": {
      "image/png": "[encoded data removed]",
      "text/plain": [
       "<Figure size 432x288 with 1 Axes>"
      ]
     },
     "metadata": {
      "needs_background": "light"
     },
     "output_type": "display_data"
    }
   ],
   "source": [
    "sns.boxplot(data['Volume'])"
   ]
  },
  {
   "cell_type": "markdown",
   "id": "f0f6ad80",
   "metadata": {},
   "source": [
    "# openingbalance"
   ]
  },
  {
   "cell_type": "code",
   "execution_count": 57,
   "id": "79b45dd0",
   "metadata": {},
   "outputs": [
    {
     "name": "stderr",
     "output_type": "stream",
     "text": [
      "C:\\Users\\CHETNA\\anaconda3\\lib\\site-packages\\seaborn\\_decorators.py:36: FutureWarning: Pass the following variable as a keyword arg: x. From version 0.12, the only valid positional argument will be `data`, and passing other arguments without an explicit keyword will result in an error or misinterpretation.\n",
      "  warnings.warn(\n"
     ]
    },
    {
     "data": {
      "text/plain": [
       "<AxesSubplot:xlabel='openingbalance'>"
      ]
     },
     "execution_count": 57,
     "metadata": {},
     "output_type": "execute_result"
    },
    {
     "data": {
      "image/png": "[encoded data removed]",
      "text/plain": [
       "<Figure size 432x288 with 1 Axes>"
      ]
     },
     "metadata": {
      "needs_background": "light"
     },
     "output_type": "display_data"
    }
   ],
   "source": [
    "sns.boxplot(data['openingbalance'])"
   ]
  },
  {
   "cell_type": "code",
   "execution_count": 58,
   "id": "af9606b9",
   "metadata": {},
   "outputs": [
    {
     "name": "stdout",
     "output_type": "stream",
     "text": [
      "66.71605129000002\n",
      "2.206581849999985\n"
     ]
    }
   ],
   "source": [
    "q3=data['openingbalance'].quantile(0.75)\n",
    "q1=data['openingbalance'].quantile(0.25)\n",
    "q2=data['openingbalance'].quantile(0.50)\n",
    "\n",
    "IQR = q3-q1\n",
    "ub = q3+1.5*IQR\n",
    "print(ub)\n",
    "lb = q1-1.5*IQR\n",
    "print(lb)"
   ]
  },
  {
   "cell_type": "code",
   "execution_count": 59,
   "id": "b515cd5a",
   "metadata": {},
   "outputs": [],
   "source": [
    "data['openingbalance'] = np.where(data['openingbalance']>ub,ub,data['openingbalance'])"
   ]
  },
  {
   "cell_type": "code",
   "execution_count": 60,
   "id": "6cb8d014",
   "metadata": {},
   "outputs": [
    {
     "name": "stderr",
     "output_type": "stream",
     "text": [
      "C:\\Users\\CHETNA\\anaconda3\\lib\\site-packages\\seaborn\\_decorators.py:36: FutureWarning: Pass the following variable as a keyword arg: x. From version 0.12, the only valid positional argument will be `data`, and passing other arguments without an explicit keyword will result in an error or misinterpretation.\n",
      "  warnings.warn(\n"
     ]
    },
    {
     "data": {
      "text/plain": [
       "<AxesSubplot:xlabel='openingbalance'>"
      ]
     },
     "execution_count": 60,
     "metadata": {},
     "output_type": "execute_result"
    },
    {
     "data": {
      "image/png": "[encoded data removed]",
      "text/plain": [
       "<Figure size 432x288 with 1 Axes>"
      ]
     },
     "metadata": {
      "needs_background": "light"
     },
     "output_type": "display_data"
    }
   ],
   "source": [
    "sns.boxplot(data['openingbalance'])"
   ]
  },
  {
   "cell_type": "markdown",
   "id": "5474c0d4",
   "metadata": {},
   "source": [
    "# closingbalance"
   ]
  },
  {
   "cell_type": "code",
   "execution_count": 61,
   "id": "6d21c975",
   "metadata": {},
   "outputs": [
    {
     "name": "stderr",
     "output_type": "stream",
     "text": [
      "C:\\Users\\CHETNA\\anaconda3\\lib\\site-packages\\seaborn\\_decorators.py:36: FutureWarning: Pass the following variable as a keyword arg: x. From version 0.12, the only valid positional argument will be `data`, and passing other arguments without an explicit keyword will result in an error or misinterpretation.\n",
      "  warnings.warn(\n"
     ]
    },
    {
     "data": {
      "text/plain": [
       "<AxesSubplot:xlabel='closingbalance'>"
      ]
     },
     "execution_count": 61,
     "metadata": {},
     "output_type": "execute_result"
    },
    {
     "data": {
      "image/png": "[encoded data removed]",
      "text/plain": [
       "<Figure size 432x288 with 1 Axes>"
      ]
     },
     "metadata": {
      "needs_background": "light"
     },
     "output_type": "display_data"
    }
   ],
   "source": [
    "sns.boxplot(data['closingbalance'])"
   ]
  },
  {
   "cell_type": "code",
   "execution_count": 62,
   "id": "3ee893cf",
   "metadata": {},
   "outputs": [
    {
     "name": "stdout",
     "output_type": "stream",
     "text": [
      "94.80875125\n",
      "-21.701250750000003\n"
     ]
    }
   ],
   "source": [
    "q3=data['closingbalance'].quantile(0.75)\n",
    "q1=data['closingbalance'].quantile(0.25)\n",
    "q2=data['closingbalance'].quantile(0.50)\n",
    "\n",
    "IQR = q3-q1\n",
    "ub = q3+1.5*IQR\n",
    "print(ub)\n",
    "lb = q1-1.5*IQR\n",
    "print(lb)"
   ]
  },
  {
   "cell_type": "code",
   "execution_count": 63,
   "id": "b332bd5d",
   "metadata": {},
   "outputs": [],
   "source": [
    "data['closingbalance'] = np.where(data['closingbalance']>ub,ub,data['closingbalance'])"
   ]
  },
  {
   "cell_type": "code",
   "execution_count": 64,
   "id": "59216fb6",
   "metadata": {},
   "outputs": [
    {
     "name": "stderr",
     "output_type": "stream",
     "text": [
      "C:\\Users\\CHETNA\\anaconda3\\lib\\site-packages\\seaborn\\_decorators.py:36: FutureWarning: Pass the following variable as a keyword arg: x. From version 0.12, the only valid positional argument will be `data`, and passing other arguments without an explicit keyword will result in an error or misinterpretation.\n",
      "  warnings.warn(\n"
     ]
    },
    {
     "data": {
      "text/plain": [
       "<AxesSubplot:xlabel='closingbalance'>"
      ]
     },
     "execution_count": 64,
     "metadata": {},
     "output_type": "execute_result"
    },
    {
     "data": {
      "image/png": "[encoded data removed]",
      "text/plain": [
       "<Figure size 432x288 with 1 Axes>"
      ]
     },
     "metadata": {
      "needs_background": "light"
     },
     "output_type": "display_data"
    }
   ],
   "source": [
    "sns.boxplot(data['closingbalance'])"
   ]
  },
  {
   "cell_type": "markdown",
   "id": "9a36e4a6",
   "metadata": {},
   "source": [
    "# low "
   ]
  },
  {
   "cell_type": "code",
   "execution_count": 65,
   "id": "3a35ab93",
   "metadata": {},
   "outputs": [
    {
     "name": "stderr",
     "output_type": "stream",
     "text": [
      "C:\\Users\\CHETNA\\anaconda3\\lib\\site-packages\\seaborn\\_decorators.py:36: FutureWarning: Pass the following variable as a keyword arg: x. From version 0.12, the only valid positional argument will be `data`, and passing other arguments without an explicit keyword will result in an error or misinterpretation.\n",
      "  warnings.warn(\n"
     ]
    },
    {
     "data": {
      "text/plain": [
       "<AxesSubplot:xlabel='low'>"
      ]
     },
     "execution_count": 65,
     "metadata": {},
     "output_type": "execute_result"
    },
    {
     "data": {
      "image/png": "[encoded data removed]",
      "text/plain": [
       "<Figure size 432x288 with 1 Axes>"
      ]
     },
     "metadata": {
      "needs_background": "light"
     },
     "output_type": "display_data"
    }
   ],
   "source": [
    "sns.boxplot(data['low'])"
   ]
  },
  {
   "cell_type": "code",
   "execution_count": 66,
   "id": "a9d28c7d",
   "metadata": {},
   "outputs": [
    {
     "name": "stdout",
     "output_type": "stream",
     "text": [
      "93.45937546875\n",
      "-21.325625781249997\n"
     ]
    }
   ],
   "source": [
    "q3=data['low'].quantile(0.75)\n",
    "q1=data['low'].quantile(0.25)\n",
    "q2=data['low'].quantile(0.50)\n",
    "\n",
    "IQR = q3-q1\n",
    "ub = q3+1.5*IQR\n",
    "print(ub)\n",
    "lb = q1-1.5*IQR\n",
    "print(lb)"
   ]
  },
  {
   "cell_type": "code",
   "execution_count": 67,
   "id": "deaa7abb",
   "metadata": {},
   "outputs": [],
   "source": [
    "data['low'] = np.where(data['low']>ub,ub,data['low'])"
   ]
  },
  {
   "cell_type": "code",
   "execution_count": 68,
   "id": "16ede1b7",
   "metadata": {},
   "outputs": [
    {
     "name": "stderr",
     "output_type": "stream",
     "text": [
      "C:\\Users\\CHETNA\\anaconda3\\lib\\site-packages\\seaborn\\_decorators.py:36: FutureWarning: Pass the following variable as a keyword arg: x. From version 0.12, the only valid positional argument will be `data`, and passing other arguments without an explicit keyword will result in an error or misinterpretation.\n",
      "  warnings.warn(\n"
     ]
    },
    {
     "data": {
      "text/plain": [
       "<AxesSubplot:xlabel='low'>"
      ]
     },
     "execution_count": 68,
     "metadata": {},
     "output_type": "execute_result"
    },
    {
     "data": {
      "image/png": "[encoded data removed]",
      "text/plain": [
       "<Figure size 432x288 with 1 Axes>"
      ]
     },
     "metadata": {
      "needs_background": "light"
     },
     "output_type": "display_data"
    }
   ],
   "source": [
    "sns.boxplot(data['low'])"
   ]
  },
  {
   "cell_type": "markdown",
   "id": "50f2e5a0",
   "metadata": {},
   "source": [
    "# Unit_Sales"
   ]
  },
  {
   "cell_type": "code",
   "execution_count": 69,
   "id": "77d022f6",
   "metadata": {},
   "outputs": [
    {
     "name": "stderr",
     "output_type": "stream",
     "text": [
      "C:\\Users\\CHETNA\\anaconda3\\lib\\site-packages\\seaborn\\_decorators.py:36: FutureWarning: Pass the following variable as a keyword arg: x. From version 0.12, the only valid positional argument will be `data`, and passing other arguments without an explicit keyword will result in an error or misinterpretation.\n",
      "  warnings.warn(\n"
     ]
    },
    {
     "data": {
      "text/plain": [
       "<AxesSubplot:xlabel='Unit_Sales'>"
      ]
     },
     "execution_count": 69,
     "metadata": {},
     "output_type": "execute_result"
    },
    {
     "data": {
      "image/png": "[encoded data removed]",
      "text/plain": [
       "<Figure size 432x288 with 1 Axes>"
      ]
     },
     "metadata": {
      "needs_background": "light"
     },
     "output_type": "display_data"
    }
   ],
   "source": [
    "sns.boxplot(data['Unit_Sales'])"
   ]
  },
  {
   "cell_type": "markdown",
   "id": "49f5692f",
   "metadata": {},
   "source": [
    "# Total_Sales"
   ]
  },
  {
   "cell_type": "code",
   "execution_count": 70,
   "id": "52114c13",
   "metadata": {},
   "outputs": [
    {
     "name": "stderr",
     "output_type": "stream",
     "text": [
      "C:\\Users\\CHETNA\\anaconda3\\lib\\site-packages\\seaborn\\_decorators.py:36: FutureWarning: Pass the following variable as a keyword arg: x. From version 0.12, the only valid positional argument will be `data`, and passing other arguments without an explicit keyword will result in an error or misinterpretation.\n",
      "  warnings.warn(\n"
     ]
    },
    {
     "data": {
      "text/plain": [
       "<AxesSubplot:xlabel='Total_Sales'>"
      ]
     },
     "execution_count": 70,
     "metadata": {},
     "output_type": "execute_result"
    },
    {
     "data": {
      "image/png": "[encoded data removed]",
      "text/plain": [
       "<Figure size 432x288 with 1 Axes>"
      ]
     },
     "metadata": {
      "needs_background": "light"
     },
     "output_type": "display_data"
    }
   ],
   "source": [
    "sns.boxplot(data['Total_Sales'])"
   ]
  },
  {
   "cell_type": "markdown",
   "id": "5fffe45c",
   "metadata": {},
   "source": [
    "# Months"
   ]
  },
  {
   "cell_type": "code",
   "execution_count": 71,
   "id": "85bbbf54",
   "metadata": {},
   "outputs": [
    {
     "name": "stderr",
     "output_type": "stream",
     "text": [
      "C:\\Users\\CHETNA\\anaconda3\\lib\\site-packages\\seaborn\\_decorators.py:36: FutureWarning: Pass the following variable as a keyword arg: x. From version 0.12, the only valid positional argument will be `data`, and passing other arguments without an explicit keyword will result in an error or misinterpretation.\n",
      "  warnings.warn(\n"
     ]
    },
    {
     "data": {
      "text/plain": [
       "<AxesSubplot:xlabel='Months'>"
      ]
     },
     "execution_count": 71,
     "metadata": {},
     "output_type": "execute_result"
    },
    {
     "data": {
      "image/png": "[encoded data removed]",
      "text/plain": [
       "<Figure size 432x288 with 1 Axes>"
      ]
     },
     "metadata": {
      "needs_background": "light"
     },
     "output_type": "display_data"
    }
   ],
   "source": [
    "sns.boxplot(data['Months'])"
   ]
  },
  {
   "cell_type": "markdown",
   "id": "66698b36",
   "metadata": {},
   "source": [
    "# To check the variables that are normally distribute"
   ]
  },
  {
   "cell_type": "code",
   "execution_count": 72,
   "id": "6171cc97",
   "metadata": {},
   "outputs": [
    {
     "data": {
      "image/png": "[encoded data removed]",
      "text/plain": [
       "<Figure size 720x720 with 4 Axes>"
      ]
     },
     "metadata": {
      "needs_background": "light"
     },
     "output_type": "display_data"
    }
   ],
   "source": [
    "#creating subplot with 10*10 figsize\n",
    "fig, axs = plt.subplots(2,2,figsize = (10,10))\n",
    "#plotting subplot\n",
    "sns.histplot(data=data , x = \"Salary\", kde=True, color=\"darkred\", ax = axs[0,0])\n",
    "sns.histplot(data=data , x = \"Base_pay\", kde=True, color=\"olive\", ax= axs[0,1])\n",
    "sns.histplot(data=data , x = \"Bonus\", kde=True, color=\"Black\", ax= axs[1,0])\n",
    "sns.histplot(data=data , x = \"Age\", kde=True, color=\"blue\", ax =axs[1,1])\n",
    "plt.show()"
   ]
  },
  {
   "cell_type": "markdown",
   "id": "1326fd37",
   "metadata": {},
   "source": [
    "#### by using histogram we see that salary,bonus,age,base_pay.this variables are normally distributed we see that bell a shape curve which  means this columna are normally distributed.\n"
   ]
  },
  {
   "cell_type": "code",
   "execution_count": 73,
   "id": "a8ee5a0e",
   "metadata": {},
   "outputs": [
    {
     "data": {
      "text/plain": [
       "<AxesSubplot:xlabel='low', ylabel='Count'>"
      ]
     },
     "execution_count": 73,
     "metadata": {},
     "output_type": "execute_result"
    },
    {
     "data": {
      "image/png": "[encoded data removed]",
      "text/plain": [
       "<Figure size 720x720 with 4 Axes>"
      ]
     },
     "metadata": {
      "needs_background": "light"
     },
     "output_type": "display_data"
    }
   ],
   "source": [
    "#creating subplot with 10*10 figsize\n",
    "fig, axs = plt.subplots(2,2,figsize = (10,10))\n",
    "#plotting subplot\n",
    "sns.histplot(data=data , x = \"openingbalance\", kde=True, color=\"darkred\", ax = axs[0,0])\n",
    "sns.histplot(data=data , x = \"Unit_Price\", kde=True, color=\"olive\", ax= axs[0,1])\n",
    "sns.histplot(data=data , x = \"Unit_Sales\", kde=True, color=\"Black\", ax= axs[1,0])\n",
    "sns.histplot(data=data , x = \"low\", kde=True, color=\"blue\", ax =axs[1,1])"
   ]
  },
  {
   "cell_type": "code",
   "execution_count": 74,
   "id": "9196c92e",
   "metadata": {},
   "outputs": [
    {
     "data": {
      "text/plain": [
       "<AxesSubplot:xlabel='Total_Sales', ylabel='Count'>"
      ]
     },
     "execution_count": 74,
     "metadata": {},
     "output_type": "execute_result"
    },
    {
     "data": {
      "image/png": "[encoded data removed]",
      "text/plain": [
       "<Figure size 720x360 with 2 Axes>"
      ]
     },
     "metadata": {
      "needs_background": "light"
     },
     "output_type": "display_data"
    }
   ],
   "source": [
    "fig, axs = plt.subplots(1,2,figsize = (10,5))\n",
    "sns.histplot(data=data , x = \"closingbalance\", kde=True, color=\"darkred\", ax = axs[0])\n",
    "sns.histplot(data=data , x = \"Total_Sales\", kde=True, color=\"olive\", ax= axs[1])"
   ]
  },
  {
   "cell_type": "markdown",
   "id": "03a1f57d",
   "metadata": {},
   "source": [
    "#### our remaining columns like total_sales,low,openingbalance,closingbalance,unit_price areskewed towards the right."
   ]
  },
  {
   "cell_type": "markdown",
   "id": "2114e38b",
   "metadata": {},
   "source": [
    "# Find out the correlation between variables using spearman rank correlation & explain"
   ]
  },
  {
   "cell_type": "code",
   "execution_count": 75,
   "id": "979abee4",
   "metadata": {},
   "outputs": [
    {
     "data": {
      "text/html": [
       "<div>\n",
       "<style scoped>\n",
       "    .dataframe tbody tr th:only-of-type {\n",
       "        vertical-align: middle;\n",
       "    }\n",
       "\n",
       "    .dataframe tbody tr th {\n",
       "        vertical-align: top;\n",
       "    }\n",
       "\n",
       "    .dataframe thead th {\n",
       "        text-align: right;\n",
       "    }\n",
       "</style>\n",
       "<table border=\"1\" class=\"dataframe\">\n",
       "  <thead>\n",
       "    <tr style=\"text-align: right;\">\n",
       "      <th></th>\n",
       "      <th>Business</th>\n",
       "      <th>Age</th>\n",
       "      <th>Salary</th>\n",
       "      <th>Base_pay</th>\n",
       "      <th>Bonus</th>\n",
       "      <th>Unit_Price</th>\n",
       "      <th>Volume</th>\n",
       "      <th>openingbalance</th>\n",
       "      <th>closingbalance</th>\n",
       "      <th>low</th>\n",
       "      <th>Unit_Sales</th>\n",
       "      <th>Total_Sales</th>\n",
       "      <th>Months</th>\n",
       "    </tr>\n",
       "  </thead>\n",
       "  <tbody>\n",
       "    <tr>\n",
       "      <th>Business</th>\n",
       "      <td>1.000000</td>\n",
       "      <td>-0.013939</td>\n",
       "      <td>-0.025380</td>\n",
       "      <td>-0.025723</td>\n",
       "      <td>-0.025380</td>\n",
       "      <td>-0.019727</td>\n",
       "      <td>-0.002400</td>\n",
       "      <td>0.005442</td>\n",
       "      <td>-0.007514</td>\n",
       "      <td>-0.018293</td>\n",
       "      <td>-0.018363</td>\n",
       "      <td>-0.019652</td>\n",
       "      <td>-0.012282</td>\n",
       "    </tr>\n",
       "    <tr>\n",
       "      <th>Age</th>\n",
       "      <td>-0.013939</td>\n",
       "      <td>1.000000</td>\n",
       "      <td>0.170554</td>\n",
       "      <td>0.156755</td>\n",
       "      <td>0.170554</td>\n",
       "      <td>0.119952</td>\n",
       "      <td>-0.030801</td>\n",
       "      <td>0.064909</td>\n",
       "      <td>0.442958</td>\n",
       "      <td>0.194675</td>\n",
       "      <td>0.198583</td>\n",
       "      <td>0.194195</td>\n",
       "      <td>0.234831</td>\n",
       "    </tr>\n",
       "    <tr>\n",
       "      <th>Salary</th>\n",
       "      <td>-0.025380</td>\n",
       "      <td>0.170554</td>\n",
       "      <td>1.000000</td>\n",
       "      <td>0.991388</td>\n",
       "      <td>1.000000</td>\n",
       "      <td>0.791418</td>\n",
       "      <td>-0.373960</td>\n",
       "      <td>0.135174</td>\n",
       "      <td>0.313412</td>\n",
       "      <td>0.977147</td>\n",
       "      <td>0.977027</td>\n",
       "      <td>0.978362</td>\n",
       "      <td>0.575732</td>\n",
       "    </tr>\n",
       "    <tr>\n",
       "      <th>Base_pay</th>\n",
       "      <td>-0.025723</td>\n",
       "      <td>0.156755</td>\n",
       "      <td>0.991388</td>\n",
       "      <td>1.000000</td>\n",
       "      <td>0.991388</td>\n",
       "      <td>0.786389</td>\n",
       "      <td>-0.373063</td>\n",
       "      <td>0.125762</td>\n",
       "      <td>0.303807</td>\n",
       "      <td>0.969099</td>\n",
       "      <td>0.968798</td>\n",
       "      <td>0.970110</td>\n",
       "      <td>0.566778</td>\n",
       "    </tr>\n",
       "    <tr>\n",
       "      <th>Bonus</th>\n",
       "      <td>-0.025380</td>\n",
       "      <td>0.170554</td>\n",
       "      <td>1.000000</td>\n",
       "      <td>0.991388</td>\n",
       "      <td>1.000000</td>\n",
       "      <td>0.791418</td>\n",
       "      <td>-0.373960</td>\n",
       "      <td>0.135174</td>\n",
       "      <td>0.313412</td>\n",
       "      <td>0.977147</td>\n",
       "      <td>0.977027</td>\n",
       "      <td>0.978362</td>\n",
       "      <td>0.575732</td>\n",
       "    </tr>\n",
       "    <tr>\n",
       "      <th>Unit_Price</th>\n",
       "      <td>-0.019727</td>\n",
       "      <td>0.119952</td>\n",
       "      <td>0.791418</td>\n",
       "      <td>0.786389</td>\n",
       "      <td>0.791418</td>\n",
       "      <td>1.000000</td>\n",
       "      <td>-0.326443</td>\n",
       "      <td>0.096087</td>\n",
       "      <td>0.262548</td>\n",
       "      <td>0.812202</td>\n",
       "      <td>0.811475</td>\n",
       "      <td>0.807871</td>\n",
       "      <td>0.550448</td>\n",
       "    </tr>\n",
       "    <tr>\n",
       "      <th>Volume</th>\n",
       "      <td>-0.002400</td>\n",
       "      <td>-0.030801</td>\n",
       "      <td>-0.373960</td>\n",
       "      <td>-0.373063</td>\n",
       "      <td>-0.373960</td>\n",
       "      <td>-0.326443</td>\n",
       "      <td>1.000000</td>\n",
       "      <td>-0.008825</td>\n",
       "      <td>-0.146499</td>\n",
       "      <td>-0.394198</td>\n",
       "      <td>-0.390567</td>\n",
       "      <td>-0.390661</td>\n",
       "      <td>-0.261445</td>\n",
       "    </tr>\n",
       "    <tr>\n",
       "      <th>openingbalance</th>\n",
       "      <td>0.005442</td>\n",
       "      <td>0.064909</td>\n",
       "      <td>0.135174</td>\n",
       "      <td>0.125762</td>\n",
       "      <td>0.135174</td>\n",
       "      <td>0.096087</td>\n",
       "      <td>-0.008825</td>\n",
       "      <td>1.000000</td>\n",
       "      <td>0.252230</td>\n",
       "      <td>0.171841</td>\n",
       "      <td>0.171851</td>\n",
       "      <td>0.170440</td>\n",
       "      <td>-0.053807</td>\n",
       "    </tr>\n",
       "    <tr>\n",
       "      <th>closingbalance</th>\n",
       "      <td>-0.007514</td>\n",
       "      <td>0.442958</td>\n",
       "      <td>0.313412</td>\n",
       "      <td>0.303807</td>\n",
       "      <td>0.313412</td>\n",
       "      <td>0.262548</td>\n",
       "      <td>-0.146499</td>\n",
       "      <td>0.252230</td>\n",
       "      <td>1.000000</td>\n",
       "      <td>0.344131</td>\n",
       "      <td>0.346207</td>\n",
       "      <td>0.341612</td>\n",
       "      <td>0.365752</td>\n",
       "    </tr>\n",
       "    <tr>\n",
       "      <th>low</th>\n",
       "      <td>-0.018293</td>\n",
       "      <td>0.194675</td>\n",
       "      <td>0.977147</td>\n",
       "      <td>0.969099</td>\n",
       "      <td>0.977147</td>\n",
       "      <td>0.812202</td>\n",
       "      <td>-0.394198</td>\n",
       "      <td>0.171841</td>\n",
       "      <td>0.344131</td>\n",
       "      <td>1.000000</td>\n",
       "      <td>0.999612</td>\n",
       "      <td>0.995904</td>\n",
       "      <td>0.603324</td>\n",
       "    </tr>\n",
       "    <tr>\n",
       "      <th>Unit_Sales</th>\n",
       "      <td>-0.018363</td>\n",
       "      <td>0.198583</td>\n",
       "      <td>0.977027</td>\n",
       "      <td>0.968798</td>\n",
       "      <td>0.977027</td>\n",
       "      <td>0.811475</td>\n",
       "      <td>-0.390567</td>\n",
       "      <td>0.171851</td>\n",
       "      <td>0.346207</td>\n",
       "      <td>0.999612</td>\n",
       "      <td>1.000000</td>\n",
       "      <td>0.995918</td>\n",
       "      <td>0.603779</td>\n",
       "    </tr>\n",
       "    <tr>\n",
       "      <th>Total_Sales</th>\n",
       "      <td>-0.019652</td>\n",
       "      <td>0.194195</td>\n",
       "      <td>0.978362</td>\n",
       "      <td>0.970110</td>\n",
       "      <td>0.978362</td>\n",
       "      <td>0.807871</td>\n",
       "      <td>-0.390661</td>\n",
       "      <td>0.170440</td>\n",
       "      <td>0.341612</td>\n",
       "      <td>0.995904</td>\n",
       "      <td>0.995918</td>\n",
       "      <td>1.000000</td>\n",
       "      <td>0.598991</td>\n",
       "    </tr>\n",
       "    <tr>\n",
       "      <th>Months</th>\n",
       "      <td>-0.012282</td>\n",
       "      <td>0.234831</td>\n",
       "      <td>0.575732</td>\n",
       "      <td>0.566778</td>\n",
       "      <td>0.575732</td>\n",
       "      <td>0.550448</td>\n",
       "      <td>-0.261445</td>\n",
       "      <td>-0.053807</td>\n",
       "      <td>0.365752</td>\n",
       "      <td>0.603324</td>\n",
       "      <td>0.603779</td>\n",
       "      <td>0.598991</td>\n",
       "      <td>1.000000</td>\n",
       "    </tr>\n",
       "  </tbody>\n",
       "</table>\n",
       "</div>"
      ],
      "text/plain": [
       "                Business       Age    Salary  Base_pay     Bonus  Unit_Price  \\\n",
       "Business        1.000000 -0.013939 -0.025380 -0.025723 -0.025380   -0.019727   \n",
       "Age            -0.013939  1.000000  0.170554  0.156755  0.170554    0.119952   \n",
       "Salary         -0.025380  0.170554  1.000000  0.991388  1.000000    0.791418   \n",
       "Base_pay       -0.025723  0.156755  0.991388  1.000000  0.991388    0.786389   \n",
       "Bonus          -0.025380  0.170554  1.000000  0.991388  1.000000    0.791418   \n",
       "Unit_Price     -0.019727  0.119952  0.791418  0.786389  0.791418    1.000000   \n",
       "Volume         -0.002400 -0.030801 -0.373960 -0.373063 -0.373960   -0.326443   \n",
       "openingbalance  0.005442  0.064909  0.135174  0.125762  0.135174    0.096087   \n",
       "closingbalance -0.007514  0.442958  0.313412  0.303807  0.313412    0.262548   \n",
       "low            -0.018293  0.194675  0.977147  0.969099  0.977147    0.812202   \n",
       "Unit_Sales     -0.018363  0.198583  0.977027  0.968798  0.977027    0.811475   \n",
       "Total_Sales    -0.019652  0.194195  0.978362  0.970110  0.978362    0.807871   \n",
       "Months         -0.012282  0.234831  0.575732  0.566778  0.575732    0.550448   \n",
       "\n",
       "                  Volume  openingbalance  closingbalance       low  \\\n",
       "Business       -0.002400        0.005442       -0.007514 -0.018293   \n",
       "Age            -0.030801        0.064909        0.442958  0.194675   \n",
       "Salary         -0.373960        0.135174        0.313412  0.977147   \n",
       "Base_pay       -0.373063        0.125762        0.303807  0.969099   \n",
       "Bonus          -0.373960        0.135174        0.313412  0.977147   \n",
       "Unit_Price     -0.326443        0.096087        0.262548  0.812202   \n",
       "Volume          1.000000       -0.008825       -0.146499 -0.394198   \n",
       "openingbalance -0.008825        1.000000        0.252230  0.171841   \n",
       "closingbalance -0.146499        0.252230        1.000000  0.344131   \n",
       "low            -0.394198        0.171841        0.344131  1.000000   \n",
       "Unit_Sales     -0.390567        0.171851        0.346207  0.999612   \n",
       "Total_Sales    -0.390661        0.170440        0.341612  0.995904   \n",
       "Months         -0.261445       -0.053807        0.365752  0.603324   \n",
       "\n",
       "                Unit_Sales  Total_Sales    Months  \n",
       "Business         -0.018363    -0.019652 -0.012282  \n",
       "Age               0.198583     0.194195  0.234831  \n",
       "Salary            0.977027     0.978362  0.575732  \n",
       "Base_pay          0.968798     0.970110  0.566778  \n",
       "Bonus             0.977027     0.978362  0.575732  \n",
       "Unit_Price        0.811475     0.807871  0.550448  \n",
       "Volume           -0.390567    -0.390661 -0.261445  \n",
       "openingbalance    0.171851     0.170440 -0.053807  \n",
       "closingbalance    0.346207     0.341612  0.365752  \n",
       "low               0.999612     0.995904  0.603324  \n",
       "Unit_Sales        1.000000     0.995918  0.603779  \n",
       "Total_Sales       0.995918     1.000000  0.598991  \n",
       "Months            0.603779     0.598991  1.000000  "
      ]
     },
     "execution_count": 75,
     "metadata": {},
     "output_type": "execute_result"
    }
   ],
   "source": [
    "#finding the correletion between all the column\n",
    "x = data.corr(method='spearman')\n",
    "x"
   ]
  },
  {
   "cell_type": "code",
   "execution_count": 76,
   "id": "5a37bcb7",
   "metadata": {},
   "outputs": [
    {
     "data": {
      "text/plain": [
       "<AxesSubplot:>"
      ]
     },
     "execution_count": 76,
     "metadata": {},
     "output_type": "execute_result"
    },
    {
     "data": {
      "image/png": "[encoded data removed]",
      "text/plain": [
       "<Figure size 720x432 with 2 Axes>"
      ]
     },
     "metadata": {
      "needs_background": "light"
     },
     "output_type": "display_data"
    }
   ],
   "source": [
    "#plotting the heatmap for correletion\n",
    "plt.figure(figsize=(10,6))\n",
    "sns.heatmap(x,annot=True)"
   ]
  },
  {
   "cell_type": "markdown",
   "id": "bfb95602",
   "metadata": {},
   "source": [
    "# relationship between categorical variables and the dependent variable "
   ]
  },
  {
   "cell_type": "code",
   "execution_count": 77,
   "id": "59ad1643",
   "metadata": {},
   "outputs": [
    {
     "data": {
      "text/plain": [
       "<AxesSubplot:title={'center':'Salary vs Gender'}, xlabel='Gender', ylabel='Salary'>"
      ]
     },
     "execution_count": 77,
     "metadata": {},
     "output_type": "execute_result"
    },
    {
     "data": {
      "image/png": "[encoded data removed]",
      "text/plain": [
       "<Figure size 720x648 with 1 Axes>"
      ]
     },
     "metadata": {
      "needs_background": "light"
     },
     "output_type": "display_data"
    }
   ],
   "source": [
    "plt.figure(figsize=(10,9))\n",
    "plt.title(\"Salary vs Gender\")\n",
    "sns.boxplot(data= data, x=\"Gender\",y=\"Salary\")"
   ]
  },
  {
   "cell_type": "code",
   "execution_count": 78,
   "id": "d9f2e9ab",
   "metadata": {},
   "outputs": [
    {
     "data": {
      "text/plain": [
       "<AxesSubplot:title={'center':'Salary vs Dependancies'}, xlabel='Dependancies', ylabel='Salary'>"
      ]
     },
     "execution_count": 78,
     "metadata": {},
     "output_type": "execute_result"
    },
    {
     "data": {
      "image/png": "[encoded data removed]",
      "text/plain": [
       "<Figure size 720x720 with 1 Axes>"
      ]
     },
     "metadata": {
      "needs_background": "light"
     },
     "output_type": "display_data"
    }
   ],
   "source": [
    "plt.figure(figsize=(10,10))\n",
    "plt.title(\"Salary vs Dependancies\")\n",
    "sns.boxplot(data= data, x=\"Dependancies\",y=\"Salary\")"
   ]
  },
  {
   "cell_type": "code",
   "execution_count": 79,
   "id": "e10aa3b4",
   "metadata": {},
   "outputs": [
    {
     "data": {
      "text/plain": [
       "<AxesSubplot:title={'center':'Salary vs Calls'}, xlabel='Calls', ylabel='Salary'>"
      ]
     },
     "execution_count": 79,
     "metadata": {},
     "output_type": "execute_result"
    },
    {
     "data": {
      "image/png": "[encoded data removed]",
      "text/plain": [
       "<Figure size 720x720 with 1 Axes>"
      ]
     },
     "metadata": {
      "needs_background": "light"
     },
     "output_type": "display_data"
    }
   ],
   "source": [
    "plt.figure(figsize=(10,10))\n",
    "plt.title(\"Salary vs Calls\")\n",
    "sns.boxplot(data= data, x=\"Calls\",y=\"Salary\")"
   ]
  },
  {
   "cell_type": "code",
   "execution_count": 80,
   "id": "613d6b16",
   "metadata": {},
   "outputs": [
    {
     "data": {
      "text/plain": [
       "<AxesSubplot:title={'center':'Salary vs Type'}, xlabel='Type', ylabel='Salary'>"
      ]
     },
     "execution_count": 80,
     "metadata": {},
     "output_type": "execute_result"
    },
    {
     "data": {
      "image/png": "[encoded data removed]",
      "text/plain": [
       "<Figure size 720x720 with 1 Axes>"
      ]
     },
     "metadata": {
      "needs_background": "light"
     },
     "output_type": "display_data"
    }
   ],
   "source": [
    "plt.figure(figsize=(10,10))\n",
    "plt.title(\"Salary vs Type\")\n",
    "sns.boxplot(data= data, x=\"Type\",y=\"Salary\")"
   ]
  },
  {
   "cell_type": "code",
   "execution_count": 81,
   "id": "80bdbc39",
   "metadata": {},
   "outputs": [
    {
     "data": {
      "text/plain": [
       "<AxesSubplot:title={'center':'Salary vs Billing'}, xlabel='Billing', ylabel='Salary'>"
      ]
     },
     "execution_count": 81,
     "metadata": {},
     "output_type": "execute_result"
    },
    {
     "data": {
      "image/png": "[encoded data removed]",
      "text/plain": [
       "<Figure size 720x720 with 1 Axes>"
      ]
     },
     "metadata": {
      "needs_background": "light"
     },
     "output_type": "display_data"
    }
   ],
   "source": [
    "plt.figure(figsize=(10,10))\n",
    "plt.title(\"Salary vs Billing\")\n",
    "sns.boxplot(data= data, x=\"Billing\",y=\"Salary\")"
   ]
  },
  {
   "cell_type": "code",
   "execution_count": 82,
   "id": "7dbe1906",
   "metadata": {},
   "outputs": [
    {
     "data": {
      "text/plain": [
       "<AxesSubplot:title={'center':'Salary vs Rating'}, xlabel='Rating', ylabel='Salary'>"
      ]
     },
     "execution_count": 82,
     "metadata": {},
     "output_type": "execute_result"
    },
    {
     "data": {
      "image/png": "[encoded data removed]",
      "text/plain": [
       "<Figure size 720x720 with 1 Axes>"
      ]
     },
     "metadata": {
      "needs_background": "light"
     },
     "output_type": "display_data"
    }
   ],
   "source": [
    "plt.figure(figsize=(10,10))\n",
    "plt.title(\"Salary vs Rating\")\n",
    "sns.boxplot(data= data, x=\"Rating\",y=\"Salary\")"
   ]
  },
  {
   "cell_type": "code",
   "execution_count": 83,
   "id": "9ce6c816",
   "metadata": {},
   "outputs": [
    {
     "data": {
      "text/plain": [
       "<AxesSubplot:title={'center':'Salary vs Education'}, xlabel='Education', ylabel='Salary'>"
      ]
     },
     "execution_count": 83,
     "metadata": {},
     "output_type": "execute_result"
    },
    {
     "data": {
      "image/png": "[encoded data removed]",
      "text/plain": [
       "<Figure size 720x720 with 1 Axes>"
      ]
     },
     "metadata": {
      "needs_background": "light"
     },
     "output_type": "display_data"
    }
   ],
   "source": [
    "plt.figure(figsize=(10,10))\n",
    "plt.title(\"Salary vs Education\")\n",
    "sns.boxplot(data= data, x=\"Education\",y=\"Salary\")"
   ]
  },
  {
   "cell_type": "markdown",
   "id": "3a45b248",
   "metadata": {},
   "source": [
    "# Feature engineering"
   ]
  },
  {
   "cell_type": "code",
   "execution_count": 84,
   "id": "95cff868",
   "metadata": {},
   "outputs": [],
   "source": [
    "#here performing labelEncoder using LabelEncoder to convert categorical variables into numerical variables.\n",
    "from sklearn.preprocessing import LabelEncoder\n",
    "labelEncoder= LabelEncoder()\n",
    "data['Education']=labelEncoder.fit_transform(data['Education'].values)\n",
    "data['Dependancies']=labelEncoder.fit_transform(data['Dependancies'].values)\n",
    "data['Calls']=labelEncoder.fit_transform(data['Calls'].values)\n",
    "data['Billing']=labelEncoder.fit_transform(data['Billing'].values)\n",
    "data['Type']=labelEncoder.fit_transform(data['Type'].values)\n",
    "data['Rating']=labelEncoder.fit_transform(data['Rating'].values)\n",
    "data['Gender']=labelEncoder.fit_transform(data['Gender'].values)"
   ]
  },
  {
   "cell_type": "code",
   "execution_count": 85,
   "id": "69f91f1a",
   "metadata": {},
   "outputs": [
    {
     "name": "stdout",
     "output_type": "stream",
     "text": [
      "<class 'pandas.core.frame.DataFrame'>\n",
      "RangeIndex: 5000 entries, 0 to 4999\n",
      "Data columns (total 20 columns):\n",
      " #   Column          Non-Null Count  Dtype  \n",
      "---  ------          --------------  -----  \n",
      " 0   Gender          5000 non-null   int32  \n",
      " 1   Business        5000 non-null   int64  \n",
      " 2   Dependancies    5000 non-null   int32  \n",
      " 3   Calls           5000 non-null   int32  \n",
      " 4   Type            5000 non-null   int32  \n",
      " 5   Billing         5000 non-null   int32  \n",
      " 6   Rating          5000 non-null   int32  \n",
      " 7   Age             4885 non-null   float64\n",
      " 8   Salary          5000 non-null   float64\n",
      " 9   Base_pay        5000 non-null   float64\n",
      " 10  Bonus           5000 non-null   float64\n",
      " 11  Unit_Price      5000 non-null   float64\n",
      " 12  Volume          5000 non-null   float64\n",
      " 13  openingbalance  5000 non-null   float64\n",
      " 14  closingbalance  5000 non-null   float64\n",
      " 15  low             5000 non-null   float64\n",
      " 16  Unit_Sales      5000 non-null   float64\n",
      " 17  Total_Sales     5000 non-null   float64\n",
      " 18  Months          5000 non-null   int64  \n",
      " 19  Education       5000 non-null   int32  \n",
      "dtypes: float64(11), int32(7), int64(2)\n",
      "memory usage: 644.7 KB\n"
     ]
    }
   ],
   "source": [
    "data.info()"
   ]
  },
  {
   "cell_type": "code",
   "execution_count": 86,
   "id": "35af9114",
   "metadata": {},
   "outputs": [],
   "source": [
    "#deleting same unused columns\n",
    "data1=data.drop([\"Business\",\"Age\",\"Calls\",\"Type\",\"Billing\",\"Dependancies\",\"Rating\",\"openingbalance\",\"closingbalance\",\"Volume\"],axis=1)"
   ]
  },
  {
   "cell_type": "code",
   "execution_count": 87,
   "id": "242d7e69",
   "metadata": {},
   "outputs": [
    {
     "name": "stdout",
     "output_type": "stream",
     "text": [
      "[[-1.01126343 -0.43643578 -0.64718021 ... -0.99397986 -1.30650535\n",
      "  -0.54716906]\n",
      " [-1.01126343 -0.43643578 -0.64718021 ... -0.99395778 -1.30650535\n",
      "  -0.54716906]\n",
      " [ 0.98886202 -0.43643578 -0.64718021 ... -0.99393569 -1.30650535\n",
      "  -0.54716906]\n",
      " ...\n",
      " [ 0.98886202 -0.43643578 -0.64718021 ... -0.38593812  1.61625276\n",
      "   0.81904582]\n",
      " [ 0.98886202  2.29128785 -0.64718021 ... -0.38593812  1.61625276\n",
      "   0.81904582]\n",
      " [ 0.98886202 -0.43643578  1.54516468 ... -0.38593812  1.61625276\n",
      "   0.81904582]]\n"
     ]
    }
   ],
   "source": [
    "#standardization\n",
    "from numpy import asarray\n",
    "from sklearn.preprocessing import StandardScaler\n",
    "scaler=StandardScaler()\n",
    "#tranform data\n",
    "scaled=scaler.fit_transform(data)\n",
    "print(scaled)"
   ]
  },
  {
   "cell_type": "markdown",
   "id": "94474500",
   "metadata": {},
   "source": [
    "# Model building"
   ]
  },
  {
   "cell_type": "code",
   "execution_count": 88,
   "id": "7297f38f",
   "metadata": {},
   "outputs": [],
   "source": [
    "from sklearn.model_selection import train_test_split\n",
    "x = data1.drop('Salary', axis = 1)\n",
    "y = data1['Salary']\n",
    "x_train, x_test, y_train, y_test = train_test_split(x, y, test_size = 0.33, random_state = 1)"
   ]
  },
  {
   "cell_type": "code",
   "execution_count": 89,
   "id": "a2f41604",
   "metadata": {},
   "outputs": [
    {
     "data": {
      "text/plain": [
       "(1650, 9)"
      ]
     },
     "execution_count": 89,
     "metadata": {},
     "output_type": "execute_result"
    }
   ],
   "source": [
    "x_test.shape"
   ]
  },
  {
   "cell_type": "code",
   "execution_count": 90,
   "id": "3ad25194",
   "metadata": {},
   "outputs": [
    {
     "data": {
      "text/plain": [
       "(3350, 9)"
      ]
     },
     "execution_count": 90,
     "metadata": {},
     "output_type": "execute_result"
    }
   ],
   "source": [
    "x_train.shape"
   ]
  },
  {
   "cell_type": "code",
   "execution_count": 91,
   "id": "7603bcc8",
   "metadata": {},
   "outputs": [
    {
     "data": {
      "text/plain": [
       "(3350,)"
      ]
     },
     "execution_count": 91,
     "metadata": {},
     "output_type": "execute_result"
    }
   ],
   "source": [
    "y_train.shape"
   ]
  },
  {
   "cell_type": "code",
   "execution_count": 92,
   "id": "417da0ab",
   "metadata": {},
   "outputs": [
    {
     "data": {
      "text/plain": [
       "(1650,)"
      ]
     },
     "execution_count": 92,
     "metadata": {},
     "output_type": "execute_result"
    }
   ],
   "source": [
    "y_test.shape"
   ]
  },
  {
   "cell_type": "markdown",
   "id": "25f3f750",
   "metadata": {},
   "source": [
    "# Decision TreeRegressor"
   ]
  },
  {
   "cell_type": "code",
   "execution_count": 93,
   "id": "74f17e05",
   "metadata": {},
   "outputs": [],
   "source": [
    "from sklearn.tree import DecisionTreeRegressor #import the regressor\n",
    "from sklearn import metrics  #imporing metrics from sklearn library\n",
    "from sklearn.metrics import r2_score #importing r2 from sklearn library\n",
    "\n",
    "regressor = DecisionTreeRegressor(max_depth=3) #create a decision with x and y data\n",
    "\n"
   ]
  },
  {
   "cell_type": "code",
   "execution_count": 94,
   "id": "ea961dd5",
   "metadata": {},
   "outputs": [
    {
     "data": {
      "text/plain": [
       "DecisionTreeRegressor(max_depth=3)"
      ]
     },
     "execution_count": 94,
     "metadata": {},
     "output_type": "execute_result"
    }
   ],
   "source": [
    "regressor.fit(x_train,y_train) "
   ]
  },
  {
   "cell_type": "code",
   "execution_count": 95,
   "id": "1a7b0412",
   "metadata": {},
   "outputs": [
    {
     "name": "stdout",
     "output_type": "stream",
     "text": [
      "0.9695577026758961\n",
      "0.9686288314230588\n"
     ]
    }
   ],
   "source": [
    "print(regressor.score(x_train,y_train))\n",
    "print(regressor.score(x_test,y_test))"
   ]
  },
  {
   "cell_type": "code",
   "execution_count": 96,
   "id": "744863c5",
   "metadata": {},
   "outputs": [
    {
     "name": "stdout",
     "output_type": "stream",
     "text": [
      "r2 score for Training : 0.9695577026758961\n",
      "mean absolute Error for Training: 3297.625537265636\n",
      "mean Squared Error for Training: 3297.625537265636\n",
      " Root mean Squared Error for Training: 57.42495570103329\n",
      "\n",
      "r2 score for Training : 0.9686288314230588\n",
      "r2 score for Testing : (2764    103773.692200\n",
      "4767    139852.254700\n",
      "3814    117911.117600\n",
      "3499    113627.402700\n",
      "2735    103405.937700\n",
      "            ...      \n",
      "4645    135335.672000\n",
      "50      100799.611045\n",
      "2796    104238.028600\n",
      "2883    105170.728400\n",
      "4428    129122.655300\n",
      "Name: Salary, Length: 1650, dtype: float64, array([106797.57659689, 117664.21186352, 117664.21186352, ...,\n",
      "       106797.57659689, 106797.57659689, 130475.88857205]))\n",
      "mean absolute Error for Testing: 3371.971713872783\n",
      "mean Squared Error for Testing: 3371.971713872783\n",
      " Root mean Squared Error for Testing: 58.06868100682831\n"
     ]
    }
   ],
   "source": [
    "\n",
    "y_pred=regressor.predict(x_train) #predication of y_train\n",
    "print('r2 score for Training :',r2_score(y_train,y_pred))\n",
    "print('mean absolute Error for Training:' , metrics.mean_absolute_error(y_train,y_pred))\n",
    "print('mean Squared Error for Training:' , metrics.mean_absolute_error(y_train,y_pred))\n",
    "print(' Root mean Squared Error for Training:', np.sqrt(metrics.mean_absolute_error(y_train,y_pred)))\n",
    "print()\n",
    "                                                         \n",
    "y_pred=regressor.predict(x_test)                      \n",
    "print('r2 score for Training :',r2_score(y_test,y_pred))\n",
    "print('r2 score for Testing :',(y_test,y_pred)) #print of r2 score for test\n",
    "print('mean absolute Error for Testing:',metrics.mean_absolute_error(y_test,y_pred)) #print Mse value for test\n",
    "print('mean Squared Error for Testing:',metrics.mean_absolute_error(y_test,y_pred))#print Mse value for test\n",
    "print(' Root mean Squared Error for Testing:',np.sqrt(metrics.mean_absolute_error(y_test,y_pred)))\n",
    "    "
   ]
  },
  {
   "cell_type": "code",
   "execution_count": 97,
   "id": "3efb9a96",
   "metadata": {},
   "outputs": [
    {
     "data": {
      "image/png": "[encoded data removed]",
      "text/plain": [
       "<Figure size 1080x360 with 1 Axes>"
      ]
     },
     "metadata": {
      "needs_background": "light"
     },
     "output_type": "display_data"
    }
   ],
   "source": [
    "from sklearn import tree\n",
    "plt.figure(figsize=(15,5))\n",
    "tree.plot_tree(regressor,feature_names=x_train.columns,max_depth=3,filled=True)\n",
    "plt.show()"
   ]
  },
  {
   "cell_type": "markdown",
   "id": "39f4c81f",
   "metadata": {},
   "source": [
    "# Cross Validation"
   ]
  },
  {
   "cell_type": "code",
   "execution_count": 98,
   "id": "bf059758",
   "metadata": {},
   "outputs": [
    {
     "name": "stdout",
     "output_type": "stream",
     "text": [
      "[0.96758393 0.96934091 0.96891377 0.96676098 0.96996445 0.96865162\n",
      " 0.96874712 0.97027863 0.96931206 0.96809249]\n",
      "0.9687645940512327\n"
     ]
    }
   ],
   "source": [
    "from sklearn.model_selection import ShuffleSplit\n",
    "model= DecisionTreeRegressor(max_depth=3)\n",
    "ssplit=ShuffleSplit(n_splits=10,test_size=0.20)\n",
    "from sklearn.model_selection import cross_val_score\n",
    "results=cross_val_score(model,x,y,cv=ssplit)\n",
    "print(results)\n",
    "print(np.mean(results))"
   ]
  },
  {
   "cell_type": "code",
   "execution_count": 99,
   "id": "fa17564b",
   "metadata": {},
   "outputs": [
    {
     "ename": "SyntaxError",
     "evalue": "invalid syntax (<ipython-input-99-3aac4e542e20>, line 1)",
     "output_type": "error",
     "traceback": [
      "\u001b[1;36m  File \u001b[1;32m\"<ipython-input-99-3aac4e542e20>\"\u001b[1;36m, line \u001b[1;32m1\u001b[0m\n\u001b[1;33m    An accuracy score for Decision TreeRegressor is 96.83%\u001b[0m\n\u001b[1;37m       ^\u001b[0m\n\u001b[1;31mSyntaxError\u001b[0m\u001b[1;31m:\u001b[0m invalid syntax\n"
     ]
    }
   ],
   "source": [
    "An accuracy score for Decision TreeRegressor is 96.83%"
   ]
  },
  {
   "cell_type": "markdown",
   "id": "9e650598",
   "metadata": {},
   "source": [
    "# Random Forest Regressor"
   ]
  },
  {
   "cell_type": "code",
   "execution_count": 100,
   "id": "01323a4f",
   "metadata": {},
   "outputs": [
    {
     "data": {
      "text/plain": [
       "RandomForestRegressor(random_state=0)"
      ]
     },
     "execution_count": 100,
     "metadata": {},
     "output_type": "execute_result"
    }
   ],
   "source": [
    "from sklearn.ensemble import RandomForestRegressor #import the regressor\n",
    "from sklearn import metrics  #imporing metrics from sklearn library\n",
    "from sklearn.metrics import r2_score #importing r2 from sklearn library\n",
    "\n",
    "regressor = RandomForestRegressor(n_estimators = 100,random_state=0) #create regressor object\n",
    "regressor.fit(x_train,y_train)\n",
    " \n"
   ]
  },
  {
   "cell_type": "code",
   "execution_count": 101,
   "id": "a420a5b0",
   "metadata": {},
   "outputs": [
    {
     "name": "stdout",
     "output_type": "stream",
     "text": [
      "r2 score for Training : 0.9999851300548622\n",
      "mean absolute Error for Training: 10.92143011732904\n",
      "mean Squared Error for Training: 10.92143011732904\n",
      " Root mean Squared Error for Training: 3.3047587078830793\n",
      "\n",
      "r2 score for Training : 0.9998393408466659\n",
      "r2 score for Testing : (2764    103773.692200\n",
      "4767    139852.254700\n",
      "3814    117911.117600\n",
      "3499    113627.402700\n",
      "2735    103405.937700\n",
      "            ...      \n",
      "4645    135335.672000\n",
      "50      100799.611045\n",
      "2796    104238.028600\n",
      "2883    105170.728400\n",
      "4428    129122.655300\n",
      "Name: Salary, Length: 1650, dtype: float64, array([103767.916871, 133450.231318, 117910.425729, ..., 104226.09182 ,\n",
      "       105167.452927, 129120.750415]))\n",
      "mean absolute Error for Testing: 30.658838176931965\n",
      "mean Squared Error for Testing: 30.658838176931965\n",
      " Root mean Squared Error for Testing: 5.537042367269007\n"
     ]
    }
   ],
   "source": [
    "y_pred=regressor.predict(x_train) #predication of y_train\n",
    "print('r2 score for Training :',r2_score(y_train,y_pred))\n",
    "print('mean absolute Error for Training:' , metrics.mean_absolute_error(y_train,y_pred))\n",
    "print('mean Squared Error for Training:' , metrics.mean_absolute_error(y_train,y_pred))\n",
    "print(' Root mean Squared Error for Training:', np.sqrt(metrics.mean_absolute_error(y_train,y_pred)))\n",
    "print()\n",
    "                                                         \n",
    "y_pred=regressor.predict(x_test)                      \n",
    "print('r2 score for Training :',r2_score(y_test,y_pred))\n",
    "print('r2 score for Testing :',(y_test,y_pred)) #print of r2 score for test\n",
    "print('mean absolute Error for Testing:',metrics.mean_absolute_error(y_test,y_pred)) #print Mse value for test\n",
    "print('mean Squared Error for Testing:',metrics.mean_absolute_error(y_test,y_pred))#print Mse value for test\n",
    "print(' Root mean Squared Error for Testing:',np.sqrt(metrics.mean_absolute_error(y_test,y_pred)))\n",
    "    "
   ]
  },
  {
   "cell_type": "markdown",
   "id": "9b57af77",
   "metadata": {},
   "source": [
    "# Cross Validation"
   ]
  },
  {
   "cell_type": "code",
   "execution_count": 102,
   "id": "fa896e96",
   "metadata": {},
   "outputs": [
    {
     "name": "stdout",
     "output_type": "stream",
     "text": [
      "[0.99992139 0.999809   0.99991855 0.99993235 0.99992614 0.99991409\n",
      " 0.99975258 0.99989191 0.99988946 0.99993628]\n",
      "0.9998891764357276\n"
     ]
    }
   ],
   "source": [
    "from sklearn.model_selection import ShuffleSplit\n",
    "model= RandomForestRegressor()\n",
    "ssplit=ShuffleSplit(n_splits=10,test_size=0.20)\n",
    "from sklearn.model_selection import cross_val_score\n",
    "results=cross_val_score(model,x,y,cv=ssplit)\n",
    "print(results)\n",
    "print(np.mean(results))"
   ]
  },
  {
   "cell_type": "code",
   "execution_count": null,
   "id": "be3cdd97",
   "metadata": {},
   "outputs": [],
   "source": [
    "An accuracy score for RandomForestRegressor is 99%"
   ]
  },
  {
   "cell_type": "markdown",
   "id": "1acef733",
   "metadata": {},
   "source": [
    "# Linear Regression modal"
   ]
  },
  {
   "cell_type": "code",
   "execution_count": 103,
   "id": "806c6f20",
   "metadata": {},
   "outputs": [
    {
     "data": {
      "text/plain": [
       "LinearRegression()"
      ]
     },
     "execution_count": 103,
     "metadata": {},
     "output_type": "execute_result"
    }
   ],
   "source": [
    "from sklearn.linear_model import LinearRegression\n",
    "from sklearn import metrics  #imporing metrics from sklearn library\n",
    "from sklearn.metrics import r2_score \n",
    "lr= LinearRegression() #creating an object of LinearRegression\n",
    "lr.fit(x_train,y_train) #filling the training data"
   ]
  },
  {
   "cell_type": "code",
   "execution_count": 104,
   "id": "d64f7ecd",
   "metadata": {},
   "outputs": [
    {
     "data": {
      "text/plain": [
       "LinearRegression()"
      ]
     },
     "execution_count": 104,
     "metadata": {},
     "output_type": "execute_result"
    }
   ],
   "source": [
    "lr.fit(x_train,y_train)"
   ]
  },
  {
   "cell_type": "code",
   "execution_count": 105,
   "id": "72d69dce",
   "metadata": {},
   "outputs": [
    {
     "name": "stdout",
     "output_type": "stream",
     "text": [
      "1.0\n",
      "1.0\n"
     ]
    }
   ],
   "source": [
    "print(lr.score(x_train,y_train))\n",
    "print(lr.score(x_test,y_test))"
   ]
  },
  {
   "cell_type": "code",
   "execution_count": 106,
   "id": "225f062e",
   "metadata": {},
   "outputs": [
    {
     "name": "stdout",
     "output_type": "stream",
     "text": [
      "r2 score for Training : 0.9999851300548622\n",
      "mean absolute Error for Training: 10.92143011732904\n",
      "mean Squared Error for Training: 10.92143011732904\n",
      " Root mean Squared Error for Training: 3.3047587078830793\n",
      "\n",
      "r2 score for Training : 0.9998393408466659\n",
      "r2 score for Testing : (2764    103773.692200\n",
      "4767    139852.254700\n",
      "3814    117911.117600\n",
      "3499    113627.402700\n",
      "2735    103405.937700\n",
      "            ...      \n",
      "4645    135335.672000\n",
      "50      100799.611045\n",
      "2796    104238.028600\n",
      "2883    105170.728400\n",
      "4428    129122.655300\n",
      "Name: Salary, Length: 1650, dtype: float64, array([103767.916871, 133450.231318, 117910.425729, ..., 104226.09182 ,\n",
      "       105167.452927, 129120.750415]))\n",
      "mean absolute Error for Testing: 30.658838176931965\n",
      "mean Squared Error for Testing: 30.658838176931965\n",
      " Root mean Squared Error for Testing: 5.537042367269007\n"
     ]
    }
   ],
   "source": [
    "y_pred=regressor.predict(x_train) #predication of y_train\n",
    "print('r2 score for Training :',r2_score(y_train,y_pred))\n",
    "print('mean absolute Error for Training:' , metrics.mean_absolute_error(y_train,y_pred))\n",
    "print('mean Squared Error for Training:' , metrics.mean_absolute_error(y_train,y_pred))\n",
    "print(' Root mean Squared Error for Training:', np.sqrt(metrics.mean_absolute_error(y_train,y_pred)))\n",
    "print()\n",
    "                                                         \n",
    "y_pred=regressor.predict(x_test)                      \n",
    "print('r2 score for Training :',r2_score(y_test,y_pred))\n",
    "print('r2 score for Testing :',(y_test,y_pred)) #print of r2 score for test\n",
    "print('mean absolute Error for Testing:',metrics.mean_absolute_error(y_test,y_pred)) #print Mse value for test\n",
    "print('mean Squared Error for Testing:',metrics.mean_absolute_error(y_test,y_pred))#print Mse value for test\n",
    "print(' Root mean Squared Error for Testing:',np.sqrt(metrics.mean_absolute_error(y_test,y_pred)))\n",
    "    "
   ]
  },
  {
   "cell_type": "markdown",
   "id": "829d3eab",
   "metadata": {},
   "source": [
    "# Cross Validation"
   ]
  },
  {
   "cell_type": "code",
   "execution_count": 107,
   "id": "86c6ae27",
   "metadata": {},
   "outputs": [
    {
     "name": "stdout",
     "output_type": "stream",
     "text": [
      "[1. 1. 1. 1. 1. 1. 1. 1. 1. 1.]\n",
      "1.0\n"
     ]
    }
   ],
   "source": [
    "from sklearn.model_selection import ShuffleSplit\n",
    "model= LinearRegression()\n",
    "ssplit=ShuffleSplit(n_splits=10,test_size=0.20)\n",
    "from sklearn.model_selection import cross_val_score\n",
    "results=cross_val_score(model,x,y,cv=ssplit)\n",
    "print(results)\n",
    "print(np.mean(results))"
   ]
  },
  {
   "cell_type": "markdown",
   "id": "f4b31d57",
   "metadata": {},
   "source": [
    "#### An accuracy score for LinearRegression is 100%"
   ]
  },
  {
   "cell_type": "markdown",
   "id": "0b7e0605",
   "metadata": {},
   "source": [
    "# Conclusion"
   ]
  },
  {
   "cell_type": "code",
   "execution_count": null,
   "id": "8902a247",
   "metadata": {},
   "outputs": [],
   "source": [
    "Salary prediction is done by various models.Linear regression gives the better prediciton."
   ]
  },
  {
   "cell_type": "code",
   "execution_count": null,
   "id": "c117169d",
   "metadata": {},
   "outputs": [],
   "source": []
  }
 ],
 "metadata": {
  "kernelspec": {
   "display_name": "Python 3",
   "language": "python",
   "name": "python3"
  },
  "language_info": {
   "codemirror_mode": {
    "name": "ipython",
    "version": 3
   },
   "file_extension": ".py",
   "mimetype": "text/x-python",
   "name": "python",
   "nbconvert_exporter": "python",
   "pygments_lexer": "ipython3",
   "version": "3.8.8"
  }
 },
 "nbformat": 4,
 "nbformat_minor": 5
}
